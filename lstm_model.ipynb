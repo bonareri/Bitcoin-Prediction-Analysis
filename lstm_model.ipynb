{
  "nbformat": 4,
  "nbformat_minor": 0,
  "metadata": {
    "colab": {
      "provenance": [],
      "gpuType": "T4",
      "authorship_tag": "ABX9TyPGMvX8W8xzUPzdkQqiU+UU",
      "include_colab_link": true
    },
    "kernelspec": {
      "name": "python3",
      "display_name": "Python 3"
    },
    "language_info": {
      "name": "python"
    },
    "accelerator": "GPU"
  },
  "cells": [
    {
      "cell_type": "markdown",
      "metadata": {
        "id": "view-in-github",
        "colab_type": "text"
      },
      "source": [
        "<a href=\"https://colab.research.google.com/github/bonareri/Bitcoin-Prediction-Analysis/blob/main/lstm_model.ipynb\" target=\"_parent\"><img src=\"https://colab.research.google.com/assets/colab-badge.svg\" alt=\"Open In Colab\"/></a>"
      ]
    },
    {
      "cell_type": "markdown",
      "source": [
        "## 1. Understanding the Dataset"
      ],
      "metadata": {
        "id": "mbm12DUi6ujn"
      }
    },
    {
      "cell_type": "code",
      "execution_count": 83,
      "metadata": {
        "id": "pPcUW1-BFSss"
      },
      "outputs": [],
      "source": [
        "#Importing necesseray libraries\n",
        "import pandas as pd\n",
        "import numpy as np\n",
        "import seaborn as sns\n",
        "import matplotlib.pyplot as plt\n",
        "import math\n",
        "import datetime as dt\n",
        "from sklearn.metrics import mean_squared_error, mean_absolute_error\n",
        "\n",
        "import keras_tuner as kt\n",
        "import tensorflow as tf\n",
        "from sklearn.preprocessing import MinMaxScaler\n",
        "from tensorflow.keras.models import Sequential\n",
        "from tensorflow.keras.optimizers import Adam\n",
        "from tensorflow.keras.layers import LSTM, Dense, Dropout, BatchNormalization\n",
        "from tensorflow.keras.callbacks import EarlyStopping, ReduceLROnPlateau\n",
        "from sklearn.model_selection import train_test_split\n",
        "from tensorflow.keras.regularizers import l2\n",
        "# Set the Seaborn style for all plots\n",
        "sns.set_style(\"darkgrid\")"
      ]
    },
    {
      "cell_type": "code",
      "source": [
        "# Load preprocessed data\n",
        "df = pd.read_csv('/content/bitcoin_analysis_engineered.csv', index_col='Date', parse_dates=True)\n",
        "\n",
        "# Display the first few rows of the data\n",
        "df.head()"
      ],
      "metadata": {
        "colab": {
          "base_uri": "https://localhost:8080/",
          "height": 344
        },
        "id": "Xd1yJyjYg6fT",
        "outputId": "dffab11c-26ae-499e-d4ad-0b5d6932acba"
      },
      "execution_count": 88,
      "outputs": [
        {
          "output_type": "execute_result",
          "data": {
            "text/plain": [
              "                  Open        High         Low       Close    Volume  \\\n",
              "Date                                                                   \n",
              "2014-10-06  320.389008  345.134003  302.559998  330.079010  79011800   \n",
              "2014-10-07  330.584015  339.247009  320.481995  336.187012  49199900   \n",
              "2014-10-08  336.115997  354.364014  327.187988  352.940002  54736300   \n",
              "2014-10-09  352.747986  382.726013  347.687012  365.026001  83641104   \n",
              "2014-10-10  364.687012  375.066986  352.963013  361.562012  43665700   \n",
              "\n",
              "              Market Cap     Coin  Year  Month  Day  Quarter  Weekday  \\\n",
              "Date                                                                    \n",
              "2014-10-06  6.542676e+09  Bitcoin  2014     10    6        4        0   \n",
              "2014-10-07  6.663746e+09  Bitcoin  2014     10    7        4        1   \n",
              "2014-10-08  6.995816e+09  Bitcoin  2014     10    8        4        2   \n",
              "2014-10-09  7.235380e+09  Bitcoin  2014     10    9        4        3   \n",
              "2014-10-10  7.166718e+09  Bitcoin  2014     10   10        4        4   \n",
              "\n",
              "            Daily_Return  Log_Return       EMA_7      EMA_30     RSI_14  \\\n",
              "Date                                                                      \n",
              "2014-10-06      0.029856    0.029419  349.294184  398.996478  30.138935   \n",
              "2014-10-07      0.018505    0.018336  346.017391  394.944255  17.642549   \n",
              "2014-10-08      0.049832    0.048630  347.748044  392.234303  27.775351   \n",
              "2014-10-09      0.034244    0.033671  352.067533  390.478929  35.319233   \n",
              "2014-10-10     -0.009490   -0.009535  354.441153  388.613321  36.159745   \n",
              "\n",
              "                 MA_20    Upper_BB    Lower_BB  \n",
              "Date                                            \n",
              "2014-10-06  389.910399  461.027732  318.793066  \n",
              "2014-10-07  383.853049  451.334641  316.371457  \n",
              "2014-10-08  380.278049  446.265429  314.290669  \n",
              "2014-10-09  378.789549  444.741094  312.838004  \n",
              "2014-10-10  376.422450  441.211135  311.633765  "
            ],
            "text/html": [
              "\n",
              "  <div id=\"df-aba597e2-6f87-4080-ac29-347abecbc6ef\" class=\"colab-df-container\">\n",
              "    <div>\n",
              "<style scoped>\n",
              "    .dataframe tbody tr th:only-of-type {\n",
              "        vertical-align: middle;\n",
              "    }\n",
              "\n",
              "    .dataframe tbody tr th {\n",
              "        vertical-align: top;\n",
              "    }\n",
              "\n",
              "    .dataframe thead th {\n",
              "        text-align: right;\n",
              "    }\n",
              "</style>\n",
              "<table border=\"1\" class=\"dataframe\">\n",
              "  <thead>\n",
              "    <tr style=\"text-align: right;\">\n",
              "      <th></th>\n",
              "      <th>Open</th>\n",
              "      <th>High</th>\n",
              "      <th>Low</th>\n",
              "      <th>Close</th>\n",
              "      <th>Volume</th>\n",
              "      <th>Market Cap</th>\n",
              "      <th>Coin</th>\n",
              "      <th>Year</th>\n",
              "      <th>Month</th>\n",
              "      <th>Day</th>\n",
              "      <th>Quarter</th>\n",
              "      <th>Weekday</th>\n",
              "      <th>Daily_Return</th>\n",
              "      <th>Log_Return</th>\n",
              "      <th>EMA_7</th>\n",
              "      <th>EMA_30</th>\n",
              "      <th>RSI_14</th>\n",
              "      <th>MA_20</th>\n",
              "      <th>Upper_BB</th>\n",
              "      <th>Lower_BB</th>\n",
              "    </tr>\n",
              "    <tr>\n",
              "      <th>Date</th>\n",
              "      <th></th>\n",
              "      <th></th>\n",
              "      <th></th>\n",
              "      <th></th>\n",
              "      <th></th>\n",
              "      <th></th>\n",
              "      <th></th>\n",
              "      <th></th>\n",
              "      <th></th>\n",
              "      <th></th>\n",
              "      <th></th>\n",
              "      <th></th>\n",
              "      <th></th>\n",
              "      <th></th>\n",
              "      <th></th>\n",
              "      <th></th>\n",
              "      <th></th>\n",
              "      <th></th>\n",
              "      <th></th>\n",
              "      <th></th>\n",
              "    </tr>\n",
              "  </thead>\n",
              "  <tbody>\n",
              "    <tr>\n",
              "      <th>2014-10-06</th>\n",
              "      <td>320.389008</td>\n",
              "      <td>345.134003</td>\n",
              "      <td>302.559998</td>\n",
              "      <td>330.079010</td>\n",
              "      <td>79011800</td>\n",
              "      <td>6.542676e+09</td>\n",
              "      <td>Bitcoin</td>\n",
              "      <td>2014</td>\n",
              "      <td>10</td>\n",
              "      <td>6</td>\n",
              "      <td>4</td>\n",
              "      <td>0</td>\n",
              "      <td>0.029856</td>\n",
              "      <td>0.029419</td>\n",
              "      <td>349.294184</td>\n",
              "      <td>398.996478</td>\n",
              "      <td>30.138935</td>\n",
              "      <td>389.910399</td>\n",
              "      <td>461.027732</td>\n",
              "      <td>318.793066</td>\n",
              "    </tr>\n",
              "    <tr>\n",
              "      <th>2014-10-07</th>\n",
              "      <td>330.584015</td>\n",
              "      <td>339.247009</td>\n",
              "      <td>320.481995</td>\n",
              "      <td>336.187012</td>\n",
              "      <td>49199900</td>\n",
              "      <td>6.663746e+09</td>\n",
              "      <td>Bitcoin</td>\n",
              "      <td>2014</td>\n",
              "      <td>10</td>\n",
              "      <td>7</td>\n",
              "      <td>4</td>\n",
              "      <td>1</td>\n",
              "      <td>0.018505</td>\n",
              "      <td>0.018336</td>\n",
              "      <td>346.017391</td>\n",
              "      <td>394.944255</td>\n",
              "      <td>17.642549</td>\n",
              "      <td>383.853049</td>\n",
              "      <td>451.334641</td>\n",
              "      <td>316.371457</td>\n",
              "    </tr>\n",
              "    <tr>\n",
              "      <th>2014-10-08</th>\n",
              "      <td>336.115997</td>\n",
              "      <td>354.364014</td>\n",
              "      <td>327.187988</td>\n",
              "      <td>352.940002</td>\n",
              "      <td>54736300</td>\n",
              "      <td>6.995816e+09</td>\n",
              "      <td>Bitcoin</td>\n",
              "      <td>2014</td>\n",
              "      <td>10</td>\n",
              "      <td>8</td>\n",
              "      <td>4</td>\n",
              "      <td>2</td>\n",
              "      <td>0.049832</td>\n",
              "      <td>0.048630</td>\n",
              "      <td>347.748044</td>\n",
              "      <td>392.234303</td>\n",
              "      <td>27.775351</td>\n",
              "      <td>380.278049</td>\n",
              "      <td>446.265429</td>\n",
              "      <td>314.290669</td>\n",
              "    </tr>\n",
              "    <tr>\n",
              "      <th>2014-10-09</th>\n",
              "      <td>352.747986</td>\n",
              "      <td>382.726013</td>\n",
              "      <td>347.687012</td>\n",
              "      <td>365.026001</td>\n",
              "      <td>83641104</td>\n",
              "      <td>7.235380e+09</td>\n",
              "      <td>Bitcoin</td>\n",
              "      <td>2014</td>\n",
              "      <td>10</td>\n",
              "      <td>9</td>\n",
              "      <td>4</td>\n",
              "      <td>3</td>\n",
              "      <td>0.034244</td>\n",
              "      <td>0.033671</td>\n",
              "      <td>352.067533</td>\n",
              "      <td>390.478929</td>\n",
              "      <td>35.319233</td>\n",
              "      <td>378.789549</td>\n",
              "      <td>444.741094</td>\n",
              "      <td>312.838004</td>\n",
              "    </tr>\n",
              "    <tr>\n",
              "      <th>2014-10-10</th>\n",
              "      <td>364.687012</td>\n",
              "      <td>375.066986</td>\n",
              "      <td>352.963013</td>\n",
              "      <td>361.562012</td>\n",
              "      <td>43665700</td>\n",
              "      <td>7.166718e+09</td>\n",
              "      <td>Bitcoin</td>\n",
              "      <td>2014</td>\n",
              "      <td>10</td>\n",
              "      <td>10</td>\n",
              "      <td>4</td>\n",
              "      <td>4</td>\n",
              "      <td>-0.009490</td>\n",
              "      <td>-0.009535</td>\n",
              "      <td>354.441153</td>\n",
              "      <td>388.613321</td>\n",
              "      <td>36.159745</td>\n",
              "      <td>376.422450</td>\n",
              "      <td>441.211135</td>\n",
              "      <td>311.633765</td>\n",
              "    </tr>\n",
              "  </tbody>\n",
              "</table>\n",
              "</div>\n",
              "    <div class=\"colab-df-buttons\">\n",
              "\n",
              "  <div class=\"colab-df-container\">\n",
              "    <button class=\"colab-df-convert\" onclick=\"convertToInteractive('df-aba597e2-6f87-4080-ac29-347abecbc6ef')\"\n",
              "            title=\"Convert this dataframe to an interactive table.\"\n",
              "            style=\"display:none;\">\n",
              "\n",
              "  <svg xmlns=\"http://www.w3.org/2000/svg\" height=\"24px\" viewBox=\"0 -960 960 960\">\n",
              "    <path d=\"M120-120v-720h720v720H120Zm60-500h600v-160H180v160Zm220 220h160v-160H400v160Zm0 220h160v-160H400v160ZM180-400h160v-160H180v160Zm440 0h160v-160H620v160ZM180-180h160v-160H180v160Zm440 0h160v-160H620v160Z\"/>\n",
              "  </svg>\n",
              "    </button>\n",
              "\n",
              "  <style>\n",
              "    .colab-df-container {\n",
              "      display:flex;\n",
              "      gap: 12px;\n",
              "    }\n",
              "\n",
              "    .colab-df-convert {\n",
              "      background-color: #E8F0FE;\n",
              "      border: none;\n",
              "      border-radius: 50%;\n",
              "      cursor: pointer;\n",
              "      display: none;\n",
              "      fill: #1967D2;\n",
              "      height: 32px;\n",
              "      padding: 0 0 0 0;\n",
              "      width: 32px;\n",
              "    }\n",
              "\n",
              "    .colab-df-convert:hover {\n",
              "      background-color: #E2EBFA;\n",
              "      box-shadow: 0px 1px 2px rgba(60, 64, 67, 0.3), 0px 1px 3px 1px rgba(60, 64, 67, 0.15);\n",
              "      fill: #174EA6;\n",
              "    }\n",
              "\n",
              "    .colab-df-buttons div {\n",
              "      margin-bottom: 4px;\n",
              "    }\n",
              "\n",
              "    [theme=dark] .colab-df-convert {\n",
              "      background-color: #3B4455;\n",
              "      fill: #D2E3FC;\n",
              "    }\n",
              "\n",
              "    [theme=dark] .colab-df-convert:hover {\n",
              "      background-color: #434B5C;\n",
              "      box-shadow: 0px 1px 3px 1px rgba(0, 0, 0, 0.15);\n",
              "      filter: drop-shadow(0px 1px 2px rgba(0, 0, 0, 0.3));\n",
              "      fill: #FFFFFF;\n",
              "    }\n",
              "  </style>\n",
              "\n",
              "    <script>\n",
              "      const buttonEl =\n",
              "        document.querySelector('#df-aba597e2-6f87-4080-ac29-347abecbc6ef button.colab-df-convert');\n",
              "      buttonEl.style.display =\n",
              "        google.colab.kernel.accessAllowed ? 'block' : 'none';\n",
              "\n",
              "      async function convertToInteractive(key) {\n",
              "        const element = document.querySelector('#df-aba597e2-6f87-4080-ac29-347abecbc6ef');\n",
              "        const dataTable =\n",
              "          await google.colab.kernel.invokeFunction('convertToInteractive',\n",
              "                                                    [key], {});\n",
              "        if (!dataTable) return;\n",
              "\n",
              "        const docLinkHtml = 'Like what you see? Visit the ' +\n",
              "          '<a target=\"_blank\" href=https://colab.research.google.com/notebooks/data_table.ipynb>data table notebook</a>'\n",
              "          + ' to learn more about interactive tables.';\n",
              "        element.innerHTML = '';\n",
              "        dataTable['output_type'] = 'display_data';\n",
              "        await google.colab.output.renderOutput(dataTable, element);\n",
              "        const docLink = document.createElement('div');\n",
              "        docLink.innerHTML = docLinkHtml;\n",
              "        element.appendChild(docLink);\n",
              "      }\n",
              "    </script>\n",
              "  </div>\n",
              "\n",
              "\n",
              "<div id=\"df-6b5872ad-5f2c-471c-93fe-c60eb265abd4\">\n",
              "  <button class=\"colab-df-quickchart\" onclick=\"quickchart('df-6b5872ad-5f2c-471c-93fe-c60eb265abd4')\"\n",
              "            title=\"Suggest charts\"\n",
              "            style=\"display:none;\">\n",
              "\n",
              "<svg xmlns=\"http://www.w3.org/2000/svg\" height=\"24px\"viewBox=\"0 0 24 24\"\n",
              "     width=\"24px\">\n",
              "    <g>\n",
              "        <path d=\"M19 3H5c-1.1 0-2 .9-2 2v14c0 1.1.9 2 2 2h14c1.1 0 2-.9 2-2V5c0-1.1-.9-2-2-2zM9 17H7v-7h2v7zm4 0h-2V7h2v10zm4 0h-2v-4h2v4z\"/>\n",
              "    </g>\n",
              "</svg>\n",
              "  </button>\n",
              "\n",
              "<style>\n",
              "  .colab-df-quickchart {\n",
              "      --bg-color: #E8F0FE;\n",
              "      --fill-color: #1967D2;\n",
              "      --hover-bg-color: #E2EBFA;\n",
              "      --hover-fill-color: #174EA6;\n",
              "      --disabled-fill-color: #AAA;\n",
              "      --disabled-bg-color: #DDD;\n",
              "  }\n",
              "\n",
              "  [theme=dark] .colab-df-quickchart {\n",
              "      --bg-color: #3B4455;\n",
              "      --fill-color: #D2E3FC;\n",
              "      --hover-bg-color: #434B5C;\n",
              "      --hover-fill-color: #FFFFFF;\n",
              "      --disabled-bg-color: #3B4455;\n",
              "      --disabled-fill-color: #666;\n",
              "  }\n",
              "\n",
              "  .colab-df-quickchart {\n",
              "    background-color: var(--bg-color);\n",
              "    border: none;\n",
              "    border-radius: 50%;\n",
              "    cursor: pointer;\n",
              "    display: none;\n",
              "    fill: var(--fill-color);\n",
              "    height: 32px;\n",
              "    padding: 0;\n",
              "    width: 32px;\n",
              "  }\n",
              "\n",
              "  .colab-df-quickchart:hover {\n",
              "    background-color: var(--hover-bg-color);\n",
              "    box-shadow: 0 1px 2px rgba(60, 64, 67, 0.3), 0 1px 3px 1px rgba(60, 64, 67, 0.15);\n",
              "    fill: var(--button-hover-fill-color);\n",
              "  }\n",
              "\n",
              "  .colab-df-quickchart-complete:disabled,\n",
              "  .colab-df-quickchart-complete:disabled:hover {\n",
              "    background-color: var(--disabled-bg-color);\n",
              "    fill: var(--disabled-fill-color);\n",
              "    box-shadow: none;\n",
              "  }\n",
              "\n",
              "  .colab-df-spinner {\n",
              "    border: 2px solid var(--fill-color);\n",
              "    border-color: transparent;\n",
              "    border-bottom-color: var(--fill-color);\n",
              "    animation:\n",
              "      spin 1s steps(1) infinite;\n",
              "  }\n",
              "\n",
              "  @keyframes spin {\n",
              "    0% {\n",
              "      border-color: transparent;\n",
              "      border-bottom-color: var(--fill-color);\n",
              "      border-left-color: var(--fill-color);\n",
              "    }\n",
              "    20% {\n",
              "      border-color: transparent;\n",
              "      border-left-color: var(--fill-color);\n",
              "      border-top-color: var(--fill-color);\n",
              "    }\n",
              "    30% {\n",
              "      border-color: transparent;\n",
              "      border-left-color: var(--fill-color);\n",
              "      border-top-color: var(--fill-color);\n",
              "      border-right-color: var(--fill-color);\n",
              "    }\n",
              "    40% {\n",
              "      border-color: transparent;\n",
              "      border-right-color: var(--fill-color);\n",
              "      border-top-color: var(--fill-color);\n",
              "    }\n",
              "    60% {\n",
              "      border-color: transparent;\n",
              "      border-right-color: var(--fill-color);\n",
              "    }\n",
              "    80% {\n",
              "      border-color: transparent;\n",
              "      border-right-color: var(--fill-color);\n",
              "      border-bottom-color: var(--fill-color);\n",
              "    }\n",
              "    90% {\n",
              "      border-color: transparent;\n",
              "      border-bottom-color: var(--fill-color);\n",
              "    }\n",
              "  }\n",
              "</style>\n",
              "\n",
              "  <script>\n",
              "    async function quickchart(key) {\n",
              "      const quickchartButtonEl =\n",
              "        document.querySelector('#' + key + ' button');\n",
              "      quickchartButtonEl.disabled = true;  // To prevent multiple clicks.\n",
              "      quickchartButtonEl.classList.add('colab-df-spinner');\n",
              "      try {\n",
              "        const charts = await google.colab.kernel.invokeFunction(\n",
              "            'suggestCharts', [key], {});\n",
              "      } catch (error) {\n",
              "        console.error('Error during call to suggestCharts:', error);\n",
              "      }\n",
              "      quickchartButtonEl.classList.remove('colab-df-spinner');\n",
              "      quickchartButtonEl.classList.add('colab-df-quickchart-complete');\n",
              "    }\n",
              "    (() => {\n",
              "      let quickchartButtonEl =\n",
              "        document.querySelector('#df-6b5872ad-5f2c-471c-93fe-c60eb265abd4 button');\n",
              "      quickchartButtonEl.style.display =\n",
              "        google.colab.kernel.accessAllowed ? 'block' : 'none';\n",
              "    })();\n",
              "  </script>\n",
              "</div>\n",
              "\n",
              "    </div>\n",
              "  </div>\n"
            ],
            "application/vnd.google.colaboratory.intrinsic+json": {
              "type": "dataframe",
              "variable_name": "df",
              "summary": "{\n  \"name\": \"df\",\n  \"rows\": 3779,\n  \"fields\": [\n    {\n      \"column\": \"Date\",\n      \"properties\": {\n        \"dtype\": \"date\",\n        \"min\": \"2014-10-06 00:00:00\",\n        \"max\": \"2025-02-08 00:00:00\",\n        \"num_unique_values\": 3779,\n        \"samples\": [\n          \"2018-04-16 00:00:00\",\n          \"2021-12-02 00:00:00\",\n          \"2021-03-18 00:00:00\"\n        ],\n        \"semantic_type\": \"\",\n        \"description\": \"\"\n      }\n    },\n    {\n      \"column\": \"Open\",\n      \"properties\": {\n        \"dtype\": \"number\",\n        \"std\": 23434.09792735308,\n        \"min\": 176.89700317382812,\n        \"max\": 106147.296875,\n        \"num_unique_values\": 3775,\n        \"samples\": [\n          286.0769958496094,\n          96610.640625,\n          50679.859375\n        ],\n        \"semantic_type\": \"\",\n        \"description\": \"\"\n      }\n    },\n    {\n      \"column\": \"High\",\n      \"properties\": {\n        \"dtype\": \"number\",\n        \"std\": 23944.317890991748,\n        \"min\": 211.7310028076172,\n        \"max\": 109114.8828125,\n        \"num_unique_values\": 3776,\n        \"samples\": [\n          71907.8515625,\n          2595.0,\n          21438.66015625\n        ],\n        \"semantic_type\": \"\",\n        \"description\": \"\"\n      }\n    },\n    {\n      \"column\": \"Low\",\n      \"properties\": {\n        \"dtype\": \"number\",\n        \"std\": 22910.30288850345,\n        \"min\": 171.50999450683594,\n        \"max\": 105291.734375,\n        \"num_unique_values\": 3777,\n        \"samples\": [\n          68507.2578125,\n          2394.840087890625,\n          20715.74609375\n        ],\n        \"semantic_type\": \"\",\n        \"description\": \"\"\n      }\n    },\n    {\n      \"column\": \"Close\",\n      \"properties\": {\n        \"dtype\": \"number\",\n        \"std\": 23462.10334026534,\n        \"min\": 178.10299682617188,\n        \"max\": 106146.265625,\n        \"num_unique_values\": 3776,\n        \"samples\": [\n          69342.5859375,\n          2564.06005859375,\n          21161.51953125\n        ],\n        \"semantic_type\": \"\",\n        \"description\": \"\"\n      }\n    },\n    {\n      \"column\": \"Volume\",\n      \"properties\": {\n        \"dtype\": \"number\",\n        \"std\": 20732459959,\n        \"min\": 5914570,\n        \"max\": 350967941479,\n        \"num_unique_values\": 3779,\n        \"samples\": [\n          5631309824,\n          32379968686,\n          55746041000\n        ],\n        \"semantic_type\": \"\",\n        \"description\": \"\"\n      }\n    },\n    {\n      \"column\": \"Market Cap\",\n      \"properties\": {\n        \"dtype\": \"number\",\n        \"std\": 465055160615.8227,\n        \"min\": 3530276744.32782,\n        \"max\": 2103983086814.156,\n        \"num_unique_values\": 3776,\n        \"samples\": [\n          1374477256919.1094,\n          50823634398.17871,\n          419454032818.5703\n        ],\n        \"semantic_type\": \"\",\n        \"description\": \"\"\n      }\n    },\n    {\n      \"column\": \"Coin\",\n      \"properties\": {\n        \"dtype\": \"category\",\n        \"num_unique_values\": 1,\n        \"samples\": [\n          \"Bitcoin\"\n        ],\n        \"semantic_type\": \"\",\n        \"description\": \"\"\n      }\n    },\n    {\n      \"column\": \"Year\",\n      \"properties\": {\n        \"dtype\": \"number\",\n        \"std\": 2,\n        \"min\": 2014,\n        \"max\": 2025,\n        \"num_unique_values\": 12,\n        \"samples\": [\n          2024\n        ],\n        \"semantic_type\": \"\",\n        \"description\": \"\"\n      }\n    },\n    {\n      \"column\": \"Month\",\n      \"properties\": {\n        \"dtype\": \"number\",\n        \"std\": 3,\n        \"min\": 1,\n        \"max\": 12,\n        \"num_unique_values\": 12,\n        \"samples\": [\n          8\n        ],\n        \"semantic_type\": \"\",\n        \"description\": \"\"\n      }\n    },\n    {\n      \"column\": \"Day\",\n      \"properties\": {\n        \"dtype\": \"number\",\n        \"std\": 8,\n        \"min\": 1,\n        \"max\": 31,\n        \"num_unique_values\": 31,\n        \"samples\": [\n          2\n        ],\n        \"semantic_type\": \"\",\n        \"description\": \"\"\n      }\n    },\n    {\n      \"column\": \"Quarter\",\n      \"properties\": {\n        \"dtype\": \"number\",\n        \"std\": 1,\n        \"min\": 1,\n        \"max\": 4,\n        \"num_unique_values\": 4,\n        \"samples\": [\n          1\n        ],\n        \"semantic_type\": \"\",\n        \"description\": \"\"\n      }\n    },\n    {\n      \"column\": \"Weekday\",\n      \"properties\": {\n        \"dtype\": \"number\",\n        \"std\": 1,\n        \"min\": 0,\n        \"max\": 6,\n        \"num_unique_values\": 7,\n        \"samples\": [\n          0\n        ],\n        \"semantic_type\": \"\",\n        \"description\": \"\"\n      }\n    },\n    {\n      \"column\": \"Daily_Return\",\n      \"properties\": {\n        \"dtype\": \"number\",\n        \"std\": 0.03604292446359399,\n        \"min\": -0.3716953856011707,\n        \"max\": 0.2524716942763181,\n        \"num_unique_values\": 3779,\n        \"samples\": [\n          -0.0324693056367979\n        ],\n        \"semantic_type\": \"\",\n        \"description\": \"\"\n      }\n    },\n    {\n      \"column\": \"Log_Return\",\n      \"properties\": {\n        \"dtype\": \"number\",\n        \"std\": 0.03629138257858272,\n        \"min\": -0.4647301753397729,\n        \"max\": 0.2251189543413278,\n        \"num_unique_values\": 3779,\n        \"samples\": [\n          -0.0330081291414391\n        ],\n        \"semantic_type\": \"\",\n        \"description\": \"\"\n      }\n    },\n    {\n      \"column\": \"EMA_7\",\n      \"properties\": {\n        \"dtype\": \"number\",\n        \"std\": 23334.13780785526,\n        \"min\": 215.8650793463828,\n        \"max\": 103745.38091160402,\n        \"num_unique_values\": 3779,\n        \"samples\": [\n          7799.066769973908\n        ],\n        \"semantic_type\": \"\",\n        \"description\": \"\"\n      }\n    },\n    {\n      \"column\": \"EMA_30\",\n      \"properties\": {\n        \"dtype\": \"number\",\n        \"std\": 22809.88490856978,\n        \"min\": 231.2054444620421,\n        \"max\": 100877.03391006566,\n        \"num_unique_values\": 3779,\n        \"samples\": [\n          7837.854463975155\n        ],\n        \"semantic_type\": \"\",\n        \"description\": \"\"\n      }\n    },\n    {\n      \"column\": \"RSI_14\",\n      \"properties\": {\n        \"dtype\": \"number\",\n        \"std\": 18.360557781729945,\n        \"min\": 4.699488750305562,\n        \"max\": 99.76562791463088,\n        \"num_unique_values\": 3779,\n        \"samples\": [\n          63.31458319828915\n        ],\n        \"semantic_type\": \"\",\n        \"description\": \"\"\n      }\n    },\n    {\n      \"column\": \"MA_20\",\n      \"properties\": {\n        \"dtype\": \"number\",\n        \"std\": 23077.698327264334,\n        \"min\": 226.38319931030276,\n        \"max\": 102611.396484375,\n        \"num_unique_values\": 3779,\n        \"samples\": [\n          7266.882470703125\n        ],\n        \"semantic_type\": \"\",\n        \"description\": \"\"\n      }\n    },\n    {\n      \"column\": \"Upper_BB\",\n      \"properties\": {\n        \"dtype\": \"number\",\n        \"std\": 25349.997982191788,\n        \"min\": 238.9488605693709,\n        \"max\": 109070.04063680393,\n        \"num_unique_values\": 3779,\n        \"samples\": [\n          8342.738984291589\n        ],\n        \"semantic_type\": \"\",\n        \"description\": \"\"\n      }\n    },\n    {\n      \"column\": \"Lower_BB\",\n      \"properties\": {\n        \"dtype\": \"number\",\n        \"std\": 20941.07809512929,\n        \"min\": 170.00879323065578,\n        \"max\": 98411.70601430757,\n        \"num_unique_values\": 3779,\n        \"samples\": [\n          6191.025957114662\n        ],\n        \"semantic_type\": \"\",\n        \"description\": \"\"\n      }\n    }\n  ]\n}"
            }
          },
          "metadata": {},
          "execution_count": 88
        }
      ]
    },
    {
      "cell_type": "code",
      "source": [
        "df.info()"
      ],
      "metadata": {
        "colab": {
          "base_uri": "https://localhost:8080/"
        },
        "id": "DZ558IwxoZDP",
        "outputId": "7158501a-5dd3-49c4-a8ba-f2be8f919262"
      },
      "execution_count": 89,
      "outputs": [
        {
          "output_type": "stream",
          "name": "stdout",
          "text": [
            "<class 'pandas.core.frame.DataFrame'>\n",
            "DatetimeIndex: 3779 entries, 2014-10-06 to 2025-02-08\n",
            "Data columns (total 20 columns):\n",
            " #   Column        Non-Null Count  Dtype  \n",
            "---  ------        --------------  -----  \n",
            " 0   Open          3779 non-null   float64\n",
            " 1   High          3779 non-null   float64\n",
            " 2   Low           3779 non-null   float64\n",
            " 3   Close         3779 non-null   float64\n",
            " 4   Volume        3779 non-null   int64  \n",
            " 5   Market Cap    3779 non-null   float64\n",
            " 6   Coin          3779 non-null   object \n",
            " 7   Year          3779 non-null   int64  \n",
            " 8   Month         3779 non-null   int64  \n",
            " 9   Day           3779 non-null   int64  \n",
            " 10  Quarter       3779 non-null   int64  \n",
            " 11  Weekday       3779 non-null   int64  \n",
            " 12  Daily_Return  3779 non-null   float64\n",
            " 13  Log_Return    3779 non-null   float64\n",
            " 14  EMA_7         3779 non-null   float64\n",
            " 15  EMA_30        3779 non-null   float64\n",
            " 16  RSI_14        3779 non-null   float64\n",
            " 17  MA_20         3779 non-null   float64\n",
            " 18  Upper_BB      3779 non-null   float64\n",
            " 19  Lower_BB      3779 non-null   float64\n",
            "dtypes: float64(13), int64(6), object(1)\n",
            "memory usage: 620.0+ KB\n"
          ]
        }
      ]
    },
    {
      "cell_type": "markdown",
      "source": [
        "## 2. Data Preprocessing"
      ],
      "metadata": {
        "id": "VawxqJFA_RiS"
      }
    },
    {
      "cell_type": "code",
      "source": [
        "# Select only the 'Close' price\n",
        "df_close = df[['Close']]"
      ],
      "metadata": {
        "id": "kNDTCQYxrbTB"
      },
      "execution_count": 90,
      "outputs": []
    },
    {
      "cell_type": "code",
      "source": [
        "df_close.head()"
      ],
      "metadata": {
        "colab": {
          "base_uri": "https://localhost:8080/",
          "height": 237
        },
        "id": "7r1VbXuHrdfX",
        "outputId": "3f6849fe-08be-429b-dea7-3fd779ea6d8a"
      },
      "execution_count": 91,
      "outputs": [
        {
          "output_type": "execute_result",
          "data": {
            "text/plain": [
              "                 Close\n",
              "Date                  \n",
              "2014-10-06  330.079010\n",
              "2014-10-07  336.187012\n",
              "2014-10-08  352.940002\n",
              "2014-10-09  365.026001\n",
              "2014-10-10  361.562012"
            ],
            "text/html": [
              "\n",
              "  <div id=\"df-6ca96fba-b421-4a35-8c92-f9ec6cf6e804\" class=\"colab-df-container\">\n",
              "    <div>\n",
              "<style scoped>\n",
              "    .dataframe tbody tr th:only-of-type {\n",
              "        vertical-align: middle;\n",
              "    }\n",
              "\n",
              "    .dataframe tbody tr th {\n",
              "        vertical-align: top;\n",
              "    }\n",
              "\n",
              "    .dataframe thead th {\n",
              "        text-align: right;\n",
              "    }\n",
              "</style>\n",
              "<table border=\"1\" class=\"dataframe\">\n",
              "  <thead>\n",
              "    <tr style=\"text-align: right;\">\n",
              "      <th></th>\n",
              "      <th>Close</th>\n",
              "    </tr>\n",
              "    <tr>\n",
              "      <th>Date</th>\n",
              "      <th></th>\n",
              "    </tr>\n",
              "  </thead>\n",
              "  <tbody>\n",
              "    <tr>\n",
              "      <th>2014-10-06</th>\n",
              "      <td>330.079010</td>\n",
              "    </tr>\n",
              "    <tr>\n",
              "      <th>2014-10-07</th>\n",
              "      <td>336.187012</td>\n",
              "    </tr>\n",
              "    <tr>\n",
              "      <th>2014-10-08</th>\n",
              "      <td>352.940002</td>\n",
              "    </tr>\n",
              "    <tr>\n",
              "      <th>2014-10-09</th>\n",
              "      <td>365.026001</td>\n",
              "    </tr>\n",
              "    <tr>\n",
              "      <th>2014-10-10</th>\n",
              "      <td>361.562012</td>\n",
              "    </tr>\n",
              "  </tbody>\n",
              "</table>\n",
              "</div>\n",
              "    <div class=\"colab-df-buttons\">\n",
              "\n",
              "  <div class=\"colab-df-container\">\n",
              "    <button class=\"colab-df-convert\" onclick=\"convertToInteractive('df-6ca96fba-b421-4a35-8c92-f9ec6cf6e804')\"\n",
              "            title=\"Convert this dataframe to an interactive table.\"\n",
              "            style=\"display:none;\">\n",
              "\n",
              "  <svg xmlns=\"http://www.w3.org/2000/svg\" height=\"24px\" viewBox=\"0 -960 960 960\">\n",
              "    <path d=\"M120-120v-720h720v720H120Zm60-500h600v-160H180v160Zm220 220h160v-160H400v160Zm0 220h160v-160H400v160ZM180-400h160v-160H180v160Zm440 0h160v-160H620v160ZM180-180h160v-160H180v160Zm440 0h160v-160H620v160Z\"/>\n",
              "  </svg>\n",
              "    </button>\n",
              "\n",
              "  <style>\n",
              "    .colab-df-container {\n",
              "      display:flex;\n",
              "      gap: 12px;\n",
              "    }\n",
              "\n",
              "    .colab-df-convert {\n",
              "      background-color: #E8F0FE;\n",
              "      border: none;\n",
              "      border-radius: 50%;\n",
              "      cursor: pointer;\n",
              "      display: none;\n",
              "      fill: #1967D2;\n",
              "      height: 32px;\n",
              "      padding: 0 0 0 0;\n",
              "      width: 32px;\n",
              "    }\n",
              "\n",
              "    .colab-df-convert:hover {\n",
              "      background-color: #E2EBFA;\n",
              "      box-shadow: 0px 1px 2px rgba(60, 64, 67, 0.3), 0px 1px 3px 1px rgba(60, 64, 67, 0.15);\n",
              "      fill: #174EA6;\n",
              "    }\n",
              "\n",
              "    .colab-df-buttons div {\n",
              "      margin-bottom: 4px;\n",
              "    }\n",
              "\n",
              "    [theme=dark] .colab-df-convert {\n",
              "      background-color: #3B4455;\n",
              "      fill: #D2E3FC;\n",
              "    }\n",
              "\n",
              "    [theme=dark] .colab-df-convert:hover {\n",
              "      background-color: #434B5C;\n",
              "      box-shadow: 0px 1px 3px 1px rgba(0, 0, 0, 0.15);\n",
              "      filter: drop-shadow(0px 1px 2px rgba(0, 0, 0, 0.3));\n",
              "      fill: #FFFFFF;\n",
              "    }\n",
              "  </style>\n",
              "\n",
              "    <script>\n",
              "      const buttonEl =\n",
              "        document.querySelector('#df-6ca96fba-b421-4a35-8c92-f9ec6cf6e804 button.colab-df-convert');\n",
              "      buttonEl.style.display =\n",
              "        google.colab.kernel.accessAllowed ? 'block' : 'none';\n",
              "\n",
              "      async function convertToInteractive(key) {\n",
              "        const element = document.querySelector('#df-6ca96fba-b421-4a35-8c92-f9ec6cf6e804');\n",
              "        const dataTable =\n",
              "          await google.colab.kernel.invokeFunction('convertToInteractive',\n",
              "                                                    [key], {});\n",
              "        if (!dataTable) return;\n",
              "\n",
              "        const docLinkHtml = 'Like what you see? Visit the ' +\n",
              "          '<a target=\"_blank\" href=https://colab.research.google.com/notebooks/data_table.ipynb>data table notebook</a>'\n",
              "          + ' to learn more about interactive tables.';\n",
              "        element.innerHTML = '';\n",
              "        dataTable['output_type'] = 'display_data';\n",
              "        await google.colab.output.renderOutput(dataTable, element);\n",
              "        const docLink = document.createElement('div');\n",
              "        docLink.innerHTML = docLinkHtml;\n",
              "        element.appendChild(docLink);\n",
              "      }\n",
              "    </script>\n",
              "  </div>\n",
              "\n",
              "\n",
              "<div id=\"df-85973509-e780-4610-b7f6-2fa1bfc1e720\">\n",
              "  <button class=\"colab-df-quickchart\" onclick=\"quickchart('df-85973509-e780-4610-b7f6-2fa1bfc1e720')\"\n",
              "            title=\"Suggest charts\"\n",
              "            style=\"display:none;\">\n",
              "\n",
              "<svg xmlns=\"http://www.w3.org/2000/svg\" height=\"24px\"viewBox=\"0 0 24 24\"\n",
              "     width=\"24px\">\n",
              "    <g>\n",
              "        <path d=\"M19 3H5c-1.1 0-2 .9-2 2v14c0 1.1.9 2 2 2h14c1.1 0 2-.9 2-2V5c0-1.1-.9-2-2-2zM9 17H7v-7h2v7zm4 0h-2V7h2v10zm4 0h-2v-4h2v4z\"/>\n",
              "    </g>\n",
              "</svg>\n",
              "  </button>\n",
              "\n",
              "<style>\n",
              "  .colab-df-quickchart {\n",
              "      --bg-color: #E8F0FE;\n",
              "      --fill-color: #1967D2;\n",
              "      --hover-bg-color: #E2EBFA;\n",
              "      --hover-fill-color: #174EA6;\n",
              "      --disabled-fill-color: #AAA;\n",
              "      --disabled-bg-color: #DDD;\n",
              "  }\n",
              "\n",
              "  [theme=dark] .colab-df-quickchart {\n",
              "      --bg-color: #3B4455;\n",
              "      --fill-color: #D2E3FC;\n",
              "      --hover-bg-color: #434B5C;\n",
              "      --hover-fill-color: #FFFFFF;\n",
              "      --disabled-bg-color: #3B4455;\n",
              "      --disabled-fill-color: #666;\n",
              "  }\n",
              "\n",
              "  .colab-df-quickchart {\n",
              "    background-color: var(--bg-color);\n",
              "    border: none;\n",
              "    border-radius: 50%;\n",
              "    cursor: pointer;\n",
              "    display: none;\n",
              "    fill: var(--fill-color);\n",
              "    height: 32px;\n",
              "    padding: 0;\n",
              "    width: 32px;\n",
              "  }\n",
              "\n",
              "  .colab-df-quickchart:hover {\n",
              "    background-color: var(--hover-bg-color);\n",
              "    box-shadow: 0 1px 2px rgba(60, 64, 67, 0.3), 0 1px 3px 1px rgba(60, 64, 67, 0.15);\n",
              "    fill: var(--button-hover-fill-color);\n",
              "  }\n",
              "\n",
              "  .colab-df-quickchart-complete:disabled,\n",
              "  .colab-df-quickchart-complete:disabled:hover {\n",
              "    background-color: var(--disabled-bg-color);\n",
              "    fill: var(--disabled-fill-color);\n",
              "    box-shadow: none;\n",
              "  }\n",
              "\n",
              "  .colab-df-spinner {\n",
              "    border: 2px solid var(--fill-color);\n",
              "    border-color: transparent;\n",
              "    border-bottom-color: var(--fill-color);\n",
              "    animation:\n",
              "      spin 1s steps(1) infinite;\n",
              "  }\n",
              "\n",
              "  @keyframes spin {\n",
              "    0% {\n",
              "      border-color: transparent;\n",
              "      border-bottom-color: var(--fill-color);\n",
              "      border-left-color: var(--fill-color);\n",
              "    }\n",
              "    20% {\n",
              "      border-color: transparent;\n",
              "      border-left-color: var(--fill-color);\n",
              "      border-top-color: var(--fill-color);\n",
              "    }\n",
              "    30% {\n",
              "      border-color: transparent;\n",
              "      border-left-color: var(--fill-color);\n",
              "      border-top-color: var(--fill-color);\n",
              "      border-right-color: var(--fill-color);\n",
              "    }\n",
              "    40% {\n",
              "      border-color: transparent;\n",
              "      border-right-color: var(--fill-color);\n",
              "      border-top-color: var(--fill-color);\n",
              "    }\n",
              "    60% {\n",
              "      border-color: transparent;\n",
              "      border-right-color: var(--fill-color);\n",
              "    }\n",
              "    80% {\n",
              "      border-color: transparent;\n",
              "      border-right-color: var(--fill-color);\n",
              "      border-bottom-color: var(--fill-color);\n",
              "    }\n",
              "    90% {\n",
              "      border-color: transparent;\n",
              "      border-bottom-color: var(--fill-color);\n",
              "    }\n",
              "  }\n",
              "</style>\n",
              "\n",
              "  <script>\n",
              "    async function quickchart(key) {\n",
              "      const quickchartButtonEl =\n",
              "        document.querySelector('#' + key + ' button');\n",
              "      quickchartButtonEl.disabled = true;  // To prevent multiple clicks.\n",
              "      quickchartButtonEl.classList.add('colab-df-spinner');\n",
              "      try {\n",
              "        const charts = await google.colab.kernel.invokeFunction(\n",
              "            'suggestCharts', [key], {});\n",
              "      } catch (error) {\n",
              "        console.error('Error during call to suggestCharts:', error);\n",
              "      }\n",
              "      quickchartButtonEl.classList.remove('colab-df-spinner');\n",
              "      quickchartButtonEl.classList.add('colab-df-quickchart-complete');\n",
              "    }\n",
              "    (() => {\n",
              "      let quickchartButtonEl =\n",
              "        document.querySelector('#df-85973509-e780-4610-b7f6-2fa1bfc1e720 button');\n",
              "      quickchartButtonEl.style.display =\n",
              "        google.colab.kernel.accessAllowed ? 'block' : 'none';\n",
              "    })();\n",
              "  </script>\n",
              "</div>\n",
              "\n",
              "    </div>\n",
              "  </div>\n"
            ],
            "application/vnd.google.colaboratory.intrinsic+json": {
              "type": "dataframe",
              "variable_name": "df_close",
              "summary": "{\n  \"name\": \"df_close\",\n  \"rows\": 3779,\n  \"fields\": [\n    {\n      \"column\": \"Date\",\n      \"properties\": {\n        \"dtype\": \"date\",\n        \"min\": \"2014-10-06 00:00:00\",\n        \"max\": \"2025-02-08 00:00:00\",\n        \"num_unique_values\": 3779,\n        \"samples\": [\n          \"2018-04-16 00:00:00\",\n          \"2021-12-02 00:00:00\",\n          \"2021-03-18 00:00:00\"\n        ],\n        \"semantic_type\": \"\",\n        \"description\": \"\"\n      }\n    },\n    {\n      \"column\": \"Close\",\n      \"properties\": {\n        \"dtype\": \"number\",\n        \"std\": 23462.10334026534,\n        \"min\": 178.10299682617188,\n        \"max\": 106146.265625,\n        \"num_unique_values\": 3776,\n        \"samples\": [\n          69342.5859375,\n          2564.06005859375,\n          21161.51953125\n        ],\n        \"semantic_type\": \"\",\n        \"description\": \"\"\n      }\n    }\n  ]\n}"
            }
          },
          "metadata": {},
          "execution_count": 91
        }
      ]
    },
    {
      "cell_type": "markdown",
      "source": [
        "## Train Test Split"
      ],
      "metadata": {
        "id": "s7Dd5VN9Yxp6"
      }
    },
    {
      "cell_type": "code",
      "source": [
        "# Determine the split index for 80% training and 20% testing\n",
        "split_index = int(len(df_close) * 0.8)\n",
        "\n",
        "# Training Data: First 80% of the dataset\n",
        "df_train = df_close[:split_index].values\n",
        "\n",
        "# Test Data: Last 20% of the dataset\n",
        "df_test = df_close[split_index:].values"
      ],
      "metadata": {
        "id": "PVgo_B91cS-n"
      },
      "execution_count": 92,
      "outputs": []
    },
    {
      "cell_type": "code",
      "source": [
        "df_train.shape"
      ],
      "metadata": {
        "colab": {
          "base_uri": "https://localhost:8080/"
        },
        "id": "fqeYMt6TpDNx",
        "outputId": "64a2ff63-252f-4f62-9bda-4931bca64bb9"
      },
      "execution_count": 93,
      "outputs": [
        {
          "output_type": "execute_result",
          "data": {
            "text/plain": [
              "(3023, 1)"
            ]
          },
          "metadata": {},
          "execution_count": 93
        }
      ]
    },
    {
      "cell_type": "code",
      "source": [
        "df_test.shape"
      ],
      "metadata": {
        "colab": {
          "base_uri": "https://localhost:8080/"
        },
        "id": "bje4cMcik1ZK",
        "outputId": "8feaf1cc-70fe-4309-891c-c294167b17a2"
      },
      "execution_count": 94,
      "outputs": [
        {
          "output_type": "execute_result",
          "data": {
            "text/plain": [
              "(756, 1)"
            ]
          },
          "metadata": {},
          "execution_count": 94
        }
      ]
    },
    {
      "cell_type": "code",
      "source": [
        "# Define the column to plot\n",
        "chosen_col = 'Close'\n",
        "\n",
        "# Create the figure\n",
        "fig, ax = plt.subplots(figsize=(12, 6))\n",
        "\n",
        "# Plot training data\n",
        "ax.plot(df.index[:split_index], df_train, label='Train', linewidth=2, color='blue')\n",
        "\n",
        "# Plot test data\n",
        "ax.plot(df.index[split_index:], df_test, label='Test', linewidth=2, color='red')\n",
        "\n",
        "# Labels and title\n",
        "ax.set_xlabel('Date', fontsize=14)\n",
        "ax.set_ylabel('Price (USD)', fontsize=14)\n",
        "ax.set_title(f'Train-Test Split for {chosen_col}', fontsize=16)\n",
        "\n",
        "# Add vertical split line\n",
        "ax.axvline(df.index[split_index], color='black', linestyle='--', linewidth=2, label='Train-Test Split')\n",
        "\n",
        "# Show legend\n",
        "ax.legend(loc='best', fontsize=14)\n",
        "\n",
        "# Show plot\n",
        "plt.show()"
      ],
      "metadata": {
        "colab": {
          "base_uri": "https://localhost:8080/",
          "height": 571
        },
        "id": "-9rR1Uy_r7JD",
        "outputId": "add867c3-3f8c-47a7-af5a-a19303035541"
      },
      "execution_count": 95,
      "outputs": [
        {
          "output_type": "display_data",
          "data": {
            "text/plain": [
              "<Figure size 1200x600 with 1 Axes>"
            ],
            "image/png": "[encoded data removed]"
          },
          "metadata": {}
        }
      ]
    },
    {
      "cell_type": "markdown",
      "source": [
        "### Feature Scaling"
      ],
      "metadata": {
        "id": "W9gkJnzV_kPm"
      }
    },
    {
      "cell_type": "markdown",
      "source": [
        "<div style=\"background: linear-gradient(45deg, #FFC300, #FF5733, #C70039, #900C3F); padding: 10px; border-radius: 5px; display: flex; align-items: center;\">\n",
        "    <h3 style=\"font-weight: bold; color: white; margin: 0 auto;\"> Min Max Scaling of Data post Train-Test Split </h3>\n",
        "</div>\n",
        "\n",
        "I ensured that scaling is done only after splitting the data into training and test sets, with each set being scaled separately.\n",
        "\n",
        "Performing normalization on the data before splitting it is problematic because the scaling process would use the entire dataset — including the test set — as a reference.\n",
        "\n",
        "This inadvertently causes data leakage from the test set into the training data, leading to unrealistic model performance and potential overfitting. By scaling only after the split, I ensured that the test set remained unseen and untouched during training, which is crucial for accurate model evaluation.\n",
        "\n",
        "\n",
        "\n",
        "\n",
        "\n",
        "\n",
        "\n",
        "\n"
      ],
      "metadata": {
        "id": "py9IxVq9eaZ7"
      }
    },
    {
      "cell_type": "code",
      "source": [
        "# Initialize a single MinMaxScaler\n",
        "scaler = MinMaxScaler(feature_range=(0, 1))\n",
        "\n",
        "# Fit on training data and transform both train and test\n",
        "scaled_train = scaler.fit_transform(df_train.reshape(-1, 1))  # Fit & transform train\n",
        "scaled_test = scaler.transform(df_test.reshape(-1, 1))  # Transform test only (no fit)\n",
        "\n",
        "# Print shapes for confirmation\n",
        "print(f\"Scaled Train Shape: {scaled_train.shape}\")\n",
        "print(f\"Scaled Test Shape: {scaled_test.shape}\")"
      ],
      "metadata": {
        "id": "GTYbU7qesi-7",
        "outputId": "ee262ace-ace8-46c2-b63d-1e17e2f1becf",
        "colab": {
          "base_uri": "https://localhost:8080/"
        }
      },
      "execution_count": 96,
      "outputs": [
        {
          "output_type": "stream",
          "name": "stdout",
          "text": [
            "Scaled Train Shape: (3023, 1)\n",
            "Scaled Test Shape: (756, 1)\n"
          ]
        }
      ]
    },
    {
      "cell_type": "markdown",
      "source": [
        "<div style=\"background: linear-gradient(45deg, #FFC300, #FF5733, #C70039, #900C3F); padding: 10px; border-radius: 5px; display: flex; align-items: center;\">\n",
        "    <h3 style=\"font-weight: bold; color: white; margin: 0 auto;\"> Time Series Windowing (Sequence Generation) </h3>\n",
        "</div>\n",
        "\n",
        "Since I’m working with **time series data**, I need the LSTM model to learn from **sequential patterns** instead of treating each data point independently.  \n",
        "\n",
        "Time series windowing transforms raw time series data into **input-output pairs** so that the model can learn from historical data and make accurate future predictions.  \n",
        "\n",
        "---\n",
        "\n",
        "**Steps I Took**  \n",
        "\n",
        "**1️⃣ Defined a Look-Back Window (Sliding Window)**  \n",
        "I set a **look-back period** (`look_back = 5`), meaning the model will use the **past 5 days' prices** to predict the **next day's price**.  \n",
        "This helps capture short-term trends in the data.\n",
        "\n",
        " Example:  \n",
        "\n",
        "\n",
        "For example, given a sequence like [1, 2, 3, 4, 5, 6, 7, 8, 9, 10], the data will be split into samples like:\n",
        "\n",
        "```python\n",
        "\n",
        "Input \t\t\t\t| Output\n",
        "1, 2, 3, 4, 5 \t\t6\n",
        "2, 3, 4, 5, 6 \t\t7\n",
        "3, 4, 5, 6, 7 \t\t8\n",
        "\n",
        "```\n",
        "**2️⃣ Created Input (X) and Output (y) Pairs**  \n",
        "I looped through the **scaled dataset** and extracted:  \n",
        "- **X** → The past `look_back` days (input sequence).  \n",
        "- **y** → The next day's value (target label).  \n",
        "\n"
      ],
      "metadata": {
        "id": "sZ3fVFXp6PwF"
      }
    },
    {
      "cell_type": "code",
      "source": [
        "def create_sequences(dataset, look_back=5):\n",
        "    \"\"\"\n",
        "    Generates input-output pairs for LSTM.\n",
        "\n",
        "    Args:\n",
        "        dataset (numpy.ndarray): Scaled dataset.\n",
        "        look_back (int): Number of previous timesteps used for prediction.\n",
        "\n",
        "    Returns:\n",
        "        X: Input sequences (features).\n",
        "        y: Target values (labels).\n",
        "    \"\"\"\n",
        "    X, y = [], []\n",
        "    for i in range(len(dataset) - look_back):\n",
        "        X.append(dataset[i:(i + look_back), 0])  # Past `look_back` values\n",
        "        y.append(dataset[i + look_back, 0])  # The next value (target)\n",
        "    return np.array(X), np.array(y)\n",
        "\n",
        "# Define look_back period (e.g., 5 days)\n",
        "look_back = 5\n",
        "\n",
        "# Generate sequences\n",
        "trainX, trainY = create_sequences(scaled_train, look_back)\n",
        "testX, testY = create_sequences(scaled_test, look_back)"
      ],
      "metadata": {
        "id": "NT4vd9Uqsq77"
      },
      "execution_count": 97,
      "outputs": []
    },
    {
      "cell_type": "markdown",
      "source": [
        "### Reshaping Data (LSTM Format)\n",
        "\n",
        "- Convert trainX & testX into (samples, time steps, features) format for LSTM.\n",
        "- **Samples**: The total number of data points (`len(dataX)`).\n",
        "- **Time steps**: The width of the sliding window (e.g., 5 in this case).\n",
        "- **Features**: The number of features per time step. For example, in predicting Bitcoin price, the feature is 1 (the price at that time step).\n",
        "- LSTM expects 3D inputs."
      ],
      "metadata": {
        "id": "-j-KpS7O8QzY"
      }
    },
    {
      "cell_type": "code",
      "source": [
        "# Reshape to (samples, time steps, features)\n",
        "trainX = trainX.reshape(trainX.shape[0], trainX.shape[1], 1)\n",
        "testX = testX.reshape(testX.shape[0], testX.shape[1], 1)\n",
        "\n",
        "# Print shapes to verify correctness\n",
        "print(\"trainX shape:\", trainX.shape)  # (samples, look_back, 1)\n",
        "print(\"trainY shape:\", trainY.shape)  # (samples,)\n",
        "print(\"testX shape:\", testX.shape)    # (samples, look_back, 1)\n",
        "print(\"testY shape:\", testY.shape)    # (samples,)"
      ],
      "metadata": {
        "id": "gNeAWLF18U1k",
        "outputId": "60f8eb54-341e-4d47-86d5-706557c2eb80",
        "colab": {
          "base_uri": "https://localhost:8080/"
        }
      },
      "execution_count": 98,
      "outputs": [
        {
          "output_type": "stream",
          "name": "stdout",
          "text": [
            "trainX shape: (3018, 5, 1)\n",
            "trainY shape: (3018,)\n",
            "testX shape: (751, 5, 1)\n",
            "testY shape: (751,)\n"
          ]
        }
      ]
    },
    {
      "cell_type": "markdown",
      "source": [
        "<div style=\"background: linear-gradient(45deg, #FFC300, #FF5733, #C70039, #900C3F); padding: 10px; border-radius: 5px; display: flex; align-items: center;\">\n",
        "    <h3 style=\"font-weight: bold; color: white; margin: 0 auto;\"> LSTM (Long Short-Term Memory) Mechanism </h3>\n",
        "</div>\n",
        "\n",
        "LSTM is a type of recurrent neural network (RNN) designed to overcome the vanishing gradient problem. It uses internal gates to regulate information flow, enabling effective backpropagation through time (BPTT).\n",
        "\n",
        "#### LSTM Layers in Keras\n",
        "- LSTM layers can be created using the `LSTM()` class in Keras.\n",
        "- Each LSTM cell has an internal **cell state** (`c`) and a **hidden state** (`h`).\n",
        "- The `input_shape` for LSTM is `(timesteps, n_features)`, e.g., `(95000, 360)`.\n",
        "- Keras LSTM expects inputs in the shape: `(n_examples, n_timesteps, n_features)`.\n",
        "\n",
        "#### `return_sequences=True`\n",
        "- Enables stacking of multiple LSTM layers.\n",
        "- Ensures the second LSTM layer receives a compatible n-dimensional sequence input.\n",
        "- Outputs one value per time step when set to `True`.\n",
        "\n",
        "#### Why Increase LSTM Depth?\n",
        "- **Enhances feature abstraction**: Similar to deep learning, deeper LSTMs recombine learned representations to capture complex patterns.\n",
        "- **Efficient training**: Deeper networks often require fewer neurons and train faster.\n",
        "- **Temporal abstraction**: Stacking LSTM layers allows models to process sequences at different time scales.\n",
        "\n",
        "Stacked LSTMs have become a standard approach for complex sequence prediction tasks.\n"
      ],
      "metadata": {
        "id": "UyMuC3Qb64ow"
      }
    },
    {
      "cell_type": "code",
      "source": [
        "# Define Early Stopping to prevent overfitting\n",
        "early_stopping = EarlyStopping(\n",
        "    monitor='val_loss',\n",
        "    patience=10,\n",
        "    restore_best_weights=True,\n",
        "    verbose=1\n",
        ")\n",
        "\n",
        "# Build an improved LSTM model\n",
        "model = Sequential([\n",
        "    LSTM(units=40, return_sequences=True, activation='tanh',\n",
        "         kernel_regularizer=l2(0.001), input_shape=(trainX.shape[1], 1)),\n",
        "    Dropout(0.3),  # Increased dropout\n",
        "\n",
        "    LSTM(units=30, return_sequences=False, activation='tanh',\n",
        "         kernel_regularizer=l2(0.001)),\n",
        "    Dropout(0.3),\n",
        "\n",
        "    Dense(units=20, activation='relu'),\n",
        "    Dense(units=1)  # Output layer (linear activation for regression)\n",
        "])\n",
        "\n",
        "# Compile the model with a lower learning rate\n",
        "model.compile(optimizer=Adam(learning_rate=0.0005), loss='mean_squared_error')\n",
        "\n",
        "# Train the model with early stopping and a larger batch size\n",
        "history = model.fit(\n",
        "    trainX, trainY,\n",
        "    epochs=100,\n",
        "    batch_size=64,  # Increased batch size\n",
        "    validation_data=(testX, testY),\n",
        "    callbacks=[early_stopping],\n",
        "    verbose=1\n",
        ")"
      ],
      "metadata": {
        "colab": {
          "base_uri": "https://localhost:8080/"
        },
        "id": "EVkmuk7JvkmJ",
        "outputId": "acc4859b-cb91-4fa2-d70a-d44abb4c75f9"
      },
      "execution_count": 99,
      "outputs": [
        {
          "output_type": "stream",
          "name": "stdout",
          "text": [
            "Epoch 1/100\n"
          ]
        },
        {
          "output_type": "stream",
          "name": "stderr",
          "text": [
            "/usr/local/lib/python3.11/dist-packages/keras/src/layers/rnn/rnn.py:200: UserWarning: Do not pass an `input_shape`/`input_dim` argument to a layer. When using Sequential models, prefer using an `Input(shape)` object as the first layer in the model instead.\n",
            "  super().__init__(**kwargs)\n"
          ]
        },
        {
          "output_type": "stream",
          "name": "stdout",
          "text": [
            "\u001b[1m48/48\u001b[0m \u001b[32m━━━━━━━━━━━━━━━━━━━━\u001b[0m\u001b[37m\u001b[0m \u001b[1m3s\u001b[0m 14ms/step - loss: 0.1233 - val_loss: 0.1120\n",
            "Epoch 2/100\n",
            "\u001b[1m48/48\u001b[0m \u001b[32m━━━━━━━━━━━━━━━━━━━━\u001b[0m\u001b[37m\u001b[0m \u001b[1m1s\u001b[0m 8ms/step - loss: 0.0551 - val_loss: 0.0369\n",
            "Epoch 3/100\n",
            "\u001b[1m48/48\u001b[0m \u001b[32m━━━━━━━━━━━━━━━━━━━━\u001b[0m\u001b[37m\u001b[0m \u001b[1m1s\u001b[0m 8ms/step - loss: 0.0366 - val_loss: 0.0330\n",
            "Epoch 4/100\n",
            "\u001b[1m48/48\u001b[0m \u001b[32m━━━━━━━━━━━━━━━━━━━━\u001b[0m\u001b[37m\u001b[0m \u001b[1m0s\u001b[0m 8ms/step - loss: 0.0277 - val_loss: 0.0219\n",
            "Epoch 5/100\n",
            "\u001b[1m48/48\u001b[0m \u001b[32m━━━━━━━━━━━━━━━━━━━━\u001b[0m\u001b[37m\u001b[0m \u001b[1m1s\u001b[0m 8ms/step - loss: 0.0213 - val_loss: 0.0171\n",
            "Epoch 6/100\n",
            "\u001b[1m48/48\u001b[0m \u001b[32m━━━━━━━━━━━━━━━━━━━━\u001b[0m\u001b[37m\u001b[0m \u001b[1m0s\u001b[0m 8ms/step - loss: 0.0159 - val_loss: 0.0136\n",
            "Epoch 7/100\n",
            "\u001b[1m48/48\u001b[0m \u001b[32m━━━━━━━━━━━━━━━━━━━━\u001b[0m\u001b[37m\u001b[0m \u001b[1m1s\u001b[0m 12ms/step - loss: 0.0129 - val_loss: 0.0113\n",
            "Epoch 8/100\n",
            "\u001b[1m48/48\u001b[0m \u001b[32m━━━━━━━━━━━━━━━━━━━━\u001b[0m\u001b[37m\u001b[0m \u001b[1m1s\u001b[0m 13ms/step - loss: 0.0104 - val_loss: 0.0115\n",
            "Epoch 9/100\n",
            "\u001b[1m48/48\u001b[0m \u001b[32m━━━━━━━━━━━━━━━━━━━━\u001b[0m\u001b[37m\u001b[0m \u001b[1m1s\u001b[0m 12ms/step - loss: 0.0083 - val_loss: 0.0090\n",
            "Epoch 10/100\n",
            "\u001b[1m48/48\u001b[0m \u001b[32m━━━━━━━━━━━━━━━━━━━━\u001b[0m\u001b[37m\u001b[0m \u001b[1m1s\u001b[0m 13ms/step - loss: 0.0073 - val_loss: 0.0075\n",
            "Epoch 11/100\n",
            "\u001b[1m48/48\u001b[0m \u001b[32m━━━━━━━━━━━━━━━━━━━━\u001b[0m\u001b[37m\u001b[0m \u001b[1m1s\u001b[0m 8ms/step - loss: 0.0063 - val_loss: 0.0084\n",
            "Epoch 12/100\n",
            "\u001b[1m48/48\u001b[0m \u001b[32m━━━━━━━━━━━━━━━━━━━━\u001b[0m\u001b[37m\u001b[0m \u001b[1m1s\u001b[0m 8ms/step - loss: 0.0056 - val_loss: 0.0069\n",
            "Epoch 13/100\n",
            "\u001b[1m48/48\u001b[0m \u001b[32m━━━━━━━━━━━━━━━━━━━━\u001b[0m\u001b[37m\u001b[0m \u001b[1m0s\u001b[0m 8ms/step - loss: 0.0048 - val_loss: 0.0050\n",
            "Epoch 14/100\n",
            "\u001b[1m48/48\u001b[0m \u001b[32m━━━━━━━━━━━━━━━━━━━━\u001b[0m\u001b[37m\u001b[0m \u001b[1m1s\u001b[0m 8ms/step - loss: 0.0045 - val_loss: 0.0064\n",
            "Epoch 15/100\n",
            "\u001b[1m48/48\u001b[0m \u001b[32m━━━━━━━━━━━━━━━━━━━━\u001b[0m\u001b[37m\u001b[0m \u001b[1m1s\u001b[0m 8ms/step - loss: 0.0040 - val_loss: 0.0039\n",
            "Epoch 16/100\n",
            "\u001b[1m48/48\u001b[0m \u001b[32m━━━━━━━━━━━━━━━━━━━━\u001b[0m\u001b[37m\u001b[0m \u001b[1m0s\u001b[0m 8ms/step - loss: 0.0039 - val_loss: 0.0045\n",
            "Epoch 17/100\n",
            "\u001b[1m48/48\u001b[0m \u001b[32m━━━━━━━━━━━━━━━━━━━━\u001b[0m\u001b[37m\u001b[0m \u001b[1m1s\u001b[0m 8ms/step - loss: 0.0034 - val_loss: 0.0047\n",
            "Epoch 18/100\n",
            "\u001b[1m48/48\u001b[0m \u001b[32m━━━━━━━━━━━━━━━━━━━━\u001b[0m\u001b[37m\u001b[0m \u001b[1m0s\u001b[0m 8ms/step - loss: 0.0037 - val_loss: 0.0045\n",
            "Epoch 19/100\n",
            "\u001b[1m48/48\u001b[0m \u001b[32m━━━━━━━━━━━━━━━━━━━━\u001b[0m\u001b[37m\u001b[0m \u001b[1m0s\u001b[0m 8ms/step - loss: 0.0031 - val_loss: 0.0067\n",
            "Epoch 20/100\n",
            "\u001b[1m48/48\u001b[0m \u001b[32m━━━━━━━━━━━━━━━━━━━━\u001b[0m\u001b[37m\u001b[0m \u001b[1m1s\u001b[0m 8ms/step - loss: 0.0030 - val_loss: 0.0029\n",
            "Epoch 21/100\n",
            "\u001b[1m48/48\u001b[0m \u001b[32m━━━━━━━━━━━━━━━━━━━━\u001b[0m\u001b[37m\u001b[0m \u001b[1m1s\u001b[0m 8ms/step - loss: 0.0030 - val_loss: 0.0039\n",
            "Epoch 22/100\n",
            "\u001b[1m48/48\u001b[0m \u001b[32m━━━━━━━━━━━━━━━━━━━━\u001b[0m\u001b[37m\u001b[0m \u001b[1m1s\u001b[0m 8ms/step - loss: 0.0027 - val_loss: 0.0029\n",
            "Epoch 23/100\n",
            "\u001b[1m48/48\u001b[0m \u001b[32m━━━━━━━━━━━━━━━━━━━━\u001b[0m\u001b[37m\u001b[0m \u001b[1m0s\u001b[0m 8ms/step - loss: 0.0026 - val_loss: 0.0031\n",
            "Epoch 24/100\n",
            "\u001b[1m48/48\u001b[0m \u001b[32m━━━━━━━━━━━━━━━━━━━━\u001b[0m\u001b[37m\u001b[0m \u001b[1m0s\u001b[0m 8ms/step - loss: 0.0023 - val_loss: 0.0030\n",
            "Epoch 25/100\n",
            "\u001b[1m48/48\u001b[0m \u001b[32m━━━━━━━━━━━━━━━━━━━━\u001b[0m\u001b[37m\u001b[0m \u001b[1m1s\u001b[0m 8ms/step - loss: 0.0024 - val_loss: 0.0043\n",
            "Epoch 26/100\n",
            "\u001b[1m48/48\u001b[0m \u001b[32m━━━━━━━━━━━━━━━━━━━━\u001b[0m\u001b[37m\u001b[0m \u001b[1m0s\u001b[0m 8ms/step - loss: 0.0024 - val_loss: 0.0028\n",
            "Epoch 27/100\n",
            "\u001b[1m48/48\u001b[0m \u001b[32m━━━━━━━━━━━━━━━━━━━━\u001b[0m\u001b[37m\u001b[0m \u001b[1m0s\u001b[0m 8ms/step - loss: 0.0022 - val_loss: 0.0047\n",
            "Epoch 28/100\n",
            "\u001b[1m48/48\u001b[0m \u001b[32m━━━━━━━━━━━━━━━━━━━━\u001b[0m\u001b[37m\u001b[0m \u001b[1m0s\u001b[0m 9ms/step - loss: 0.0022 - val_loss: 0.0034\n",
            "Epoch 29/100\n",
            "\u001b[1m48/48\u001b[0m \u001b[32m━━━━━━━━━━━━━━━━━━━━\u001b[0m\u001b[37m\u001b[0m \u001b[1m1s\u001b[0m 11ms/step - loss: 0.0021 - val_loss: 0.0042\n",
            "Epoch 30/100\n",
            "\u001b[1m48/48\u001b[0m \u001b[32m━━━━━━━━━━━━━━━━━━━━\u001b[0m\u001b[37m\u001b[0m \u001b[1m1s\u001b[0m 13ms/step - loss: 0.0022 - val_loss: 0.0047\n",
            "Epoch 31/100\n",
            "\u001b[1m48/48\u001b[0m \u001b[32m━━━━━━━━━━━━━━━━━━━━\u001b[0m\u001b[37m\u001b[0m \u001b[1m1s\u001b[0m 14ms/step - loss: 0.0020 - val_loss: 0.0037\n",
            "Epoch 32/100\n",
            "\u001b[1m48/48\u001b[0m \u001b[32m━━━━━━━━━━━━━━━━━━━━\u001b[0m\u001b[37m\u001b[0m \u001b[1m1s\u001b[0m 12ms/step - loss: 0.0019 - val_loss: 0.0028\n",
            "Epoch 33/100\n",
            "\u001b[1m48/48\u001b[0m \u001b[32m━━━━━━━━━━━━━━━━━━━━\u001b[0m\u001b[37m\u001b[0m \u001b[1m1s\u001b[0m 13ms/step - loss: 0.0020 - val_loss: 0.0023\n",
            "Epoch 34/100\n",
            "\u001b[1m48/48\u001b[0m \u001b[32m━━━━━━━━━━━━━━━━━━━━\u001b[0m\u001b[37m\u001b[0m \u001b[1m0s\u001b[0m 10ms/step - loss: 0.0020 - val_loss: 0.0025\n",
            "Epoch 35/100\n",
            "\u001b[1m48/48\u001b[0m \u001b[32m━━━━━━━━━━━━━━━━━━━━\u001b[0m\u001b[37m\u001b[0m \u001b[1m1s\u001b[0m 8ms/step - loss: 0.0018 - val_loss: 0.0038\n",
            "Epoch 36/100\n",
            "\u001b[1m48/48\u001b[0m \u001b[32m━━━━━━━━━━━━━━━━━━━━\u001b[0m\u001b[37m\u001b[0m \u001b[1m0s\u001b[0m 8ms/step - loss: 0.0019 - val_loss: 0.0029\n",
            "Epoch 37/100\n",
            "\u001b[1m48/48\u001b[0m \u001b[32m━━━━━━━━━━━━━━━━━━━━\u001b[0m\u001b[37m\u001b[0m \u001b[1m1s\u001b[0m 8ms/step - loss: 0.0018 - val_loss: 0.0026\n",
            "Epoch 38/100\n",
            "\u001b[1m48/48\u001b[0m \u001b[32m━━━━━━━━━━━━━━━━━━━━\u001b[0m\u001b[37m\u001b[0m \u001b[1m1s\u001b[0m 9ms/step - loss: 0.0019 - val_loss: 0.0063\n",
            "Epoch 39/100\n",
            "\u001b[1m48/48\u001b[0m \u001b[32m━━━━━━━━━━━━━━━━━━━━\u001b[0m\u001b[37m\u001b[0m \u001b[1m1s\u001b[0m 8ms/step - loss: 0.0020 - val_loss: 0.0030\n",
            "Epoch 40/100\n",
            "\u001b[1m48/48\u001b[0m \u001b[32m━━━━━━━━━━━━━━━━━━━━\u001b[0m\u001b[37m\u001b[0m \u001b[1m0s\u001b[0m 8ms/step - loss: 0.0017 - val_loss: 0.0041\n",
            "Epoch 41/100\n",
            "\u001b[1m48/48\u001b[0m \u001b[32m━━━━━━━━━━━━━━━━━━━━\u001b[0m\u001b[37m\u001b[0m \u001b[1m1s\u001b[0m 8ms/step - loss: 0.0017 - val_loss: 0.0025\n",
            "Epoch 42/100\n",
            "\u001b[1m48/48\u001b[0m \u001b[32m━━━━━━━━━━━━━━━━━━━━\u001b[0m\u001b[37m\u001b[0m \u001b[1m1s\u001b[0m 8ms/step - loss: 0.0017 - val_loss: 0.0028\n",
            "Epoch 43/100\n",
            "\u001b[1m48/48\u001b[0m \u001b[32m━━━━━━━━━━━━━━━━━━━━\u001b[0m\u001b[37m\u001b[0m \u001b[1m1s\u001b[0m 8ms/step - loss: 0.0017 - val_loss: 0.0049\n",
            "Epoch 43: early stopping\n",
            "Restoring model weights from the end of the best epoch: 33.\n"
          ]
        }
      ]
    },
    {
      "cell_type": "markdown",
      "source": [
        "## Model Evaluation"
      ],
      "metadata": {
        "id": "QBuU3YIVEpFs"
      }
    },
    {
      "cell_type": "markdown",
      "source": [
        "### Evaluate Model on Test Data"
      ],
      "metadata": {
        "id": "qI6qeHhQEtC4"
      }
    },
    {
      "cell_type": "code",
      "source": [
        "# Evaluate model performance on test data\n",
        "test_loss = model.evaluate(testX, testY, verbose=1)\n",
        "print(f\"Test Loss (MSE): {test_loss:.6f}\")"
      ],
      "metadata": {
        "id": "C8xE9sXXEqHz",
        "outputId": "a753c2aa-8486-485b-db02-b7db713492ff",
        "colab": {
          "base_uri": "https://localhost:8080/"
        }
      },
      "execution_count": 100,
      "outputs": [
        {
          "output_type": "stream",
          "name": "stdout",
          "text": [
            "\u001b[1m24/24\u001b[0m \u001b[32m━━━━━━━━━━━━━━━━━━━━\u001b[0m\u001b[37m\u001b[0m \u001b[1m0s\u001b[0m 4ms/step - loss: 0.0016\n",
            "Test Loss (MSE): 0.002322\n"
          ]
        }
      ]
    },
    {
      "cell_type": "markdown",
      "source": [
        "### Plot Training & Validation Loss Curves"
      ],
      "metadata": {
        "id": "YAfKWYafE6Wq"
      }
    },
    {
      "cell_type": "code",
      "source": [
        "# Plot training and validation loss\n",
        "plt.plot(history.history['loss'], label='Train Loss')\n",
        "plt.plot(history.history['val_loss'], label='Validation Loss')\n",
        "plt.xlabel('Epochs')\n",
        "plt.ylabel('Loss')\n",
        "plt.title('Training vs. Validation Loss')\n",
        "plt.legend()\n",
        "plt.show()"
      ],
      "metadata": {
        "id": "cwkv85-AE7sR",
        "outputId": "99f10a86-9261-4cd1-9901-aac4acf46121",
        "colab": {
          "base_uri": "https://localhost:8080/",
          "height": 472
        }
      },
      "execution_count": 101,
      "outputs": [
        {
          "output_type": "display_data",
          "data": {
            "text/plain": [
              "<Figure size 640x480 with 1 Axes>"
            ],
            "image/png": "[encoded data removed]"
          },
          "metadata": {}
        }
      ]
    },
    {
      "cell_type": "markdown",
      "source": [
        "### Generate Predictions & Inverse Transform"
      ],
      "metadata": {
        "id": "ZRcyVxrLPXOd"
      }
    },
    {
      "cell_type": "code",
      "source": [
        "# Predict using the model\n",
        "predicted = model.predict(testX)\n",
        "\n",
        "# Inverse transform predictions if data was scaled\n",
        "predicted = scaler.inverse_transform(predicted)\n",
        "actual = scaler.inverse_transform(testY.reshape(-1, 1))"
      ],
      "metadata": {
        "id": "O-qJh4xPFxmO",
        "outputId": "36f3d883-e504-4bd9-bdb8-1a2a8a6cc436",
        "colab": {
          "base_uri": "https://localhost:8080/"
        }
      },
      "execution_count": 102,
      "outputs": [
        {
          "output_type": "stream",
          "name": "stdout",
          "text": [
            "\u001b[1m24/24\u001b[0m \u001b[32m━━━━━━━━━━━━━━━━━━━━\u001b[0m\u001b[37m\u001b[0m \u001b[1m0s\u001b[0m 9ms/step\n"
          ]
        }
      ]
    },
    {
      "cell_type": "markdown",
      "source": [
        "### Performance Metrics (RMSE & MAE)"
      ],
      "metadata": {
        "id": "ZuJqhgprPcVP"
      }
    },
    {
      "cell_type": "code",
      "source": [
        "# Calculate RMSE\n",
        "rmse = np.sqrt(mean_squared_error(actual, predicted))\n",
        "mae = mean_absolute_error(actual, predicted)\n",
        "\n",
        "print(f\"Root Mean Squared Error (RMSE): {rmse:.4f}\")\n",
        "print(f\"Mean Absolute Error (MAE): {mae:.4f}\")"
      ],
      "metadata": {
        "id": "ATVtbRjgF0rW",
        "outputId": "e07f4df7-f1f2-47bc-bdb5-35726405b322",
        "colab": {
          "base_uri": "https://localhost:8080/"
        }
      },
      "execution_count": 103,
      "outputs": [
        {
          "output_type": "stream",
          "name": "stdout",
          "text": [
            "Root Mean Squared Error (RMSE): 2777.5276\n",
            "Mean Absolute Error (MAE): 2108.5850\n"
          ]
        }
      ]
    },
    {
      "cell_type": "markdown",
      "source": [
        "### Plot Actual vs. Predicted Values"
      ],
      "metadata": {
        "id": "xh7-Jom6PuEe"
      }
    },
    {
      "cell_type": "code",
      "source": [
        "df['Date'] = df.index"
      ],
      "metadata": {
        "id": "cSGNDwXjRbyy"
      },
      "execution_count": 106,
      "outputs": []
    },
    {
      "cell_type": "code",
      "source": [
        "plt.figure(figsize=(12, 6))\n",
        "plt.plot(df['Date'][-len(actual):], actual, label=\"Actual Values\", color='blue', linestyle='solid')\n",
        "plt.plot(df['Date'][-len(predicted):], predicted, label=\"Predicted Values\", color='red', linestyle='dashed')\n",
        "\n",
        "# Graph labels\n",
        "plt.xlabel(\"Year\")\n",
        "plt.ylabel(\"Value\")\n",
        "plt.title(\"Actual vs. Predicted Values Over Time\")\n",
        "plt.legend()\n",
        "plt.xticks(rotation=45)  # Rotate for better visibility\n",
        "plt.show()"
      ],
      "metadata": {
        "id": "y0pTrXrvPv0l",
        "outputId": "1cfac5a4-165c-49c9-dcba-16b65d13a217",
        "colab": {
          "base_uri": "https://localhost:8080/",
          "height": 601
        }
      },
      "execution_count": 107,
      "outputs": [
        {
          "output_type": "display_data",
          "data": {
            "text/plain": [
              "<Figure size 1200x600 with 1 Axes>"
            ],
            "image/png": "[encoded data removed]"
          },
          "metadata": {}
        }
      ]
    }
  ]
}