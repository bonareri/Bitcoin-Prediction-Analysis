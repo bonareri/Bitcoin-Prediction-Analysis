{
  "nbformat": 4,
  "nbformat_minor": 0,
  "metadata": {
    "colab": {
      "provenance": [],
      "gpuType": "T4",
      "authorship_tag": "ABX9TyP//d4fJtAOc6BpMgwlIv2w",
      "include_colab_link": true
    },
    "kernelspec": {
      "name": "python3",
      "display_name": "Python 3"
    },
    "language_info": {
      "name": "python"
    },
    "accelerator": "GPU"
  },
  "cells": [
    {
      "cell_type": "markdown",
      "metadata": {
        "id": "view-in-github",
        "colab_type": "text"
      },
      "source": [
        "<a href=\"https://colab.research.google.com/github/bonareri/Bitcoin-Prediction-Analysis/blob/main/lstm_model.ipynb\" target=\"_parent\"><img src=\"https://colab.research.google.com/assets/colab-badge.svg\" alt=\"Open In Colab\"/></a>"
      ]
    },
    {
      "cell_type": "markdown",
      "source": [
        "## 1. Understanding the Dataset"
      ],
      "metadata": {
        "id": "mbm12DUi6ujn"
      }
    },
    {
      "cell_type": "code",
      "source": [
        "#Installing required library\n",
        "!pip install keras-tuner"
      ],
      "metadata": {
        "colab": {
          "base_uri": "https://localhost:8080/"
        },
        "id": "w5rfc9oHAyA1",
        "outputId": "d1030efd-4d61-4712-9c19-4dea88538fde"
      },
      "execution_count": 3,
      "outputs": [
        {
          "output_type": "stream",
          "name": "stdout",
          "text": [
            "Collecting keras-tuner\n",
            "  Downloading keras_tuner-1.4.7-py3-none-any.whl.metadata (5.4 kB)\n",
            "Requirement already satisfied: keras in /usr/local/lib/python3.11/dist-packages (from keras-tuner) (3.8.0)\n",
            "Requirement already satisfied: packaging in /usr/local/lib/python3.11/dist-packages (from keras-tuner) (24.2)\n",
            "Requirement already satisfied: requests in /usr/local/lib/python3.11/dist-packages (from keras-tuner) (2.32.3)\n",
            "Collecting kt-legacy (from keras-tuner)\n",
            "  Downloading kt_legacy-1.0.5-py3-none-any.whl.metadata (221 bytes)\n",
            "Requirement already satisfied: absl-py in /usr/local/lib/python3.11/dist-packages (from keras->keras-tuner) (1.4.0)\n",
            "Requirement already satisfied: numpy in /usr/local/lib/python3.11/dist-packages (from keras->keras-tuner) (1.26.4)\n",
            "Requirement already satisfied: rich in /usr/local/lib/python3.11/dist-packages (from keras->keras-tuner) (13.9.4)\n",
            "Requirement already satisfied: namex in /usr/local/lib/python3.11/dist-packages (from keras->keras-tuner) (0.0.8)\n",
            "Requirement already satisfied: h5py in /usr/local/lib/python3.11/dist-packages (from keras->keras-tuner) (3.12.1)\n",
            "Requirement already satisfied: optree in /usr/local/lib/python3.11/dist-packages (from keras->keras-tuner) (0.14.0)\n",
            "Requirement already satisfied: ml-dtypes in /usr/local/lib/python3.11/dist-packages (from keras->keras-tuner) (0.4.1)\n",
            "Requirement already satisfied: charset-normalizer<4,>=2 in /usr/local/lib/python3.11/dist-packages (from requests->keras-tuner) (3.4.1)\n",
            "Requirement already satisfied: idna<4,>=2.5 in /usr/local/lib/python3.11/dist-packages (from requests->keras-tuner) (3.10)\n",
            "Requirement already satisfied: urllib3<3,>=1.21.1 in /usr/local/lib/python3.11/dist-packages (from requests->keras-tuner) (2.3.0)\n",
            "Requirement already satisfied: certifi>=2017.4.17 in /usr/local/lib/python3.11/dist-packages (from requests->keras-tuner) (2024.12.14)\n",
            "Requirement already satisfied: typing-extensions>=4.5.0 in /usr/local/lib/python3.11/dist-packages (from optree->keras->keras-tuner) (4.12.2)\n",
            "Requirement already satisfied: markdown-it-py>=2.2.0 in /usr/local/lib/python3.11/dist-packages (from rich->keras->keras-tuner) (3.0.0)\n",
            "Requirement already satisfied: pygments<3.0.0,>=2.13.0 in /usr/local/lib/python3.11/dist-packages (from rich->keras->keras-tuner) (2.18.0)\n",
            "Requirement already satisfied: mdurl~=0.1 in /usr/local/lib/python3.11/dist-packages (from markdown-it-py>=2.2.0->rich->keras->keras-tuner) (0.1.2)\n",
            "Downloading keras_tuner-1.4.7-py3-none-any.whl (129 kB)\n",
            "\u001b[2K   \u001b[90m━━━━━━━━━━━━━━━━━━━━━━━━━━━━━━━━━━━━━━━━\u001b[0m \u001b[32m129.1/129.1 kB\u001b[0m \u001b[31m4.1 MB/s\u001b[0m eta \u001b[36m0:00:00\u001b[0m\n",
            "\u001b[?25hDownloading kt_legacy-1.0.5-py3-none-any.whl (9.6 kB)\n",
            "Installing collected packages: kt-legacy, keras-tuner\n",
            "Successfully installed keras-tuner-1.4.7 kt-legacy-1.0.5\n"
          ]
        }
      ]
    },
    {
      "cell_type": "code",
      "execution_count": 71,
      "metadata": {
        "id": "pPcUW1-BFSss"
      },
      "outputs": [],
      "source": [
        "#Importing necesseray libraries\n",
        "import pandas as pd\n",
        "import numpy as np\n",
        "import matplotlib.pyplot as plt\n",
        "import math\n",
        "from sklearn.metrics import mean_squared_error\n",
        "\n",
        "import keras_tuner as kt\n",
        "import tensorflow as tf\n",
        "from sklearn.preprocessing import MinMaxScaler\n",
        "from tensorflow.keras.models import Sequential\n",
        "from tensorflow.keras.optimizers import Adam\n",
        "from tensorflow.keras.layers import LSTM, Dense, Dropout, BatchNormalization\n",
        "from tensorflow.keras.callbacks import EarlyStopping, ReduceLROnPlateau\n",
        "from sklearn.model_selection import train_test_split"
      ]
    },
    {
      "cell_type": "code",
      "source": [
        "# Load preprocessed data\n",
        "df = pd.read_csv('/content/bitcoin_prices_preprocessed.csv', index_col='Date', parse_dates=True)\n",
        "\n",
        "# Display the first few rows of the data\n",
        "df.head()"
      ],
      "metadata": {
        "colab": {
          "base_uri": "https://localhost:8080/",
          "height": 237
        },
        "id": "Xd1yJyjYg6fT",
        "outputId": "0526dfdc-0f51-488a-d584-7aae4448c2d6"
      },
      "execution_count": 47,
      "outputs": [
        {
          "output_type": "execute_result",
          "data": {
            "text/plain": [
              "                  Open        High         Low       Close    Volume  \\\n",
              "Date                                                                   \n",
              "2015-03-07  272.294006  277.854004  270.132996  276.260986  17825900   \n",
              "2015-03-08  276.433014  277.858002  272.565002  274.354004  22067900   \n",
              "2015-03-09  274.812012  292.700989  273.893005  289.606995  59178200   \n",
              "2015-03-10  289.862000  300.044006  289.743011  291.760010  67770800   \n",
              "2015-03-11  291.524994  297.390991  290.507996  296.378998  33963900   \n",
              "\n",
              "            Daily_Return         MA7        MA30  \n",
              "Date                                              \n",
              "2015-03-07      0.012973  273.689715  244.523235  \n",
              "2015-03-08     -0.006903  275.711430  246.259502  \n",
              "2015-03-09      0.055596  277.702427  248.321268  \n",
              "2015-03-10      0.007434  279.139287  250.599535  \n",
              "2015-03-11      0.015831  282.465999  253.141835  "
            ],
            "text/html": [
              "\n",
              "  <div id=\"df-ed84e670-289b-430c-a262-1639255232fc\" class=\"colab-df-container\">\n",
              "    <div>\n",
              "<style scoped>\n",
              "    .dataframe tbody tr th:only-of-type {\n",
              "        vertical-align: middle;\n",
              "    }\n",
              "\n",
              "    .dataframe tbody tr th {\n",
              "        vertical-align: top;\n",
              "    }\n",
              "\n",
              "    .dataframe thead th {\n",
              "        text-align: right;\n",
              "    }\n",
              "</style>\n",
              "<table border=\"1\" class=\"dataframe\">\n",
              "  <thead>\n",
              "    <tr style=\"text-align: right;\">\n",
              "      <th></th>\n",
              "      <th>Open</th>\n",
              "      <th>High</th>\n",
              "      <th>Low</th>\n",
              "      <th>Close</th>\n",
              "      <th>Volume</th>\n",
              "      <th>Daily_Return</th>\n",
              "      <th>MA7</th>\n",
              "      <th>MA30</th>\n",
              "    </tr>\n",
              "    <tr>\n",
              "      <th>Date</th>\n",
              "      <th></th>\n",
              "      <th></th>\n",
              "      <th></th>\n",
              "      <th></th>\n",
              "      <th></th>\n",
              "      <th></th>\n",
              "      <th></th>\n",
              "      <th></th>\n",
              "    </tr>\n",
              "  </thead>\n",
              "  <tbody>\n",
              "    <tr>\n",
              "      <th>2015-03-07</th>\n",
              "      <td>272.294006</td>\n",
              "      <td>277.854004</td>\n",
              "      <td>270.132996</td>\n",
              "      <td>276.260986</td>\n",
              "      <td>17825900</td>\n",
              "      <td>0.012973</td>\n",
              "      <td>273.689715</td>\n",
              "      <td>244.523235</td>\n",
              "    </tr>\n",
              "    <tr>\n",
              "      <th>2015-03-08</th>\n",
              "      <td>276.433014</td>\n",
              "      <td>277.858002</td>\n",
              "      <td>272.565002</td>\n",
              "      <td>274.354004</td>\n",
              "      <td>22067900</td>\n",
              "      <td>-0.006903</td>\n",
              "      <td>275.711430</td>\n",
              "      <td>246.259502</td>\n",
              "    </tr>\n",
              "    <tr>\n",
              "      <th>2015-03-09</th>\n",
              "      <td>274.812012</td>\n",
              "      <td>292.700989</td>\n",
              "      <td>273.893005</td>\n",
              "      <td>289.606995</td>\n",
              "      <td>59178200</td>\n",
              "      <td>0.055596</td>\n",
              "      <td>277.702427</td>\n",
              "      <td>248.321268</td>\n",
              "    </tr>\n",
              "    <tr>\n",
              "      <th>2015-03-10</th>\n",
              "      <td>289.862000</td>\n",
              "      <td>300.044006</td>\n",
              "      <td>289.743011</td>\n",
              "      <td>291.760010</td>\n",
              "      <td>67770800</td>\n",
              "      <td>0.007434</td>\n",
              "      <td>279.139287</td>\n",
              "      <td>250.599535</td>\n",
              "    </tr>\n",
              "    <tr>\n",
              "      <th>2015-03-11</th>\n",
              "      <td>291.524994</td>\n",
              "      <td>297.390991</td>\n",
              "      <td>290.507996</td>\n",
              "      <td>296.378998</td>\n",
              "      <td>33963900</td>\n",
              "      <td>0.015831</td>\n",
              "      <td>282.465999</td>\n",
              "      <td>253.141835</td>\n",
              "    </tr>\n",
              "  </tbody>\n",
              "</table>\n",
              "</div>\n",
              "    <div class=\"colab-df-buttons\">\n",
              "\n",
              "  <div class=\"colab-df-container\">\n",
              "    <button class=\"colab-df-convert\" onclick=\"convertToInteractive('df-ed84e670-289b-430c-a262-1639255232fc')\"\n",
              "            title=\"Convert this dataframe to an interactive table.\"\n",
              "            style=\"display:none;\">\n",
              "\n",
              "  <svg xmlns=\"http://www.w3.org/2000/svg\" height=\"24px\" viewBox=\"0 -960 960 960\">\n",
              "    <path d=\"M120-120v-720h720v720H120Zm60-500h600v-160H180v160Zm220 220h160v-160H400v160Zm0 220h160v-160H400v160ZM180-400h160v-160H180v160Zm440 0h160v-160H620v160ZM180-180h160v-160H180v160Zm440 0h160v-160H620v160Z\"/>\n",
              "  </svg>\n",
              "    </button>\n",
              "\n",
              "  <style>\n",
              "    .colab-df-container {\n",
              "      display:flex;\n",
              "      gap: 12px;\n",
              "    }\n",
              "\n",
              "    .colab-df-convert {\n",
              "      background-color: #E8F0FE;\n",
              "      border: none;\n",
              "      border-radius: 50%;\n",
              "      cursor: pointer;\n",
              "      display: none;\n",
              "      fill: #1967D2;\n",
              "      height: 32px;\n",
              "      padding: 0 0 0 0;\n",
              "      width: 32px;\n",
              "    }\n",
              "\n",
              "    .colab-df-convert:hover {\n",
              "      background-color: #E2EBFA;\n",
              "      box-shadow: 0px 1px 2px rgba(60, 64, 67, 0.3), 0px 1px 3px 1px rgba(60, 64, 67, 0.15);\n",
              "      fill: #174EA6;\n",
              "    }\n",
              "\n",
              "    .colab-df-buttons div {\n",
              "      margin-bottom: 4px;\n",
              "    }\n",
              "\n",
              "    [theme=dark] .colab-df-convert {\n",
              "      background-color: #3B4455;\n",
              "      fill: #D2E3FC;\n",
              "    }\n",
              "\n",
              "    [theme=dark] .colab-df-convert:hover {\n",
              "      background-color: #434B5C;\n",
              "      box-shadow: 0px 1px 3px 1px rgba(0, 0, 0, 0.15);\n",
              "      filter: drop-shadow(0px 1px 2px rgba(0, 0, 0, 0.3));\n",
              "      fill: #FFFFFF;\n",
              "    }\n",
              "  </style>\n",
              "\n",
              "    <script>\n",
              "      const buttonEl =\n",
              "        document.querySelector('#df-ed84e670-289b-430c-a262-1639255232fc button.colab-df-convert');\n",
              "      buttonEl.style.display =\n",
              "        google.colab.kernel.accessAllowed ? 'block' : 'none';\n",
              "\n",
              "      async function convertToInteractive(key) {\n",
              "        const element = document.querySelector('#df-ed84e670-289b-430c-a262-1639255232fc');\n",
              "        const dataTable =\n",
              "          await google.colab.kernel.invokeFunction('convertToInteractive',\n",
              "                                                    [key], {});\n",
              "        if (!dataTable) return;\n",
              "\n",
              "        const docLinkHtml = 'Like what you see? Visit the ' +\n",
              "          '<a target=\"_blank\" href=https://colab.research.google.com/notebooks/data_table.ipynb>data table notebook</a>'\n",
              "          + ' to learn more about interactive tables.';\n",
              "        element.innerHTML = '';\n",
              "        dataTable['output_type'] = 'display_data';\n",
              "        await google.colab.output.renderOutput(dataTable, element);\n",
              "        const docLink = document.createElement('div');\n",
              "        docLink.innerHTML = docLinkHtml;\n",
              "        element.appendChild(docLink);\n",
              "      }\n",
              "    </script>\n",
              "  </div>\n",
              "\n",
              "\n",
              "<div id=\"df-95cb0723-5730-44a0-bc59-c5fbe73b0a63\">\n",
              "  <button class=\"colab-df-quickchart\" onclick=\"quickchart('df-95cb0723-5730-44a0-bc59-c5fbe73b0a63')\"\n",
              "            title=\"Suggest charts\"\n",
              "            style=\"display:none;\">\n",
              "\n",
              "<svg xmlns=\"http://www.w3.org/2000/svg\" height=\"24px\"viewBox=\"0 0 24 24\"\n",
              "     width=\"24px\">\n",
              "    <g>\n",
              "        <path d=\"M19 3H5c-1.1 0-2 .9-2 2v14c0 1.1.9 2 2 2h14c1.1 0 2-.9 2-2V5c0-1.1-.9-2-2-2zM9 17H7v-7h2v7zm4 0h-2V7h2v10zm4 0h-2v-4h2v4z\"/>\n",
              "    </g>\n",
              "</svg>\n",
              "  </button>\n",
              "\n",
              "<style>\n",
              "  .colab-df-quickchart {\n",
              "      --bg-color: #E8F0FE;\n",
              "      --fill-color: #1967D2;\n",
              "      --hover-bg-color: #E2EBFA;\n",
              "      --hover-fill-color: #174EA6;\n",
              "      --disabled-fill-color: #AAA;\n",
              "      --disabled-bg-color: #DDD;\n",
              "  }\n",
              "\n",
              "  [theme=dark] .colab-df-quickchart {\n",
              "      --bg-color: #3B4455;\n",
              "      --fill-color: #D2E3FC;\n",
              "      --hover-bg-color: #434B5C;\n",
              "      --hover-fill-color: #FFFFFF;\n",
              "      --disabled-bg-color: #3B4455;\n",
              "      --disabled-fill-color: #666;\n",
              "  }\n",
              "\n",
              "  .colab-df-quickchart {\n",
              "    background-color: var(--bg-color);\n",
              "    border: none;\n",
              "    border-radius: 50%;\n",
              "    cursor: pointer;\n",
              "    display: none;\n",
              "    fill: var(--fill-color);\n",
              "    height: 32px;\n",
              "    padding: 0;\n",
              "    width: 32px;\n",
              "  }\n",
              "\n",
              "  .colab-df-quickchart:hover {\n",
              "    background-color: var(--hover-bg-color);\n",
              "    box-shadow: 0 1px 2px rgba(60, 64, 67, 0.3), 0 1px 3px 1px rgba(60, 64, 67, 0.15);\n",
              "    fill: var(--button-hover-fill-color);\n",
              "  }\n",
              "\n",
              "  .colab-df-quickchart-complete:disabled,\n",
              "  .colab-df-quickchart-complete:disabled:hover {\n",
              "    background-color: var(--disabled-bg-color);\n",
              "    fill: var(--disabled-fill-color);\n",
              "    box-shadow: none;\n",
              "  }\n",
              "\n",
              "  .colab-df-spinner {\n",
              "    border: 2px solid var(--fill-color);\n",
              "    border-color: transparent;\n",
              "    border-bottom-color: var(--fill-color);\n",
              "    animation:\n",
              "      spin 1s steps(1) infinite;\n",
              "  }\n",
              "\n",
              "  @keyframes spin {\n",
              "    0% {\n",
              "      border-color: transparent;\n",
              "      border-bottom-color: var(--fill-color);\n",
              "      border-left-color: var(--fill-color);\n",
              "    }\n",
              "    20% {\n",
              "      border-color: transparent;\n",
              "      border-left-color: var(--fill-color);\n",
              "      border-top-color: var(--fill-color);\n",
              "    }\n",
              "    30% {\n",
              "      border-color: transparent;\n",
              "      border-left-color: var(--fill-color);\n",
              "      border-top-color: var(--fill-color);\n",
              "      border-right-color: var(--fill-color);\n",
              "    }\n",
              "    40% {\n",
              "      border-color: transparent;\n",
              "      border-right-color: var(--fill-color);\n",
              "      border-top-color: var(--fill-color);\n",
              "    }\n",
              "    60% {\n",
              "      border-color: transparent;\n",
              "      border-right-color: var(--fill-color);\n",
              "    }\n",
              "    80% {\n",
              "      border-color: transparent;\n",
              "      border-right-color: var(--fill-color);\n",
              "      border-bottom-color: var(--fill-color);\n",
              "    }\n",
              "    90% {\n",
              "      border-color: transparent;\n",
              "      border-bottom-color: var(--fill-color);\n",
              "    }\n",
              "  }\n",
              "</style>\n",
              "\n",
              "  <script>\n",
              "    async function quickchart(key) {\n",
              "      const quickchartButtonEl =\n",
              "        document.querySelector('#' + key + ' button');\n",
              "      quickchartButtonEl.disabled = true;  // To prevent multiple clicks.\n",
              "      quickchartButtonEl.classList.add('colab-df-spinner');\n",
              "      try {\n",
              "        const charts = await google.colab.kernel.invokeFunction(\n",
              "            'suggestCharts', [key], {});\n",
              "      } catch (error) {\n",
              "        console.error('Error during call to suggestCharts:', error);\n",
              "      }\n",
              "      quickchartButtonEl.classList.remove('colab-df-spinner');\n",
              "      quickchartButtonEl.classList.add('colab-df-quickchart-complete');\n",
              "    }\n",
              "    (() => {\n",
              "      let quickchartButtonEl =\n",
              "        document.querySelector('#df-95cb0723-5730-44a0-bc59-c5fbe73b0a63 button');\n",
              "      quickchartButtonEl.style.display =\n",
              "        google.colab.kernel.accessAllowed ? 'block' : 'none';\n",
              "    })();\n",
              "  </script>\n",
              "</div>\n",
              "\n",
              "    </div>\n",
              "  </div>\n"
            ],
            "application/vnd.google.colaboratory.intrinsic+json": {
              "type": "dataframe",
              "variable_name": "df",
              "summary": "{\n  \"name\": \"df\",\n  \"rows\": 3625,\n  \"fields\": [\n    {\n      \"column\": \"Date\",\n      \"properties\": {\n        \"dtype\": \"date\",\n        \"min\": \"2015-03-07 00:00:00\",\n        \"max\": \"2025-02-06 00:00:00\",\n        \"num_unique_values\": 3625,\n        \"samples\": [\n          \"2016-11-01 00:00:00\",\n          \"2019-02-18 00:00:00\",\n          \"2022-10-14 00:00:00\"\n        ],\n        \"semantic_type\": \"\",\n        \"description\": \"\"\n      }\n    },\n    {\n      \"column\": \"Open\",\n      \"properties\": {\n        \"dtype\": \"number\",\n        \"std\": 23485.71430065223,\n        \"min\": 210.0679931640625,\n        \"max\": 106147.296875,\n        \"num_unique_values\": 3624,\n        \"samples\": [\n          701.3369750976562,\n          3911.66162109375,\n          68526.921875\n        ],\n        \"semantic_type\": \"\",\n        \"description\": \"\"\n      }\n    },\n    {\n      \"column\": \"High\",\n      \"properties\": {\n        \"dtype\": \"number\",\n        \"std\": 23996.26166821804,\n        \"min\": 223.8329925537109,\n        \"max\": 109114.8828125,\n        \"num_unique_values\": 3623,\n        \"samples\": [\n          9423.2373046875,\n          3616.08740234375,\n          9518.5400390625\n        ],\n        \"semantic_type\": \"\",\n        \"description\": \"\"\n      }\n    },\n    {\n      \"column\": \"Low\",\n      \"properties\": {\n        \"dtype\": \"number\",\n        \"std\": 22959.85173157081,\n        \"min\": 199.56700134277344,\n        \"max\": 105291.734375,\n        \"num_unique_values\": 3623,\n        \"samples\": [\n          9256.931640625,\n          3565.31396484375,\n          8599.919921875\n        ],\n        \"semantic_type\": \"\",\n        \"description\": \"\"\n      }\n    },\n    {\n      \"column\": \"Close\",\n      \"properties\": {\n        \"dtype\": \"number\",\n        \"std\": 23515.900548952905,\n        \"min\": 210.4949951171875,\n        \"max\": 106146.265625,\n        \"num_unique_values\": 3622,\n        \"samples\": [\n          9267.5615234375,\n          3599.765869140625,\n          10166.400390625\n        ],\n        \"semantic_type\": \"\",\n        \"description\": \"\"\n      }\n    },\n    {\n      \"column\": \"Volume\",\n      \"properties\": {\n        \"dtype\": \"number\",\n        \"std\": 20780026917,\n        \"min\": 10600900,\n        \"max\": 350967941479,\n        \"num_unique_values\": 3625,\n        \"samples\": [\n          130527000,\n          9908216640,\n          38452356727\n        ],\n        \"semantic_type\": \"\",\n        \"description\": \"\"\n      }\n    },\n    {\n      \"column\": \"Daily_Return\",\n      \"properties\": {\n        \"dtype\": \"number\",\n        \"std\": 0.03567537723474995,\n        \"min\": -0.3716953856011707,\n        \"max\": 0.2524716942763181,\n        \"num_unique_values\": 3625,\n        \"samples\": [\n          0.0411158299393323,\n          0.0658380400946754,\n          -0.0101763927558988\n        ],\n        \"semantic_type\": \"\",\n        \"description\": \"\"\n      }\n    },\n    {\n      \"column\": \"MA7\",\n      \"properties\": {\n        \"dtype\": \"number\",\n        \"std\": 23396.071905143177,\n        \"min\": 223.5700007847377,\n        \"max\": 104009.11830357143,\n        \"num_unique_values\": 3624,\n        \"samples\": [\n          700.4822910853794,\n          3719.4564034598216,\n          68958.1484375\n        ],\n        \"semantic_type\": \"\",\n        \"description\": \"\"\n      }\n    },\n    {\n      \"column\": \"MA30\",\n      \"properties\": {\n        \"dtype\": \"number\",\n        \"std\": 22895.012475433574,\n        \"min\": 230.42229919433595,\n        \"max\": 100395.94322916666,\n        \"num_unique_values\": 3625,\n        \"samples\": [\n          648.4999003092448,\n          3574.911596679688,\n          19399.327083333334\n        ],\n        \"semantic_type\": \"\",\n        \"description\": \"\"\n      }\n    }\n  ]\n}"
            }
          },
          "metadata": {},
          "execution_count": 47
        }
      ]
    },
    {
      "cell_type": "code",
      "source": [
        "df.info()"
      ],
      "metadata": {
        "colab": {
          "base_uri": "https://localhost:8080/"
        },
        "id": "DZ558IwxoZDP",
        "outputId": "4dcb85ca-0d06-457f-f47e-f77689d917b0"
      },
      "execution_count": 48,
      "outputs": [
        {
          "output_type": "stream",
          "name": "stdout",
          "text": [
            "<class 'pandas.core.frame.DataFrame'>\n",
            "DatetimeIndex: 3625 entries, 2015-03-07 to 2025-02-06\n",
            "Data columns (total 8 columns):\n",
            " #   Column        Non-Null Count  Dtype  \n",
            "---  ------        --------------  -----  \n",
            " 0   Open          3625 non-null   float64\n",
            " 1   High          3625 non-null   float64\n",
            " 2   Low           3625 non-null   float64\n",
            " 3   Close         3625 non-null   float64\n",
            " 4   Volume        3625 non-null   int64  \n",
            " 5   Daily_Return  3625 non-null   float64\n",
            " 6   MA7           3625 non-null   float64\n",
            " 7   MA30          3625 non-null   float64\n",
            "dtypes: float64(7), int64(1)\n",
            "memory usage: 254.9 KB\n"
          ]
        }
      ]
    },
    {
      "cell_type": "code",
      "source": [
        "# Select only the 'Close' price\n",
        "df_close = df[['Close']]  # This ensures only the 'Close' column is selected"
      ],
      "metadata": {
        "id": "kNDTCQYxrbTB"
      },
      "execution_count": 49,
      "outputs": []
    },
    {
      "cell_type": "code",
      "source": [
        "df_close.head()"
      ],
      "metadata": {
        "colab": {
          "base_uri": "https://localhost:8080/",
          "height": 237
        },
        "id": "7r1VbXuHrdfX",
        "outputId": "406851df-ce75-43d9-c697-4f9948d41b8b"
      },
      "execution_count": 50,
      "outputs": [
        {
          "output_type": "execute_result",
          "data": {
            "text/plain": [
              "                 Close\n",
              "Date                  \n",
              "2015-03-07  276.260986\n",
              "2015-03-08  274.354004\n",
              "2015-03-09  289.606995\n",
              "2015-03-10  291.760010\n",
              "2015-03-11  296.378998"
            ],
            "text/html": [
              "\n",
              "  <div id=\"df-76a5150f-7da7-48a2-a91c-56c95abf1f4b\" class=\"colab-df-container\">\n",
              "    <div>\n",
              "<style scoped>\n",
              "    .dataframe tbody tr th:only-of-type {\n",
              "        vertical-align: middle;\n",
              "    }\n",
              "\n",
              "    .dataframe tbody tr th {\n",
              "        vertical-align: top;\n",
              "    }\n",
              "\n",
              "    .dataframe thead th {\n",
              "        text-align: right;\n",
              "    }\n",
              "</style>\n",
              "<table border=\"1\" class=\"dataframe\">\n",
              "  <thead>\n",
              "    <tr style=\"text-align: right;\">\n",
              "      <th></th>\n",
              "      <th>Close</th>\n",
              "    </tr>\n",
              "    <tr>\n",
              "      <th>Date</th>\n",
              "      <th></th>\n",
              "    </tr>\n",
              "  </thead>\n",
              "  <tbody>\n",
              "    <tr>\n",
              "      <th>2015-03-07</th>\n",
              "      <td>276.260986</td>\n",
              "    </tr>\n",
              "    <tr>\n",
              "      <th>2015-03-08</th>\n",
              "      <td>274.354004</td>\n",
              "    </tr>\n",
              "    <tr>\n",
              "      <th>2015-03-09</th>\n",
              "      <td>289.606995</td>\n",
              "    </tr>\n",
              "    <tr>\n",
              "      <th>2015-03-10</th>\n",
              "      <td>291.760010</td>\n",
              "    </tr>\n",
              "    <tr>\n",
              "      <th>2015-03-11</th>\n",
              "      <td>296.378998</td>\n",
              "    </tr>\n",
              "  </tbody>\n",
              "</table>\n",
              "</div>\n",
              "    <div class=\"colab-df-buttons\">\n",
              "\n",
              "  <div class=\"colab-df-container\">\n",
              "    <button class=\"colab-df-convert\" onclick=\"convertToInteractive('df-76a5150f-7da7-48a2-a91c-56c95abf1f4b')\"\n",
              "            title=\"Convert this dataframe to an interactive table.\"\n",
              "            style=\"display:none;\">\n",
              "\n",
              "  <svg xmlns=\"http://www.w3.org/2000/svg\" height=\"24px\" viewBox=\"0 -960 960 960\">\n",
              "    <path d=\"M120-120v-720h720v720H120Zm60-500h600v-160H180v160Zm220 220h160v-160H400v160Zm0 220h160v-160H400v160ZM180-400h160v-160H180v160Zm440 0h160v-160H620v160ZM180-180h160v-160H180v160Zm440 0h160v-160H620v160Z\"/>\n",
              "  </svg>\n",
              "    </button>\n",
              "\n",
              "  <style>\n",
              "    .colab-df-container {\n",
              "      display:flex;\n",
              "      gap: 12px;\n",
              "    }\n",
              "\n",
              "    .colab-df-convert {\n",
              "      background-color: #E8F0FE;\n",
              "      border: none;\n",
              "      border-radius: 50%;\n",
              "      cursor: pointer;\n",
              "      display: none;\n",
              "      fill: #1967D2;\n",
              "      height: 32px;\n",
              "      padding: 0 0 0 0;\n",
              "      width: 32px;\n",
              "    }\n",
              "\n",
              "    .colab-df-convert:hover {\n",
              "      background-color: #E2EBFA;\n",
              "      box-shadow: 0px 1px 2px rgba(60, 64, 67, 0.3), 0px 1px 3px 1px rgba(60, 64, 67, 0.15);\n",
              "      fill: #174EA6;\n",
              "    }\n",
              "\n",
              "    .colab-df-buttons div {\n",
              "      margin-bottom: 4px;\n",
              "    }\n",
              "\n",
              "    [theme=dark] .colab-df-convert {\n",
              "      background-color: #3B4455;\n",
              "      fill: #D2E3FC;\n",
              "    }\n",
              "\n",
              "    [theme=dark] .colab-df-convert:hover {\n",
              "      background-color: #434B5C;\n",
              "      box-shadow: 0px 1px 3px 1px rgba(0, 0, 0, 0.15);\n",
              "      filter: drop-shadow(0px 1px 2px rgba(0, 0, 0, 0.3));\n",
              "      fill: #FFFFFF;\n",
              "    }\n",
              "  </style>\n",
              "\n",
              "    <script>\n",
              "      const buttonEl =\n",
              "        document.querySelector('#df-76a5150f-7da7-48a2-a91c-56c95abf1f4b button.colab-df-convert');\n",
              "      buttonEl.style.display =\n",
              "        google.colab.kernel.accessAllowed ? 'block' : 'none';\n",
              "\n",
              "      async function convertToInteractive(key) {\n",
              "        const element = document.querySelector('#df-76a5150f-7da7-48a2-a91c-56c95abf1f4b');\n",
              "        const dataTable =\n",
              "          await google.colab.kernel.invokeFunction('convertToInteractive',\n",
              "                                                    [key], {});\n",
              "        if (!dataTable) return;\n",
              "\n",
              "        const docLinkHtml = 'Like what you see? Visit the ' +\n",
              "          '<a target=\"_blank\" href=https://colab.research.google.com/notebooks/data_table.ipynb>data table notebook</a>'\n",
              "          + ' to learn more about interactive tables.';\n",
              "        element.innerHTML = '';\n",
              "        dataTable['output_type'] = 'display_data';\n",
              "        await google.colab.output.renderOutput(dataTable, element);\n",
              "        const docLink = document.createElement('div');\n",
              "        docLink.innerHTML = docLinkHtml;\n",
              "        element.appendChild(docLink);\n",
              "      }\n",
              "    </script>\n",
              "  </div>\n",
              "\n",
              "\n",
              "<div id=\"df-f1dbe99e-ddee-4452-8aeb-c15e2b4ca40f\">\n",
              "  <button class=\"colab-df-quickchart\" onclick=\"quickchart('df-f1dbe99e-ddee-4452-8aeb-c15e2b4ca40f')\"\n",
              "            title=\"Suggest charts\"\n",
              "            style=\"display:none;\">\n",
              "\n",
              "<svg xmlns=\"http://www.w3.org/2000/svg\" height=\"24px\"viewBox=\"0 0 24 24\"\n",
              "     width=\"24px\">\n",
              "    <g>\n",
              "        <path d=\"M19 3H5c-1.1 0-2 .9-2 2v14c0 1.1.9 2 2 2h14c1.1 0 2-.9 2-2V5c0-1.1-.9-2-2-2zM9 17H7v-7h2v7zm4 0h-2V7h2v10zm4 0h-2v-4h2v4z\"/>\n",
              "    </g>\n",
              "</svg>\n",
              "  </button>\n",
              "\n",
              "<style>\n",
              "  .colab-df-quickchart {\n",
              "      --bg-color: #E8F0FE;\n",
              "      --fill-color: #1967D2;\n",
              "      --hover-bg-color: #E2EBFA;\n",
              "      --hover-fill-color: #174EA6;\n",
              "      --disabled-fill-color: #AAA;\n",
              "      --disabled-bg-color: #DDD;\n",
              "  }\n",
              "\n",
              "  [theme=dark] .colab-df-quickchart {\n",
              "      --bg-color: #3B4455;\n",
              "      --fill-color: #D2E3FC;\n",
              "      --hover-bg-color: #434B5C;\n",
              "      --hover-fill-color: #FFFFFF;\n",
              "      --disabled-bg-color: #3B4455;\n",
              "      --disabled-fill-color: #666;\n",
              "  }\n",
              "\n",
              "  .colab-df-quickchart {\n",
              "    background-color: var(--bg-color);\n",
              "    border: none;\n",
              "    border-radius: 50%;\n",
              "    cursor: pointer;\n",
              "    display: none;\n",
              "    fill: var(--fill-color);\n",
              "    height: 32px;\n",
              "    padding: 0;\n",
              "    width: 32px;\n",
              "  }\n",
              "\n",
              "  .colab-df-quickchart:hover {\n",
              "    background-color: var(--hover-bg-color);\n",
              "    box-shadow: 0 1px 2px rgba(60, 64, 67, 0.3), 0 1px 3px 1px rgba(60, 64, 67, 0.15);\n",
              "    fill: var(--button-hover-fill-color);\n",
              "  }\n",
              "\n",
              "  .colab-df-quickchart-complete:disabled,\n",
              "  .colab-df-quickchart-complete:disabled:hover {\n",
              "    background-color: var(--disabled-bg-color);\n",
              "    fill: var(--disabled-fill-color);\n",
              "    box-shadow: none;\n",
              "  }\n",
              "\n",
              "  .colab-df-spinner {\n",
              "    border: 2px solid var(--fill-color);\n",
              "    border-color: transparent;\n",
              "    border-bottom-color: var(--fill-color);\n",
              "    animation:\n",
              "      spin 1s steps(1) infinite;\n",
              "  }\n",
              "\n",
              "  @keyframes spin {\n",
              "    0% {\n",
              "      border-color: transparent;\n",
              "      border-bottom-color: var(--fill-color);\n",
              "      border-left-color: var(--fill-color);\n",
              "    }\n",
              "    20% {\n",
              "      border-color: transparent;\n",
              "      border-left-color: var(--fill-color);\n",
              "      border-top-color: var(--fill-color);\n",
              "    }\n",
              "    30% {\n",
              "      border-color: transparent;\n",
              "      border-left-color: var(--fill-color);\n",
              "      border-top-color: var(--fill-color);\n",
              "      border-right-color: var(--fill-color);\n",
              "    }\n",
              "    40% {\n",
              "      border-color: transparent;\n",
              "      border-right-color: var(--fill-color);\n",
              "      border-top-color: var(--fill-color);\n",
              "    }\n",
              "    60% {\n",
              "      border-color: transparent;\n",
              "      border-right-color: var(--fill-color);\n",
              "    }\n",
              "    80% {\n",
              "      border-color: transparent;\n",
              "      border-right-color: var(--fill-color);\n",
              "      border-bottom-color: var(--fill-color);\n",
              "    }\n",
              "    90% {\n",
              "      border-color: transparent;\n",
              "      border-bottom-color: var(--fill-color);\n",
              "    }\n",
              "  }\n",
              "</style>\n",
              "\n",
              "  <script>\n",
              "    async function quickchart(key) {\n",
              "      const quickchartButtonEl =\n",
              "        document.querySelector('#' + key + ' button');\n",
              "      quickchartButtonEl.disabled = true;  // To prevent multiple clicks.\n",
              "      quickchartButtonEl.classList.add('colab-df-spinner');\n",
              "      try {\n",
              "        const charts = await google.colab.kernel.invokeFunction(\n",
              "            'suggestCharts', [key], {});\n",
              "      } catch (error) {\n",
              "        console.error('Error during call to suggestCharts:', error);\n",
              "      }\n",
              "      quickchartButtonEl.classList.remove('colab-df-spinner');\n",
              "      quickchartButtonEl.classList.add('colab-df-quickchart-complete');\n",
              "    }\n",
              "    (() => {\n",
              "      let quickchartButtonEl =\n",
              "        document.querySelector('#df-f1dbe99e-ddee-4452-8aeb-c15e2b4ca40f button');\n",
              "      quickchartButtonEl.style.display =\n",
              "        google.colab.kernel.accessAllowed ? 'block' : 'none';\n",
              "    })();\n",
              "  </script>\n",
              "</div>\n",
              "\n",
              "    </div>\n",
              "  </div>\n"
            ],
            "application/vnd.google.colaboratory.intrinsic+json": {
              "type": "dataframe",
              "variable_name": "df_close",
              "summary": "{\n  \"name\": \"df_close\",\n  \"rows\": 3625,\n  \"fields\": [\n    {\n      \"column\": \"Date\",\n      \"properties\": {\n        \"dtype\": \"date\",\n        \"min\": \"2015-03-07 00:00:00\",\n        \"max\": \"2025-02-06 00:00:00\",\n        \"num_unique_values\": 3625,\n        \"samples\": [\n          \"2016-11-01 00:00:00\",\n          \"2019-02-18 00:00:00\",\n          \"2022-10-14 00:00:00\"\n        ],\n        \"semantic_type\": \"\",\n        \"description\": \"\"\n      }\n    },\n    {\n      \"column\": \"Close\",\n      \"properties\": {\n        \"dtype\": \"number\",\n        \"std\": 23515.900548952905,\n        \"min\": 210.4949951171875,\n        \"max\": 106146.265625,\n        \"num_unique_values\": 3622,\n        \"samples\": [\n          9267.5615234375,\n          3599.765869140625,\n          10166.400390625\n        ],\n        \"semantic_type\": \"\",\n        \"description\": \"\"\n      }\n    }\n  ]\n}"
            }
          },
          "metadata": {},
          "execution_count": 50
        }
      ]
    },
    {
      "cell_type": "markdown",
      "source": [
        "## Train Test Split"
      ],
      "metadata": {
        "id": "s7Dd5VN9Yxp6"
      }
    },
    {
      "cell_type": "code",
      "source": [
        "# Define the number of prediction days (e.g., 60 days for test set)\n",
        "prediction_days = 60\n",
        "\n",
        "# Training Data: All data except the last 'prediction_days'\n",
        "df_train = df_close[:len(df_close) - prediction_days].values\n",
        "\n",
        "# Test Data: The last 'prediction_days' (e.g., last 60 days)\n",
        "df_test = df_close[len(df_close) - prediction_days:].values"
      ],
      "metadata": {
        "id": "PVgo_B91cS-n"
      },
      "execution_count": 51,
      "outputs": []
    },
    {
      "cell_type": "code",
      "source": [
        "df_train.shape"
      ],
      "metadata": {
        "colab": {
          "base_uri": "https://localhost:8080/"
        },
        "id": "fqeYMt6TpDNx",
        "outputId": "632f458a-4fdc-4aa6-aa05-59e940665fe7"
      },
      "execution_count": 52,
      "outputs": [
        {
          "output_type": "execute_result",
          "data": {
            "text/plain": [
              "(3565, 1)"
            ]
          },
          "metadata": {},
          "execution_count": 52
        }
      ]
    },
    {
      "cell_type": "code",
      "source": [
        "df_test.shape"
      ],
      "metadata": {
        "colab": {
          "base_uri": "https://localhost:8080/"
        },
        "id": "bje4cMcik1ZK",
        "outputId": "075301b0-eb75-4795-9bd1-4926620796b1"
      },
      "execution_count": 53,
      "outputs": [
        {
          "output_type": "execute_result",
          "data": {
            "text/plain": [
              "(60, 1)"
            ]
          },
          "metadata": {},
          "execution_count": 53
        }
      ]
    },
    {
      "cell_type": "code",
      "source": [
        "chosen_col = 'Close'\n",
        "\n",
        "fig, ax = plt.subplots(1, figsize=(13, 7))\n",
        "ax.plot(df_train, label='Train', linewidth=2)\n",
        "ax.plot(df_test, label='Test', linewidth=2)\n",
        "ax.set_ylabel('Price USD', fontsize=14)\n",
        "ax.set_title('', fontsize=16)\n",
        "ax.legend(loc='best', fontsize=16)"
      ],
      "metadata": {
        "colab": {
          "base_uri": "https://localhost:8080/",
          "height": 616
        },
        "id": "-9rR1Uy_r7JD",
        "outputId": "18ee0421-5672-40b0-c22a-77c3090bb2d3"
      },
      "execution_count": 54,
      "outputs": [
        {
          "output_type": "execute_result",
          "data": {
            "text/plain": [
              "<matplotlib.legend.Legend at 0x783f272c5390>"
            ]
          },
          "metadata": {},
          "execution_count": 54
        },
        {
          "output_type": "display_data",
          "data": {
            "text/plain": [
              "<Figure size 1300x700 with 1 Axes>"
            ],
            "image/png": "[encoded data removed]"
          },
          "metadata": {}
        }
      ]
    },
    {
      "cell_type": "markdown",
      "source": [
        "## 2. Data Preprocessing"
      ],
      "metadata": {
        "id": "1Ua8q24k529k"
      }
    },
    {
      "cell_type": "markdown",
      "source": [
        "<div style=\"background: linear-gradient(45deg, #FFC300, #FF5733, #C70039, #900C3F); padding: 10px; border-radius: 5px; display: flex; align-items: center;\">\n",
        "    <h3 style=\"font-weight: bold; color: white; margin: 0 auto;\"> Min Max Scaling of Data post Train-Test Split </h3>\n",
        "</div>\n",
        "\n",
        "\n",
        "\n",
        "Scaling must be done after the data has been split into training and test sets — with each being scaled separately.\n",
        "\n",
        "A common mistake when first using the LSTM is to first normalize the data before splitting the data.\n",
        "\n",
        "The reason this is erroneous is that the normalization technique will use data from the test sets as a reference point when scaling the data as a whole. This will inadvertently influence the values of the training data, essentially resulting in data leakage from the test sets.\n"
      ],
      "metadata": {
        "id": "py9IxVq9eaZ7"
      }
    },
    {
      "cell_type": "code",
      "source": [
        "# Initialize the scaler for the training data\n",
        "scaler_train = MinMaxScaler(feature_range=(0, 1))\n",
        "\n",
        "# Rescale the training data\n",
        "scaled_train = scaler_train.fit_transform(df_train.reshape(-1, 1))  # Reshape to (n_samples, 1) before scaling\n",
        "\n",
        "# Initialize the scaler for the test data\n",
        "scaler_test = MinMaxScaler(feature_range=(0, 1))\n",
        "\n",
        "# Rescale the test data using the scaler fitted on the test set\n",
        "scaled_test = scaler_test.fit_transform(df_test.reshape(-1, 1))  # Only transform test data"
      ],
      "metadata": {
        "id": "GTYbU7qesi-7"
      },
      "execution_count": 55,
      "outputs": []
    },
    {
      "cell_type": "markdown",
      "source": [
        "<div style=\"background: linear-gradient(45deg, #FFC300, #FF5733, #C70039, #900C3F); padding: 10px; border-radius: 5px; display: flex; align-items: center;\">\n",
        "    <h3 style=\"font-weight: bold; color: white; margin: 0 auto;\"> Dataset Generator for LSTM </h3>\n",
        "</div>\n",
        "\n",
        "\n",
        "\n",
        "We will frame the problem to take a window of the last so many number of days of data to predict the current days data.\n",
        "\n",
        "To achieve this, we will define a new function named `dataset_generator_lstm()` that will split the input sequence into windows of data appropriate for fitting a supervised learning model, like an LSTM\n",
        "\n",
        "\n",
        "For example, if the sequence was:\n",
        "\n",
        "1, 2, 3, 4, 5, 6, 7, 8, 9, 10\n",
        "\n",
        "\n",
        "Then the samples for training the model will look like:\n",
        "\n",
        "```\n",
        "\n",
        "Input \t\t\t\t| Output\n",
        "1, 2, 3, 4, 5 \t\t6\n",
        "2, 3, 4, 5, 6 \t\t7\n",
        "3, 4, 5, 6, 7 \t\t8\n",
        "\n",
        "```\n",
        "\n",
        "LSTMs expect each sample in the dataset to have two dimensions; the first is the number of time steps (in the above case it is 5), and the second is the number of observations per time step (in this case it is 1).\n",
        "\n",
        "Because it is a regression type problem, we will use a linear activation function in the output layer and optimize the mean squared error loss function. We will also evaluate the model using the mean squared error (MSE) metric.\n",
        "\n",
        "## Define look_back period\n",
        "\n",
        "A “lookback period” defines how many previous timesteps are used in order to predict the subsequent timestep.\n",
        "\n",
        "For example if I set the lookback period is to 5, that that means that I am using the time steps at t-4, t-3, t-2, t-1, and t to predict the value at time t+1.\n",
        "\n",
        "For my case below, I will be using a one-step prediction model.\n",
        "\n",
        "### Lookback period\n",
        "\n",
        "\n",
        "```py\n",
        "\n",
        "lookback = 5\n",
        "\n",
        "X_train, Y_train = dataset_generator_lstm(train, lookback)\n",
        "\n",
        "X_val, Y_val = dataset_generator_lstm(val, lookback)\n",
        "\n",
        "```\n",
        "\n",
        "### Quick note on Python slice notation for slicing an array\n",
        "\n",
        "- [1:5] is equivalent to \"from 1 to 5\" (5 not included)\n",
        "\n",
        "- [1:] is equivalent to \"1 to end\"\n",
        "\n",
        "- [len(a):] is equivalent to \"from length of a to end\"\n",
        "\n",
        "In the below function I will generate the train_X array and train_y array for feeding into the LSTM"
      ],
      "metadata": {
        "id": "sZ3fVFXp6PwF"
      }
    },
    {
      "cell_type": "code",
      "source": [
        "def dataset_generator_lstm(dataset, look_back=5):\n",
        "    \"\"\"\n",
        "    Generates input-output pairs for an LSTM dataset.\n",
        "\n",
        "    Args:\n",
        "        dataset (numpy.ndarray): The dataset to generate input-output pairs from.\n",
        "        look_back (int): The number of previous timesteps to use for prediction.\n",
        "\n",
        "    Returns:\n",
        "        numpy.ndarray: The input sequences.\n",
        "        numpy.ndarray: The corresponding output values.\n",
        "    \"\"\"\n",
        "    # A “lookback period” defines the window-size of how many\n",
        "    # previous timesteps are used in order to predict\n",
        "    # the subsequent timestep.\n",
        "    dataX, dataY = [], []\n",
        "\n",
        "    # Iterate over the dataset, considering a \"look_back\" window of previous timesteps\n",
        "    for i in range(len(dataset) - look_back):\n",
        "        window_size_x = dataset[i:(i + look_back), 0]\n",
        "        dataX.append(window_size_x)\n",
        "        dataY.append(dataset[i + look_back, 0]) # this is the label or actual y-value\n",
        "    return np.array(dataX), np.array(dataY)\n",
        "\n",
        "trainX, trainY = dataset_generator_lstm(scaled_train)\n",
        "\n",
        "testX, testY = dataset_generator_lstm(scaled_test)\n",
        "\n",
        "print(\"trainX: \", trainX.shape)\n",
        "print(\"trainY: \", trainY.shape)\n",
        "print(\"testX: \", testX.shape)\n",
        "print(\"testY\", testY.shape)"
      ],
      "metadata": {
        "id": "NT4vd9Uqsq77",
        "colab": {
          "base_uri": "https://localhost:8080/"
        },
        "outputId": "410554d9-47ce-431a-fa89-ec8add4fb6a8"
      },
      "execution_count": 56,
      "outputs": [
        {
          "output_type": "stream",
          "name": "stdout",
          "text": [
            "trainX:  (3560, 5)\n",
            "trainY:  (3560,)\n",
            "testX:  (55, 5)\n",
            "testY (55,)\n"
          ]
        }
      ]
    },
    {
      "cell_type": "code",
      "source": [
        "print(\"trainX: \", trainX)"
      ],
      "metadata": {
        "colab": {
          "base_uri": "https://localhost:8080/"
        },
        "id": "NoTDRVIOsmO6",
        "outputId": "6d6b23c2-b6d8-4621-f42f-cf4bbfd84f39"
      },
      "execution_count": 57,
      "outputs": [
        {
          "output_type": "stream",
          "name": "stdout",
          "text": [
            "trainX:  [[6.50983938e-04 6.32107693e-04 7.83089253e-04 8.04400850e-04\n",
            "  8.50121852e-04]\n",
            " [6.32107693e-04 7.83089253e-04 8.04400850e-04 8.50121852e-04\n",
            "  8.30077472e-04]\n",
            " [7.83089253e-04 8.04400850e-04 8.50121852e-04 8.30077472e-04\n",
            "  7.40822814e-04]\n",
            " ...\n",
            " [9.60839335e-01 9.46838077e-01 9.48192778e-01 9.75575633e-01\n",
            "  9.54046806e-01]\n",
            " [9.46838077e-01 9.48192778e-01 9.75575633e-01 9.54046806e-01\n",
            "  9.86980471e-01]\n",
            " [9.48192778e-01 9.75575633e-01 9.54046806e-01 9.86980471e-01\n",
            "  9.87006455e-01]]\n"
          ]
        }
      ]
    },
    {
      "cell_type": "markdown",
      "source": [
        "<div style=\"background: linear-gradient(45deg, #FFC300, #FF5733, #C70039, #900C3F); padding: 10px; border-radius: 5px; display: flex; align-items: center;\">\n",
        "    <h3 style=\"font-weight: bold; color: white; margin: 0 auto;\"> For LSTM I need to reshape input to be a 3D Tensor of [samples, time steps, features] </h3>\n",
        "</div>\n",
        "\n",
        "```py\n",
        "X = numpy.reshape(dataX, (len(dataX), seq_length, 1))\n",
        "\n",
        "```\n",
        "\n",
        "\n",
        "**Samples** - This is the len(dataX), or the amount of data points you have.\n",
        "\n",
        "**Time steps** - A sample contains multiple time steps, that is, the width of the sliding window (according to the above example, the time step is 3). Note here that it is distinguished from the sliding step of the sliding window. This is equivalent to the amount of time steps you run your recurrent neural network. If you want your network to have memory of 60 characters, this number should be 60. For this notebook, I am using the window-size to be 5.\n",
        "\n",
        "**Features** - this is the amount of features in every time step. If you are processing pictures, this is the amount of pixels. In this case I have 1 feature (the price of Bitcoin) per time step.\n",
        "\n",
        " ### According to the documentation and the source code, the Keras LSTM input data must be in the form: [batch_size, timesteps, input_dim]."
      ],
      "metadata": {
        "id": "GpTf4cqVs6-4"
      }
    },
    {
      "cell_type": "code",
      "source": [
        "print(trainX.shape)\n",
        "print(testX.shape)"
      ],
      "metadata": {
        "colab": {
          "base_uri": "https://localhost:8080/"
        },
        "id": "tXK57a_btNi6",
        "outputId": "ed2a0f78-1f93-4206-bcaa-3e259e0a8b01"
      },
      "execution_count": 58,
      "outputs": [
        {
          "output_type": "stream",
          "name": "stdout",
          "text": [
            "(3560, 5)\n",
            "(55, 5)\n"
          ]
        }
      ]
    },
    {
      "cell_type": "markdown",
      "source": [
        "###  reshape trainX and testX"
      ],
      "metadata": {
        "id": "u1x6b-Cut3S6"
      }
    },
    {
      "cell_type": "code",
      "source": [
        "trainX = np.reshape(trainX, (trainX.shape[0], trainX.shape[1], 1))\n",
        "\n",
        "testX = np.reshape(testX, (testX.shape[0], testX.shape[1], 1 ))\n",
        "\n",
        "print(\"Shape of trainX: \", trainX.shape)\n",
        "print(\"Shape of testX: \", testX.shape)"
      ],
      "metadata": {
        "colab": {
          "base_uri": "https://localhost:8080/"
        },
        "id": "mXOnla_ht4cO",
        "outputId": "3161f5fb-cb05-459c-fd26-dbd4bcdb877a"
      },
      "execution_count": 59,
      "outputs": [
        {
          "output_type": "stream",
          "name": "stdout",
          "text": [
            "Shape of trainX:  (3560, 5, 1)\n",
            "Shape of testX:  (55, 5, 1)\n"
          ]
        }
      ]
    },
    {
      "cell_type": "code",
      "source": [
        "print(\"trainX: \", trainX)\n",
        "print(\" ********** \")\n",
        "print(\"testX: \", testX)"
      ],
      "metadata": {
        "colab": {
          "base_uri": "https://localhost:8080/"
        },
        "id": "9HQAkHUJt-RL",
        "outputId": "76727508-c4c6-494b-c2a7-c4946d088876"
      },
      "execution_count": 60,
      "outputs": [
        {
          "output_type": "stream",
          "name": "stdout",
          "text": [
            "trainX:  [[[6.50983938e-04]\n",
            "  [6.32107693e-04]\n",
            "  [7.83089253e-04]\n",
            "  [8.04400850e-04]\n",
            "  [8.50121852e-04]]\n",
            "\n",
            " [[6.32107693e-04]\n",
            "  [7.83089253e-04]\n",
            "  [8.04400850e-04]\n",
            "  [8.50121852e-04]\n",
            "  [8.30077472e-04]]\n",
            "\n",
            " [[7.83089253e-04]\n",
            "  [8.04400850e-04]\n",
            "  [8.50121852e-04]\n",
            "  [8.30077472e-04]\n",
            "  [7.40822814e-04]]\n",
            "\n",
            " ...\n",
            "\n",
            " [[9.60839335e-01]\n",
            "  [9.46838077e-01]\n",
            "  [9.48192778e-01]\n",
            "  [9.75575633e-01]\n",
            "  [9.54046806e-01]]\n",
            "\n",
            " [[9.46838077e-01]\n",
            "  [9.48192778e-01]\n",
            "  [9.75575633e-01]\n",
            "  [9.54046806e-01]\n",
            "  [9.86980471e-01]]\n",
            "\n",
            " [[9.48192778e-01]\n",
            "  [9.75575633e-01]\n",
            "  [9.54046806e-01]\n",
            "  [9.86980471e-01]\n",
            "  [9.87006455e-01]]]\n",
            " ********** \n",
            "testX:  [[[0.36221619]\n",
            "  [0.30678679]\n",
            "  [0.63598654]\n",
            "  [0.55327445]\n",
            "  [0.65693675]]\n",
            "\n",
            " [[0.30678679]\n",
            "  [0.63598654]\n",
            "  [0.55327445]\n",
            "  [0.65693675]\n",
            "  [0.65062087]]\n",
            "\n",
            " [[0.63598654]\n",
            "  [0.55327445]\n",
            "  [0.65693675]\n",
            "  [0.65062087]\n",
            "  [0.86476799]]\n",
            "\n",
            " [[0.55327445]\n",
            "  [0.65693675]\n",
            "  [0.65062087]\n",
            "  [0.86476799]\n",
            "  [0.99146941]]\n",
            "\n",
            " [[0.65693675]\n",
            "  [0.65062087]\n",
            "  [0.86476799]\n",
            "  [0.99146941]\n",
            "  [0.99958542]]\n",
            "\n",
            " [[0.65062087]\n",
            "  [0.86476799]\n",
            "  [0.99146941]\n",
            "  [0.99958542]\n",
            "  [0.55316752]]\n",
            "\n",
            " [[0.86476799]\n",
            "  [0.99146941]\n",
            "  [0.99958542]\n",
            "  [0.55316752]\n",
            "  [0.36647863]]\n",
            "\n",
            " [[0.99146941]\n",
            "  [0.99958542]\n",
            "  [0.55316752]\n",
            "  [0.36647863]\n",
            "  [0.38587346]]\n",
            "\n",
            " [[0.99958542]\n",
            "  [0.55316752]\n",
            "  [0.36647863]\n",
            "  [0.38587346]\n",
            "  [0.34699231]]\n",
            "\n",
            " [[0.55316752]\n",
            "  [0.36647863]\n",
            "  [0.38587346]\n",
            "  [0.34699231]\n",
            "  [0.19183538]]\n",
            "\n",
            " [[0.36647863]\n",
            "  [0.38587346]\n",
            "  [0.34699231]\n",
            "  [0.19183538]\n",
            "  [0.16118918]]\n",
            "\n",
            " [[0.38587346]\n",
            "  [0.34699231]\n",
            "  [0.19183538]\n",
            "  [0.16118918]\n",
            "  [0.45322442]]\n",
            "\n",
            " [[0.34699231]\n",
            "  [0.19183538]\n",
            "  [0.16118918]\n",
            "  [0.45322442]\n",
            "  [0.49883203]]\n",
            "\n",
            " [[0.19183538]\n",
            "  [0.16118918]\n",
            "  [0.45322442]\n",
            "  [0.49883203]\n",
            "  [0.24238191]]\n",
            "\n",
            " [[0.16118918]\n",
            "  [0.45322442]\n",
            "  [0.49883203]\n",
            "  [0.24238191]\n",
            "  [0.12302682]]\n",
            "\n",
            " [[0.45322442]\n",
            "  [0.49883203]\n",
            "  [0.24238191]\n",
            "  [0.12302682]\n",
            "  [0.19615329]]\n",
            "\n",
            " [[0.49883203]\n",
            "  [0.24238191]\n",
            "  [0.12302682]\n",
            "  [0.19615329]\n",
            "  [0.07657518]]\n",
            "\n",
            " [[0.24238191]\n",
            "  [0.12302682]\n",
            "  [0.19615329]\n",
            "  [0.07657518]\n",
            "  [0.01165051]]\n",
            "\n",
            " [[0.12302682]\n",
            "  [0.19615329]\n",
            "  [0.07657518]\n",
            "  [0.01165051]\n",
            "  [0.06918082]]\n",
            "\n",
            " [[0.19615329]\n",
            "  [0.07657518]\n",
            "  [0.01165051]\n",
            "  [0.06918082]\n",
            "  [0.14168399]]\n",
            "\n",
            " [[0.07657518]\n",
            "  [0.01165051]\n",
            "  [0.06918082]\n",
            "  [0.14168399]\n",
            "  [0.32226343]]\n",
            "\n",
            " [[0.01165051]\n",
            "  [0.06918082]\n",
            "  [0.14168399]\n",
            "  [0.32226343]\n",
            "  [0.41160133]]\n",
            "\n",
            " [[0.06918082]\n",
            "  [0.14168399]\n",
            "  [0.32226343]\n",
            "  [0.41160133]\n",
            "  [0.42102855]]\n",
            "\n",
            " [[0.14168399]\n",
            "  [0.32226343]\n",
            "  [0.41160133]\n",
            "  [0.42102855]\n",
            "  [0.42679148]]\n",
            "\n",
            " [[0.32226343]\n",
            "  [0.41160133]\n",
            "  [0.42102855]\n",
            "  [0.42679148]\n",
            "  [0.70223157]]\n",
            "\n",
            " [[0.41160133]\n",
            "  [0.42102855]\n",
            "  [0.42679148]\n",
            "  [0.70223157]\n",
            "  [0.32488585]]\n",
            "\n",
            " [[0.42102855]\n",
            "  [0.42679148]\n",
            "  [0.70223157]\n",
            "  [0.32488585]\n",
            "  [0.18734021]]\n",
            "\n",
            " [[0.42679148]\n",
            "  [0.70223157]\n",
            "  [0.32488585]\n",
            "  [0.18734021]\n",
            "  [0.        ]]\n",
            "\n",
            " [[0.70223157]\n",
            "  [0.32488585]\n",
            "  [0.18734021]\n",
            "  [0.        ]\n",
            "  [0.16230254]]\n",
            "\n",
            " [[0.32488585]\n",
            "  [0.18734021]\n",
            "  [0.        ]\n",
            "  [0.16230254]\n",
            "  [0.15243157]]\n",
            "\n",
            " [[0.18734021]\n",
            "  [0.        ]\n",
            "  [0.16230254]\n",
            "  [0.15243157]\n",
            "  [0.14671096]]\n",
            "\n",
            " [[0.        ]\n",
            "  [0.16230254]\n",
            "  [0.15243157]\n",
            "  [0.14671096]\n",
            "  [0.1487667 ]]\n",
            "\n",
            " [[0.16230254]\n",
            "  [0.15243157]\n",
            "  [0.14671096]\n",
            "  [0.1487667 ]\n",
            "  [0.29643834]]\n",
            "\n",
            " [[0.15243157]\n",
            "  [0.14671096]\n",
            "  [0.1487667 ]\n",
            "  [0.29643834]\n",
            "  [0.58705315]]\n",
            "\n",
            " [[0.14671096]\n",
            "  [0.1487667 ]\n",
            "  [0.29643834]\n",
            "  [0.58705315]\n",
            "  [0.53233396]]\n",
            "\n",
            " [[0.1487667 ]\n",
            "  [0.29643834]\n",
            "  [0.58705315]\n",
            "  [0.53233396]\n",
            "  [0.87672386]]\n",
            "\n",
            " [[0.29643834]\n",
            "  [0.58705315]\n",
            "  [0.53233396]\n",
            "  [0.87672386]\n",
            "  [0.87277364]]\n",
            "\n",
            " [[0.58705315]\n",
            "  [0.53233396]\n",
            "  [0.87672386]\n",
            "  [0.87277364]\n",
            "  [0.62988052]]\n",
            "\n",
            " [[0.53233396]\n",
            "  [0.87672386]\n",
            "  [0.87277364]\n",
            "  [0.62988052]\n",
            "  [0.69773583]]\n",
            "\n",
            " [[0.87672386]\n",
            "  [0.87277364]\n",
            "  [0.62988052]\n",
            "  [0.69773583]\n",
            "  [1.        ]]\n",
            "\n",
            " [[0.87277364]\n",
            "  [0.62988052]\n",
            "  [0.69773583]\n",
            "  [1.        ]\n",
            "  [0.81751179]]\n",
            "\n",
            " [[0.62988052]\n",
            "  [0.69773583]\n",
            "  [1.        ]\n",
            "  [0.81751179]\n",
            "  [0.83998994]]\n",
            "\n",
            " [[0.69773583]\n",
            "  [1.        ]\n",
            "  [0.81751179]\n",
            "  [0.83998994]\n",
            "  [0.90288689]]\n",
            "\n",
            " [[1.        ]\n",
            "  [0.81751179]\n",
            "  [0.83998994]\n",
            "  [0.90288689]\n",
            "  [0.89521348]]\n",
            "\n",
            " [[0.81751179]\n",
            "  [0.83998994]\n",
            "  [0.90288689]\n",
            "  [0.89521348]\n",
            "  [0.74647137]]\n",
            "\n",
            " [[0.83998994]\n",
            "  [0.90288689]\n",
            "  [0.89521348]\n",
            "  [0.74647137]\n",
            "  [0.70293436]]\n",
            "\n",
            " [[0.90288689]\n",
            "  [0.89521348]\n",
            "  [0.74647137]\n",
            "  [0.70293436]\n",
            "  [0.64765706]]\n",
            "\n",
            " [[0.89521348]\n",
            "  [0.74647137]\n",
            "  [0.70293436]\n",
            "  [0.64765706]\n",
            "  [0.82118181]]\n",
            "\n",
            " [[0.74647137]\n",
            "  [0.70293436]\n",
            "  [0.64765706]\n",
            "  [0.82118181]\n",
            "  [0.8967254 ]]\n",
            "\n",
            " [[0.70293436]\n",
            "  [0.64765706]\n",
            "  [0.82118181]\n",
            "  [0.8967254 ]\n",
            "  [0.72616161]]\n",
            "\n",
            " [[0.64765706]\n",
            "  [0.82118181]\n",
            "  [0.8967254 ]\n",
            "  [0.72616161]\n",
            "  [0.59813583]]\n",
            "\n",
            " [[0.82118181]\n",
            "  [0.8967254 ]\n",
            "  [0.72616161]\n",
            "  [0.59813583]\n",
            "  [0.38097286]]\n",
            "\n",
            " [[0.8967254 ]\n",
            "  [0.72616161]\n",
            "  [0.59813583]\n",
            "  [0.38097286]\n",
            "  [0.65299626]]\n",
            "\n",
            " [[0.72616161]\n",
            "  [0.59813583]\n",
            "  [0.38097286]\n",
            "  [0.65299626]\n",
            "  [0.39435602]]\n",
            "\n",
            " [[0.59813583]\n",
            "  [0.38097286]\n",
            "  [0.65299626]\n",
            "  [0.39435602]\n",
            "  [0.30239626]]]\n"
          ]
        }
      ]
    },
    {
      "cell_type": "markdown",
      "source": [
        "<div style=\"background: linear-gradient(45deg, #FFC300, #FF5733, #C70039, #900C3F); padding: 10px; border-radius: 5px; display: flex; align-items: center;\">\n",
        "    <h3 style=\"font-weight: bold; color: white; margin: 0 auto;\"> LSTM (Long Short-Term Memory) Mechanism </h3>\n",
        "</div>\n",
        "\n",
        "\n",
        "\n",
        "The Long Short-Term Memory, or LSTM, is a recurrent neural network that is comprised of internal gates.\n",
        "\n",
        "Unlike other recurrent neural networks, the network’s internal gates allow the model to be trained successfully using backpropagation through time, or BPTT, and avoid the vanishing gradients problem.\n",
        "\n",
        "In the Keras deep learning library, LSTM layers can be created using the LSTM() class.\n",
        "\n",
        "Creating a layer of LSTM memory units allows you to specify the number of memory units within the layer.\n",
        "\n",
        "Each unit or cell within the layer has an internal cell state, often abbreviated as “c“, and outputs a hidden state, often abbreviated as “h“.\n",
        "\n",
        "The Keras API allows you to access these data, which can be useful or even required when developing sophisticated recurrent neural network architectures, such as the encoder-decoder model.\n",
        "\n",
        "\n",
        "## `input_shape` of LSTM Model - `input_shape` is supposed to be (timesteps, n_features).\n",
        "\n",
        "    input_shape = (95000,360)\n",
        "\n",
        "Keras LSTM takes and input with shape of (n_examples, n_times, n_features) and your layers input has to have this shape\n",
        "\n",
        "## `return_sequences=True`\n",
        "\n",
        "The original LSTM model is comprised of a single hidden LSTM layer followed by a standard feedforward output layer.\n",
        "\n",
        "The Stacked LSTM is an extension to this model that has multiple hidden LSTM layers where each layer contains multiple memory cells.\n",
        "\n",
        "You must set return_sequences=True when stacking LSTM layers so that the second LSTM layer has a compatible n-dimensional sequence input.\n",
        "\n",
        "#### To stack LSTM layers, we need to change the configuration of the prior LSTM layer to output a compatible n-dim array as input for the subsequent layer.\n",
        "\n",
        "We can do this by setting the return_sequences argument on the layer to True (defaults to False). This will return one output for each input time step and provide the compatible n-dim array.\n",
        "\n",
        "## Why Increase Depth of an LSTM ?\n",
        "\n",
        "Stacking LSTM hidden layers makes the model deeper, more accurately earning the description as a deep learning technique.\n",
        "\n",
        "It is the depth of neural networks that is generally attributed to the success of the approach on a wide range of challenging prediction problems.\n",
        "\n",
        "Additional hidden layers can be added to a Multilayer Perceptron neural network to make it deeper. The additional hidden layers are understood to recombine the learned representation from prior layers and create new representations at high levels of abstraction. For example, from lines to shapes to objects.\n",
        "\n",
        "A sufficiently large single hidden layer Multilayer Perceptron can be used to approximate most functions. Increasing the depth of the network provides an alternate solution that requires fewer neurons and trains faster. Ultimately, adding depth it is a type of representational optimization.\n",
        "\n",
        "Given that LSTMs operate on sequence data, it means that the addition of layers adds levels of abstraction of input observations over time. In effect, chunking observations over time or representing the problem at different time scales.\n",
        "\n",
        "Stacked LSTMs are now a stable technique for challenging sequence prediction problems.\n",
        "\n",
        "\n",
        "\n"
      ],
      "metadata": {
        "id": "UyMuC3Qb64ow"
      }
    },
    {
      "cell_type": "code",
      "source": [
        "# First checking the values for input_shape = (trainX.shape[1], trainX.shape[2])\n",
        "# Note - `input_shape` of LSTM Model - `input_shape` is supposed to be (timesteps, n_features).\n",
        "\n",
        "print(\"trainX.shape[1] - i.e. timesteps in input_shape = (timesteps, n_features) \", trainX.shape[1])\n",
        "print(\"trainX.shape[2] - i.e. n_features in input_shape = (timesteps, n_features) \", trainX.shape[2])"
      ],
      "metadata": {
        "colab": {
          "base_uri": "https://localhost:8080/"
        },
        "id": "Vjvzzup-vY1g",
        "outputId": "a980aa9b-133b-4059-f4f0-ff6f02e02b5e"
      },
      "execution_count": 61,
      "outputs": [
        {
          "output_type": "stream",
          "name": "stdout",
          "text": [
            "trainX.shape[1] - i.e. timesteps in input_shape = (timesteps, n_features)  5\n",
            "trainX.shape[2] - i.e. n_features in input_shape = (timesteps, n_features)  1\n"
          ]
        }
      ]
    },
    {
      "cell_type": "code",
      "source": [
        "regressor = Sequential()\n",
        "\n",
        "# Adding the first LSTM layer and some Dropout regularisation\n",
        "# Set return_sequences=True when stacking LSTM layers so that the second LSTM layer\n",
        "# has a compatible n-dimensional sequence input.\n",
        "\n",
        "regressor.add(LSTM(units = 128, activation = 'relu',return_sequences=True, input_shape = (trainX.shape[1], trainX.shape[2])))\n",
        "regressor.add(Dropout(0.2))\n",
        "\n",
        "# Adding a second LSTM layer and some Dropout regularisation\n",
        "regressor.add(LSTM(units = 64, input_shape = (trainX.shape[1], trainX.shape[2])))\n",
        "# regressor.add(LSTM(units = 64, return_sequences = True, input_shape = (trainX.shape[1], trainX.shape[2])))\n",
        "regressor.add(Dropout(0.2))\n",
        "\n",
        "\n",
        "# Adding a third LSTM layer and some Dropout regularisation\n",
        "# regressor.add(LSTM(units = 64, return_sequences = True, input_shape = (trainX.shape[1], trainX.shape[2])))\n",
        "# regressor.add(Dropout(0.2))\n",
        "\n",
        "\n",
        "# Adding a fourth LSTM layer and some Dropout regularisation\n",
        "# regressor.add(LSTM(units = 64, input_shape = (trainX.shape[1], trainX.shape[2])))\n",
        "# regressor.add(Dropout(0.2))\n",
        "\n",
        "\n",
        "# Adding the output layer\n",
        "regressor.add(Dense(units = 1))\n",
        "\n",
        "regressor.summary()"
      ],
      "metadata": {
        "colab": {
          "base_uri": "https://localhost:8080/",
          "height": 344
        },
        "id": "EVkmuk7JvkmJ",
        "outputId": "22b980ff-6a7b-4685-b649-10737793ae6b"
      },
      "execution_count": 62,
      "outputs": [
        {
          "output_type": "stream",
          "name": "stderr",
          "text": [
            "/usr/local/lib/python3.11/dist-packages/keras/src/layers/rnn/rnn.py:200: UserWarning: Do not pass an `input_shape`/`input_dim` argument to a layer. When using Sequential models, prefer using an `Input(shape)` object as the first layer in the model instead.\n",
            "  super().__init__(**kwargs)\n"
          ]
        },
        {
          "output_type": "display_data",
          "data": {
            "text/plain": [
              "\u001b[1mModel: \"sequential_1\"\u001b[0m\n"
            ],
            "text/html": [
              "<pre style=\"white-space:pre;overflow-x:auto;line-height:normal;font-family:Menlo,'DejaVu Sans Mono',consolas,'Courier New',monospace\"><span style=\"font-weight: bold\">Model: \"sequential_1\"</span>\n",
              "</pre>\n"
            ]
          },
          "metadata": {}
        },
        {
          "output_type": "display_data",
          "data": {
            "text/plain": [
              "┏━━━━━━━━━━━━━━━━━━━━━━━━━━━━━━━━━━━━━━┳━━━━━━━━━━━━━━━━━━━━━━━━━━━━━┳━━━━━━━━━━━━━━━━━┓\n",
              "┃\u001b[1m \u001b[0m\u001b[1mLayer (type)                        \u001b[0m\u001b[1m \u001b[0m┃\u001b[1m \u001b[0m\u001b[1mOutput Shape               \u001b[0m\u001b[1m \u001b[0m┃\u001b[1m \u001b[0m\u001b[1m        Param #\u001b[0m\u001b[1m \u001b[0m┃\n",
              "┡━━━━━━━━━━━━━━━━━━━━━━━━━━━━━━━━━━━━━━╇━━━━━━━━━━━━━━━━━━━━━━━━━━━━━╇━━━━━━━━━━━━━━━━━┩\n",
              "│ lstm_2 (\u001b[38;5;33mLSTM\u001b[0m)                        │ (\u001b[38;5;45mNone\u001b[0m, \u001b[38;5;34m5\u001b[0m, \u001b[38;5;34m128\u001b[0m)              │          \u001b[38;5;34m66,560\u001b[0m │\n",
              "├──────────────────────────────────────┼─────────────────────────────┼─────────────────┤\n",
              "│ dropout_2 (\u001b[38;5;33mDropout\u001b[0m)                  │ (\u001b[38;5;45mNone\u001b[0m, \u001b[38;5;34m5\u001b[0m, \u001b[38;5;34m128\u001b[0m)              │               \u001b[38;5;34m0\u001b[0m │\n",
              "├──────────────────────────────────────┼─────────────────────────────┼─────────────────┤\n",
              "│ lstm_3 (\u001b[38;5;33mLSTM\u001b[0m)                        │ (\u001b[38;5;45mNone\u001b[0m, \u001b[38;5;34m64\u001b[0m)                  │          \u001b[38;5;34m49,408\u001b[0m │\n",
              "├──────────────────────────────────────┼─────────────────────────────┼─────────────────┤\n",
              "│ dropout_3 (\u001b[38;5;33mDropout\u001b[0m)                  │ (\u001b[38;5;45mNone\u001b[0m, \u001b[38;5;34m64\u001b[0m)                  │               \u001b[38;5;34m0\u001b[0m │\n",
              "├──────────────────────────────────────┼─────────────────────────────┼─────────────────┤\n",
              "│ dense_1 (\u001b[38;5;33mDense\u001b[0m)                      │ (\u001b[38;5;45mNone\u001b[0m, \u001b[38;5;34m1\u001b[0m)                   │              \u001b[38;5;34m65\u001b[0m │\n",
              "└──────────────────────────────────────┴─────────────────────────────┴─────────────────┘\n"
            ],
            "text/html": [
              "<pre style=\"white-space:pre;overflow-x:auto;line-height:normal;font-family:Menlo,'DejaVu Sans Mono',consolas,'Courier New',monospace\">┏━━━━━━━━━━━━━━━━━━━━━━━━━━━━━━━━━━━━━━┳━━━━━━━━━━━━━━━━━━━━━━━━━━━━━┳━━━━━━━━━━━━━━━━━┓\n",
              "┃<span style=\"font-weight: bold\"> Layer (type)                         </span>┃<span style=\"font-weight: bold\"> Output Shape                </span>┃<span style=\"font-weight: bold\">         Param # </span>┃\n",
              "┡━━━━━━━━━━━━━━━━━━━━━━━━━━━━━━━━━━━━━━╇━━━━━━━━━━━━━━━━━━━━━━━━━━━━━╇━━━━━━━━━━━━━━━━━┩\n",
              "│ lstm_2 (<span style=\"color: #0087ff; text-decoration-color: #0087ff\">LSTM</span>)                        │ (<span style=\"color: #00d7ff; text-decoration-color: #00d7ff\">None</span>, <span style=\"color: #00af00; text-decoration-color: #00af00\">5</span>, <span style=\"color: #00af00; text-decoration-color: #00af00\">128</span>)              │          <span style=\"color: #00af00; text-decoration-color: #00af00\">66,560</span> │\n",
              "├──────────────────────────────────────┼─────────────────────────────┼─────────────────┤\n",
              "│ dropout_2 (<span style=\"color: #0087ff; text-decoration-color: #0087ff\">Dropout</span>)                  │ (<span style=\"color: #00d7ff; text-decoration-color: #00d7ff\">None</span>, <span style=\"color: #00af00; text-decoration-color: #00af00\">5</span>, <span style=\"color: #00af00; text-decoration-color: #00af00\">128</span>)              │               <span style=\"color: #00af00; text-decoration-color: #00af00\">0</span> │\n",
              "├──────────────────────────────────────┼─────────────────────────────┼─────────────────┤\n",
              "│ lstm_3 (<span style=\"color: #0087ff; text-decoration-color: #0087ff\">LSTM</span>)                        │ (<span style=\"color: #00d7ff; text-decoration-color: #00d7ff\">None</span>, <span style=\"color: #00af00; text-decoration-color: #00af00\">64</span>)                  │          <span style=\"color: #00af00; text-decoration-color: #00af00\">49,408</span> │\n",
              "├──────────────────────────────────────┼─────────────────────────────┼─────────────────┤\n",
              "│ dropout_3 (<span style=\"color: #0087ff; text-decoration-color: #0087ff\">Dropout</span>)                  │ (<span style=\"color: #00d7ff; text-decoration-color: #00d7ff\">None</span>, <span style=\"color: #00af00; text-decoration-color: #00af00\">64</span>)                  │               <span style=\"color: #00af00; text-decoration-color: #00af00\">0</span> │\n",
              "├──────────────────────────────────────┼─────────────────────────────┼─────────────────┤\n",
              "│ dense_1 (<span style=\"color: #0087ff; text-decoration-color: #0087ff\">Dense</span>)                      │ (<span style=\"color: #00d7ff; text-decoration-color: #00d7ff\">None</span>, <span style=\"color: #00af00; text-decoration-color: #00af00\">1</span>)                   │              <span style=\"color: #00af00; text-decoration-color: #00af00\">65</span> │\n",
              "└──────────────────────────────────────┴─────────────────────────────┴─────────────────┘\n",
              "</pre>\n"
            ]
          },
          "metadata": {}
        },
        {
          "output_type": "display_data",
          "data": {
            "text/plain": [
              "\u001b[1m Total params: \u001b[0m\u001b[38;5;34m116,033\u001b[0m (453.25 KB)\n"
            ],
            "text/html": [
              "<pre style=\"white-space:pre;overflow-x:auto;line-height:normal;font-family:Menlo,'DejaVu Sans Mono',consolas,'Courier New',monospace\"><span style=\"font-weight: bold\"> Total params: </span><span style=\"color: #00af00; text-decoration-color: #00af00\">116,033</span> (453.25 KB)\n",
              "</pre>\n"
            ]
          },
          "metadata": {}
        },
        {
          "output_type": "display_data",
          "data": {
            "text/plain": [
              "\u001b[1m Trainable params: \u001b[0m\u001b[38;5;34m116,033\u001b[0m (453.25 KB)\n"
            ],
            "text/html": [
              "<pre style=\"white-space:pre;overflow-x:auto;line-height:normal;font-family:Menlo,'DejaVu Sans Mono',consolas,'Courier New',monospace\"><span style=\"font-weight: bold\"> Trainable params: </span><span style=\"color: #00af00; text-decoration-color: #00af00\">116,033</span> (453.25 KB)\n",
              "</pre>\n"
            ]
          },
          "metadata": {}
        },
        {
          "output_type": "display_data",
          "data": {
            "text/plain": [
              "\u001b[1m Non-trainable params: \u001b[0m\u001b[38;5;34m0\u001b[0m (0.00 B)\n"
            ],
            "text/html": [
              "<pre style=\"white-space:pre;overflow-x:auto;line-height:normal;font-family:Menlo,'DejaVu Sans Mono',consolas,'Courier New',monospace\"><span style=\"font-weight: bold\"> Non-trainable params: </span><span style=\"color: #00af00; text-decoration-color: #00af00\">0</span> (0.00 B)\n",
              "</pre>\n"
            ]
          },
          "metadata": {}
        }
      ]
    },
    {
      "cell_type": "code",
      "source": [
        "from tensorflow.keras.callbacks import ModelCheckpoint, EarlyStopping\n",
        "\n",
        "# Compiling the LSTM\n",
        "regressor.compile(optimizer='adam', loss='mean_squared_error')\n",
        "\n",
        "# Update the checkpoint path to use the .keras extension\n",
        "checkpoint_path = 'my_best_model.keras'\n",
        "\n",
        "checkpoint = ModelCheckpoint(filepath=checkpoint_path,\n",
        "                             monitor='val_loss',\n",
        "                             verbose=1,\n",
        "                             save_best_only=True,\n",
        "                             mode='min')\n",
        "\n",
        "earlystopping = EarlyStopping(monitor='val_loss', patience=10, restore_best_weights=True)\n",
        "\n",
        "callbacks = [checkpoint, earlystopping]  # Using both callbacks\n",
        "\n",
        "# Train the model\n",
        "history = regressor.fit(trainX, trainY, batch_size=32, epochs=60, verbose=1, shuffle=False, validation_data=(testX, testY), callbacks=callbacks)"
      ],
      "metadata": {
        "id": "QXp1ro25tJap",
        "colab": {
          "base_uri": "https://localhost:8080/"
        },
        "outputId": "238c9b48-c4f2-4ad8-ba2f-1abeb17b5570"
      },
      "execution_count": 63,
      "outputs": [
        {
          "output_type": "stream",
          "name": "stdout",
          "text": [
            "Epoch 1/60\n",
            "\u001b[1m108/112\u001b[0m \u001b[32m━━━━━━━━━━━━━━━━━━━\u001b[0m\u001b[37m━\u001b[0m \u001b[1m0s\u001b[0m 12ms/step - loss: 0.0035\n",
            "Epoch 1: val_loss improved from inf to 0.07208, saving model to my_best_model.keras\n",
            "\u001b[1m112/112\u001b[0m \u001b[32m━━━━━━━━━━━━━━━━━━━━\u001b[0m\u001b[37m\u001b[0m \u001b[1m6s\u001b[0m 17ms/step - loss: 0.0041 - val_loss: 0.0721\n",
            "Epoch 2/60\n",
            "\u001b[1m112/112\u001b[0m \u001b[32m━━━━━━━━━━━━━━━━━━━━\u001b[0m\u001b[37m\u001b[0m \u001b[1m0s\u001b[0m 12ms/step - loss: 0.0600\n",
            "Epoch 2: val_loss improved from 0.07208 to 0.06984, saving model to my_best_model.keras\n",
            "\u001b[1m112/112\u001b[0m \u001b[32m━━━━━━━━━━━━━━━━━━━━\u001b[0m\u001b[37m\u001b[0m \u001b[1m2s\u001b[0m 14ms/step - loss: 0.0597 - val_loss: 0.0698\n",
            "Epoch 3/60\n",
            "\u001b[1m108/112\u001b[0m \u001b[32m━━━━━━━━━━━━━━━━━━━\u001b[0m\u001b[37m━\u001b[0m \u001b[1m0s\u001b[0m 24ms/step - loss: 0.0075\n",
            "Epoch 3: val_loss improved from 0.06984 to 0.06881, saving model to my_best_model.keras\n",
            "\u001b[1m112/112\u001b[0m \u001b[32m━━━━━━━━━━━━━━━━━━━━\u001b[0m\u001b[37m\u001b[0m \u001b[1m4s\u001b[0m 24ms/step - loss: 0.0074 - val_loss: 0.0688\n",
            "Epoch 4/60\n",
            "\u001b[1m110/112\u001b[0m \u001b[32m━━━━━━━━━━━━━━━━━━━\u001b[0m\u001b[37m━\u001b[0m \u001b[1m0s\u001b[0m 12ms/step - loss: 0.0022\n",
            "Epoch 4: val_loss improved from 0.06881 to 0.06627, saving model to my_best_model.keras\n",
            "\u001b[1m112/112\u001b[0m \u001b[32m━━━━━━━━━━━━━━━━━━━━\u001b[0m\u001b[37m\u001b[0m \u001b[1m2s\u001b[0m 14ms/step - loss: 0.0022 - val_loss: 0.0663\n",
            "Epoch 5/60\n",
            "\u001b[1m109/112\u001b[0m \u001b[32m━━━━━━━━━━━━━━━━━━━\u001b[0m\u001b[37m━\u001b[0m \u001b[1m0s\u001b[0m 12ms/step - loss: 7.6130e-04\n",
            "Epoch 5: val_loss did not improve from 0.06627\n",
            "\u001b[1m112/112\u001b[0m \u001b[32m━━━━━━━━━━━━━━━━━━━━\u001b[0m\u001b[37m\u001b[0m \u001b[1m1s\u001b[0m 13ms/step - loss: 7.8590e-04 - val_loss: 0.0677\n",
            "Epoch 6/60\n",
            "\u001b[1m112/112\u001b[0m \u001b[32m━━━━━━━━━━━━━━━━━━━━\u001b[0m\u001b[37m\u001b[0m \u001b[1m0s\u001b[0m 12ms/step - loss: 4.0596e-04\n",
            "Epoch 6: val_loss improved from 0.06627 to 0.06505, saving model to my_best_model.keras\n",
            "\u001b[1m112/112\u001b[0m \u001b[32m━━━━━━━━━━━━━━━━━━━━\u001b[0m\u001b[37m\u001b[0m \u001b[1m3s\u001b[0m 14ms/step - loss: 4.1235e-04 - val_loss: 0.0651\n",
            "Epoch 7/60\n",
            "\u001b[1m112/112\u001b[0m \u001b[32m━━━━━━━━━━━━━━━━━━━━\u001b[0m\u001b[37m\u001b[0m \u001b[1m0s\u001b[0m 13ms/step - loss: 5.2762e-04\n",
            "Epoch 7: val_loss improved from 0.06505 to 0.06368, saving model to my_best_model.keras\n",
            "\u001b[1m112/112\u001b[0m \u001b[32m━━━━━━━━━━━━━━━━━━━━\u001b[0m\u001b[37m\u001b[0m \u001b[1m3s\u001b[0m 14ms/step - loss: 5.3282e-04 - val_loss: 0.0637\n",
            "Epoch 8/60\n",
            "\u001b[1m112/112\u001b[0m \u001b[32m━━━━━━━━━━━━━━━━━━━━\u001b[0m\u001b[37m\u001b[0m \u001b[1m0s\u001b[0m 19ms/step - loss: 6.9371e-04\n",
            "Epoch 8: val_loss did not improve from 0.06368\n",
            "\u001b[1m112/112\u001b[0m \u001b[32m━━━━━━━━━━━━━━━━━━━━\u001b[0m\u001b[37m\u001b[0m \u001b[1m3s\u001b[0m 20ms/step - loss: 6.9739e-04 - val_loss: 0.0649\n",
            "Epoch 9/60\n",
            "\u001b[1m112/112\u001b[0m \u001b[32m━━━━━━━━━━━━━━━━━━━━\u001b[0m\u001b[37m\u001b[0m \u001b[1m0s\u001b[0m 23ms/step - loss: 7.3388e-04\n",
            "Epoch 9: val_loss did not improve from 0.06368\n",
            "\u001b[1m112/112\u001b[0m \u001b[32m━━━━━━━━━━━━━━━━━━━━\u001b[0m\u001b[37m\u001b[0m \u001b[1m3s\u001b[0m 24ms/step - loss: 7.4208e-04 - val_loss: 0.0677\n",
            "Epoch 10/60\n",
            "\u001b[1m109/112\u001b[0m \u001b[32m━━━━━━━━━━━━━━━━━━━\u001b[0m\u001b[37m━\u001b[0m \u001b[1m0s\u001b[0m 13ms/step - loss: 5.8069e-04\n",
            "Epoch 10: val_loss did not improve from 0.06368\n",
            "\u001b[1m112/112\u001b[0m \u001b[32m━━━━━━━━━━━━━━━━━━━━\u001b[0m\u001b[37m\u001b[0m \u001b[1m2s\u001b[0m 14ms/step - loss: 6.0618e-04 - val_loss: 0.0677\n",
            "Epoch 11/60\n",
            "\u001b[1m108/112\u001b[0m \u001b[32m━━━━━━━━━━━━━━━━━━━\u001b[0m\u001b[37m━\u001b[0m \u001b[1m0s\u001b[0m 12ms/step - loss: 0.0013\n",
            "Epoch 11: val_loss did not improve from 0.06368\n",
            "\u001b[1m112/112\u001b[0m \u001b[32m━━━━━━━━━━━━━━━━━━━━\u001b[0m\u001b[37m\u001b[0m \u001b[1m3s\u001b[0m 13ms/step - loss: 0.0014 - val_loss: 0.0692\n",
            "Epoch 12/60\n",
            "\u001b[1m111/112\u001b[0m \u001b[32m━━━━━━━━━━━━━━━━━━━\u001b[0m\u001b[37m━\u001b[0m \u001b[1m0s\u001b[0m 12ms/step - loss: 0.0014\n",
            "Epoch 12: val_loss did not improve from 0.06368\n",
            "\u001b[1m112/112\u001b[0m \u001b[32m━━━━━━━━━━━━━━━━━━━━\u001b[0m\u001b[37m\u001b[0m \u001b[1m3s\u001b[0m 13ms/step - loss: 0.0014 - val_loss: 0.0668\n",
            "Epoch 13/60\n",
            "\u001b[1m109/112\u001b[0m \u001b[32m━━━━━━━━━━━━━━━━━━━\u001b[0m\u001b[37m━\u001b[0m \u001b[1m0s\u001b[0m 12ms/step - loss: 0.0011\n",
            "Epoch 13: val_loss did not improve from 0.06368\n",
            "\u001b[1m112/112\u001b[0m \u001b[32m━━━━━━━━━━━━━━━━━━━━\u001b[0m\u001b[37m\u001b[0m \u001b[1m1s\u001b[0m 13ms/step - loss: 0.0012 - val_loss: 0.0638\n",
            "Epoch 14/60\n",
            "\u001b[1m111/112\u001b[0m \u001b[32m━━━━━━━━━━━━━━━━━━━\u001b[0m\u001b[37m━\u001b[0m \u001b[1m0s\u001b[0m 16ms/step - loss: 0.0014\n",
            "Epoch 14: val_loss improved from 0.06368 to 0.06203, saving model to my_best_model.keras\n",
            "\u001b[1m112/112\u001b[0m \u001b[32m━━━━━━━━━━━━━━━━━━━━\u001b[0m\u001b[37m\u001b[0m \u001b[1m3s\u001b[0m 17ms/step - loss: 0.0014 - val_loss: 0.0620\n",
            "Epoch 15/60\n",
            "\u001b[1m108/112\u001b[0m \u001b[32m━━━━━━━━━━━━━━━━━━━\u001b[0m\u001b[37m━\u001b[0m \u001b[1m0s\u001b[0m 21ms/step - loss: 0.0027\n",
            "Epoch 15: val_loss did not improve from 0.06203\n",
            "\u001b[1m112/112\u001b[0m \u001b[32m━━━━━━━━━━━━━━━━━━━━\u001b[0m\u001b[37m\u001b[0m \u001b[1m3s\u001b[0m 21ms/step - loss: 0.0026 - val_loss: 0.0665\n",
            "Epoch 16/60\n",
            "\u001b[1m109/112\u001b[0m \u001b[32m━━━━━━━━━━━━━━━━━━━\u001b[0m\u001b[37m━\u001b[0m \u001b[1m0s\u001b[0m 13ms/step - loss: 7.4776e-04\n",
            "Epoch 16: val_loss did not improve from 0.06203\n",
            "\u001b[1m112/112\u001b[0m \u001b[32m━━━━━━━━━━━━━━━━━━━━\u001b[0m\u001b[37m\u001b[0m \u001b[1m2s\u001b[0m 13ms/step - loss: 7.9227e-04 - val_loss: 0.0647\n",
            "Epoch 17/60\n",
            "\u001b[1m110/112\u001b[0m \u001b[32m━━━━━━━━━━━━━━━━━━━\u001b[0m\u001b[37m━\u001b[0m \u001b[1m0s\u001b[0m 13ms/step - loss: 6.8600e-04\n",
            "Epoch 17: val_loss improved from 0.06203 to 0.06070, saving model to my_best_model.keras\n",
            "\u001b[1m112/112\u001b[0m \u001b[32m━━━━━━━━━━━━━━━━━━━━\u001b[0m\u001b[37m\u001b[0m \u001b[1m3s\u001b[0m 14ms/step - loss: 7.0207e-04 - val_loss: 0.0607\n",
            "Epoch 18/60\n",
            "\u001b[1m109/112\u001b[0m \u001b[32m━━━━━━━━━━━━━━━━━━━\u001b[0m\u001b[37m━\u001b[0m \u001b[1m0s\u001b[0m 13ms/step - loss: 0.0013\n",
            "Epoch 18: val_loss did not improve from 0.06070\n",
            "\u001b[1m112/112\u001b[0m \u001b[32m━━━━━━━━━━━━━━━━━━━━\u001b[0m\u001b[37m\u001b[0m \u001b[1m2s\u001b[0m 13ms/step - loss: 0.0013 - val_loss: 0.0620\n",
            "Epoch 19/60\n",
            "\u001b[1m111/112\u001b[0m \u001b[32m━━━━━━━━━━━━━━━━━━━\u001b[0m\u001b[37m━\u001b[0m \u001b[1m0s\u001b[0m 13ms/step - loss: 8.3268e-04\n",
            "Epoch 19: val_loss improved from 0.06070 to 0.06053, saving model to my_best_model.keras\n",
            "\u001b[1m112/112\u001b[0m \u001b[32m━━━━━━━━━━━━━━━━━━━━\u001b[0m\u001b[37m\u001b[0m \u001b[1m3s\u001b[0m 14ms/step - loss: 8.4172e-04 - val_loss: 0.0605\n",
            "Epoch 20/60\n",
            "\u001b[1m110/112\u001b[0m \u001b[32m━━━━━━━━━━━━━━━━━━━\u001b[0m\u001b[37m━\u001b[0m \u001b[1m0s\u001b[0m 24ms/step - loss: 0.0014\n",
            "Epoch 20: val_loss did not improve from 0.06053\n",
            "\u001b[1m112/112\u001b[0m \u001b[32m━━━━━━━━━━━━━━━━━━━━\u001b[0m\u001b[37m\u001b[0m \u001b[1m4s\u001b[0m 25ms/step - loss: 0.0014 - val_loss: 0.0638\n",
            "Epoch 21/60\n",
            "\u001b[1m109/112\u001b[0m \u001b[32m━━━━━━━━━━━━━━━━━━━\u001b[0m\u001b[37m━\u001b[0m \u001b[1m0s\u001b[0m 14ms/step - loss: 0.0014\n",
            "Epoch 21: val_loss did not improve from 0.06053\n",
            "\u001b[1m112/112\u001b[0m \u001b[32m━━━━━━━━━━━━━━━━━━━━\u001b[0m\u001b[37m\u001b[0m \u001b[1m2s\u001b[0m 15ms/step - loss: 0.0015 - val_loss: 0.0610\n",
            "Epoch 22/60\n",
            "\u001b[1m110/112\u001b[0m \u001b[32m━━━━━━━━━━━━━━━━━━━\u001b[0m\u001b[37m━\u001b[0m \u001b[1m0s\u001b[0m 13ms/step - loss: 0.0011\n",
            "Epoch 22: val_loss improved from 0.06053 to 0.05717, saving model to my_best_model.keras\n",
            "\u001b[1m112/112\u001b[0m \u001b[32m━━━━━━━━━━━━━━━━━━━━\u001b[0m\u001b[37m\u001b[0m \u001b[1m2s\u001b[0m 14ms/step - loss: 0.0011 - val_loss: 0.0572\n",
            "Epoch 23/60\n",
            "\u001b[1m112/112\u001b[0m \u001b[32m━━━━━━━━━━━━━━━━━━━━\u001b[0m\u001b[37m\u001b[0m \u001b[1m0s\u001b[0m 13ms/step - loss: 0.0016\n",
            "Epoch 23: val_loss did not improve from 0.05717\n",
            "\u001b[1m112/112\u001b[0m \u001b[32m━━━━━━━━━━━━━━━━━━━━\u001b[0m\u001b[37m\u001b[0m \u001b[1m2s\u001b[0m 13ms/step - loss: 0.0016 - val_loss: 0.0583\n",
            "Epoch 24/60\n",
            "\u001b[1m112/112\u001b[0m \u001b[32m━━━━━━━━━━━━━━━━━━━━\u001b[0m\u001b[37m\u001b[0m \u001b[1m0s\u001b[0m 13ms/step - loss: 0.0011\n",
            "Epoch 24: val_loss improved from 0.05717 to 0.05714, saving model to my_best_model.keras\n",
            "\u001b[1m112/112\u001b[0m \u001b[32m━━━━━━━━━━━━━━━━━━━━\u001b[0m\u001b[37m\u001b[0m \u001b[1m2s\u001b[0m 14ms/step - loss: 0.0011 - val_loss: 0.0571\n",
            "Epoch 25/60\n",
            "\u001b[1m112/112\u001b[0m \u001b[32m━━━━━━━━━━━━━━━━━━━━\u001b[0m\u001b[37m\u001b[0m \u001b[1m0s\u001b[0m 13ms/step - loss: 0.0015\n",
            "Epoch 25: val_loss improved from 0.05714 to 0.05684, saving model to my_best_model.keras\n",
            "\u001b[1m112/112\u001b[0m \u001b[32m━━━━━━━━━━━━━━━━━━━━\u001b[0m\u001b[37m\u001b[0m \u001b[1m3s\u001b[0m 14ms/step - loss: 0.0015 - val_loss: 0.0568\n",
            "Epoch 26/60\n",
            "\u001b[1m109/112\u001b[0m \u001b[32m━━━━━━━━━━━━━━━━━━━\u001b[0m\u001b[37m━\u001b[0m \u001b[1m0s\u001b[0m 13ms/step - loss: 0.0012\n",
            "Epoch 26: val_loss improved from 0.05684 to 0.05462, saving model to my_best_model.keras\n",
            "\u001b[1m112/112\u001b[0m \u001b[32m━━━━━━━━━━━━━━━━━━━━\u001b[0m\u001b[37m\u001b[0m \u001b[1m2s\u001b[0m 14ms/step - loss: 0.0012 - val_loss: 0.0546\n",
            "Epoch 27/60\n",
            "\u001b[1m111/112\u001b[0m \u001b[32m━━━━━━━━━━━━━━━━━━━\u001b[0m\u001b[37m━\u001b[0m \u001b[1m0s\u001b[0m 24ms/step - loss: 0.0012\n",
            "Epoch 27: val_loss improved from 0.05462 to 0.05383, saving model to my_best_model.keras\n",
            "\u001b[1m112/112\u001b[0m \u001b[32m━━━━━━━━━━━━━━━━━━━━\u001b[0m\u001b[37m\u001b[0m \u001b[1m3s\u001b[0m 25ms/step - loss: 0.0012 - val_loss: 0.0538\n",
            "Epoch 28/60\n",
            "\u001b[1m109/112\u001b[0m \u001b[32m━━━━━━━━━━━━━━━━━━━\u001b[0m\u001b[37m━\u001b[0m \u001b[1m0s\u001b[0m 13ms/step - loss: 0.0012\n",
            "Epoch 28: val_loss did not improve from 0.05383\n",
            "\u001b[1m112/112\u001b[0m \u001b[32m━━━━━━━━━━━━━━━━━━━━\u001b[0m\u001b[37m\u001b[0m \u001b[1m4s\u001b[0m 13ms/step - loss: 0.0012 - val_loss: 0.0540\n",
            "Epoch 29/60\n",
            "\u001b[1m111/112\u001b[0m \u001b[32m━━━━━━━━━━━━━━━━━━━\u001b[0m\u001b[37m━\u001b[0m \u001b[1m0s\u001b[0m 13ms/step - loss: 9.6700e-04\n",
            "Epoch 29: val_loss improved from 0.05383 to 0.05370, saving model to my_best_model.keras\n",
            "\u001b[1m112/112\u001b[0m \u001b[32m━━━━━━━━━━━━━━━━━━━━\u001b[0m\u001b[37m\u001b[0m \u001b[1m2s\u001b[0m 14ms/step - loss: 9.7737e-04 - val_loss: 0.0537\n",
            "Epoch 30/60\n",
            "\u001b[1m110/112\u001b[0m \u001b[32m━━━━━━━━━━━━━━━━━━━\u001b[0m\u001b[37m━\u001b[0m \u001b[1m0s\u001b[0m 13ms/step - loss: 9.1919e-04\n",
            "Epoch 30: val_loss improved from 0.05370 to 0.05333, saving model to my_best_model.keras\n",
            "\u001b[1m112/112\u001b[0m \u001b[32m━━━━━━━━━━━━━━━━━━━━\u001b[0m\u001b[37m\u001b[0m \u001b[1m2s\u001b[0m 14ms/step - loss: 9.3135e-04 - val_loss: 0.0533\n",
            "Epoch 31/60\n",
            "\u001b[1m112/112\u001b[0m \u001b[32m━━━━━━━━━━━━━━━━━━━━\u001b[0m\u001b[37m\u001b[0m \u001b[1m0s\u001b[0m 13ms/step - loss: 7.3378e-04\n",
            "Epoch 31: val_loss did not improve from 0.05333\n",
            "\u001b[1m112/112\u001b[0m \u001b[32m━━━━━━━━━━━━━━━━━━━━\u001b[0m\u001b[37m\u001b[0m \u001b[1m2s\u001b[0m 14ms/step - loss: 7.3777e-04 - val_loss: 0.0537\n",
            "Epoch 32/60\n",
            "\u001b[1m111/112\u001b[0m \u001b[32m━━━━━━━━━━━━━━━━━━━\u001b[0m\u001b[37m━\u001b[0m \u001b[1m0s\u001b[0m 22ms/step - loss: 0.0010    \n",
            "Epoch 32: val_loss did not improve from 0.05333\n",
            "\u001b[1m112/112\u001b[0m \u001b[32m━━━━━━━━━━━━━━━━━━━━\u001b[0m\u001b[37m\u001b[0m \u001b[1m4s\u001b[0m 23ms/step - loss: 0.0010 - val_loss: 0.0536\n",
            "Epoch 33/60\n",
            "\u001b[1m110/112\u001b[0m \u001b[32m━━━━━━━━━━━━━━━━━━━\u001b[0m\u001b[37m━\u001b[0m \u001b[1m0s\u001b[0m 13ms/step - loss: 6.0516e-04\n",
            "Epoch 33: val_loss improved from 0.05333 to 0.05326, saving model to my_best_model.keras\n",
            "\u001b[1m112/112\u001b[0m \u001b[32m━━━━━━━━━━━━━━━━━━━━\u001b[0m\u001b[37m\u001b[0m \u001b[1m4s\u001b[0m 14ms/step - loss: 6.1546e-04 - val_loss: 0.0533\n",
            "Epoch 34/60\n",
            "\u001b[1m108/112\u001b[0m \u001b[32m━━━━━━━━━━━━━━━━━━━\u001b[0m\u001b[37m━\u001b[0m \u001b[1m0s\u001b[0m 13ms/step - loss: 7.2690e-04\n",
            "Epoch 34: val_loss did not improve from 0.05326\n",
            "\u001b[1m112/112\u001b[0m \u001b[32m━━━━━━━━━━━━━━━━━━━━\u001b[0m\u001b[37m\u001b[0m \u001b[1m2s\u001b[0m 13ms/step - loss: 7.4291e-04 - val_loss: 0.0543\n",
            "Epoch 35/60\n",
            "\u001b[1m108/112\u001b[0m \u001b[32m━━━━━━━━━━━━━━━━━━━\u001b[0m\u001b[37m━\u001b[0m \u001b[1m0s\u001b[0m 13ms/step - loss: 8.6494e-04\n",
            "Epoch 35: val_loss did not improve from 0.05326\n",
            "\u001b[1m112/112\u001b[0m \u001b[32m━━━━━━━━━━━━━━━━━━━━\u001b[0m\u001b[37m\u001b[0m \u001b[1m3s\u001b[0m 13ms/step - loss: 9.1351e-04 - val_loss: 0.0567\n",
            "Epoch 36/60\n",
            "\u001b[1m110/112\u001b[0m \u001b[32m━━━━━━━━━━━━━━━━━━━\u001b[0m\u001b[37m━\u001b[0m \u001b[1m0s\u001b[0m 13ms/step - loss: 8.2212e-04\n",
            "Epoch 36: val_loss did not improve from 0.05326\n",
            "\u001b[1m112/112\u001b[0m \u001b[32m━━━━━━━━━━━━━━━━━━━━\u001b[0m\u001b[37m\u001b[0m \u001b[1m2s\u001b[0m 14ms/step - loss: 8.5544e-04 - val_loss: 0.0537\n",
            "Epoch 37/60\n",
            "\u001b[1m111/112\u001b[0m \u001b[32m━━━━━━━━━━━━━━━━━━━\u001b[0m\u001b[37m━\u001b[0m \u001b[1m0s\u001b[0m 14ms/step - loss: 9.2293e-04\n",
            "Epoch 37: val_loss improved from 0.05326 to 0.05248, saving model to my_best_model.keras\n",
            "\u001b[1m112/112\u001b[0m \u001b[32m━━━━━━━━━━━━━━━━━━━━\u001b[0m\u001b[37m\u001b[0m \u001b[1m2s\u001b[0m 16ms/step - loss: 9.3349e-04 - val_loss: 0.0525\n",
            "Epoch 38/60\n",
            "\u001b[1m111/112\u001b[0m \u001b[32m━━━━━━━━━━━━━━━━━━━\u001b[0m\u001b[37m━\u001b[0m \u001b[1m0s\u001b[0m 24ms/step - loss: 0.0012\n",
            "Epoch 38: val_loss improved from 0.05248 to 0.05231, saving model to my_best_model.keras\n",
            "\u001b[1m112/112\u001b[0m \u001b[32m━━━━━━━━━━━━━━━━━━━━\u001b[0m\u001b[37m\u001b[0m \u001b[1m4s\u001b[0m 25ms/step - loss: 0.0012 - val_loss: 0.0523\n",
            "Epoch 39/60\n",
            "\u001b[1m108/112\u001b[0m \u001b[32m━━━━━━━━━━━━━━━━━━━\u001b[0m\u001b[37m━\u001b[0m \u001b[1m0s\u001b[0m 13ms/step - loss: 8.3653e-04\n",
            "Epoch 39: val_loss improved from 0.05231 to 0.05129, saving model to my_best_model.keras\n",
            "\u001b[1m112/112\u001b[0m \u001b[32m━━━━━━━━━━━━━━━━━━━━\u001b[0m\u001b[37m\u001b[0m \u001b[1m4s\u001b[0m 14ms/step - loss: 8.5166e-04 - val_loss: 0.0513\n",
            "Epoch 40/60\n",
            "\u001b[1m110/112\u001b[0m \u001b[32m━━━━━━━━━━━━━━━━━━━\u001b[0m\u001b[37m━\u001b[0m \u001b[1m0s\u001b[0m 13ms/step - loss: 0.0012\n",
            "Epoch 40: val_loss did not improve from 0.05129\n",
            "\u001b[1m112/112\u001b[0m \u001b[32m━━━━━━━━━━━━━━━━━━━━\u001b[0m\u001b[37m\u001b[0m \u001b[1m3s\u001b[0m 14ms/step - loss: 0.0012 - val_loss: 0.0519\n",
            "Epoch 41/60\n",
            "\u001b[1m110/112\u001b[0m \u001b[32m━━━━━━━━━━━━━━━━━━━\u001b[0m\u001b[37m━\u001b[0m \u001b[1m0s\u001b[0m 13ms/step - loss: 7.7894e-04\n",
            "Epoch 41: val_loss improved from 0.05129 to 0.05100, saving model to my_best_model.keras\n",
            "\u001b[1m112/112\u001b[0m \u001b[32m━━━━━━━━━━━━━━━━━━━━\u001b[0m\u001b[37m\u001b[0m \u001b[1m2s\u001b[0m 14ms/step - loss: 7.9089e-04 - val_loss: 0.0510\n",
            "Epoch 42/60\n",
            "\u001b[1m111/112\u001b[0m \u001b[32m━━━━━━━━━━━━━━━━━━━\u001b[0m\u001b[37m━\u001b[0m \u001b[1m0s\u001b[0m 18ms/step - loss: 0.0012\n",
            "Epoch 42: val_loss did not improve from 0.05100\n",
            "\u001b[1m112/112\u001b[0m \u001b[32m━━━━━━━━━━━━━━━━━━━━\u001b[0m\u001b[37m\u001b[0m \u001b[1m3s\u001b[0m 19ms/step - loss: 0.0013 - val_loss: 0.0521\n",
            "Epoch 43/60\n",
            "\u001b[1m111/112\u001b[0m \u001b[32m━━━━━━━━━━━━━━━━━━━\u001b[0m\u001b[37m━\u001b[0m \u001b[1m0s\u001b[0m 25ms/step - loss: 9.8338e-04\n",
            "Epoch 43: val_loss did not improve from 0.05100\n",
            "\u001b[1m112/112\u001b[0m \u001b[32m━━━━━━━━━━━━━━━━━━━━\u001b[0m\u001b[37m\u001b[0m \u001b[1m3s\u001b[0m 26ms/step - loss: 9.9709e-04 - val_loss: 0.0510\n",
            "Epoch 44/60\n",
            "\u001b[1m109/112\u001b[0m \u001b[32m━━━━━━━━━━━━━━━━━━━\u001b[0m\u001b[37m━\u001b[0m \u001b[1m0s\u001b[0m 13ms/step - loss: 8.0166e-04\n",
            "Epoch 44: val_loss improved from 0.05100 to 0.04981, saving model to my_best_model.keras\n",
            "\u001b[1m112/112\u001b[0m \u001b[32m━━━━━━━━━━━━━━━━━━━━\u001b[0m\u001b[37m\u001b[0m \u001b[1m4s\u001b[0m 14ms/step - loss: 8.1416e-04 - val_loss: 0.0498\n",
            "Epoch 45/60\n",
            "\u001b[1m111/112\u001b[0m \u001b[32m━━━━━━━━━━━━━━━━━━━\u001b[0m\u001b[37m━\u001b[0m \u001b[1m0s\u001b[0m 13ms/step - loss: 0.0011\n",
            "Epoch 45: val_loss did not improve from 0.04981\n",
            "\u001b[1m112/112\u001b[0m \u001b[32m━━━━━━━━━━━━━━━━━━━━\u001b[0m\u001b[37m\u001b[0m \u001b[1m3s\u001b[0m 14ms/step - loss: 0.0011 - val_loss: 0.0501\n",
            "Epoch 46/60\n",
            "\u001b[1m110/112\u001b[0m \u001b[32m━━━━━━━━━━━━━━━━━━━\u001b[0m\u001b[37m━\u001b[0m \u001b[1m0s\u001b[0m 13ms/step - loss: 0.0011\n",
            "Epoch 46: val_loss did not improve from 0.04981\n",
            "\u001b[1m112/112\u001b[0m \u001b[32m━━━━━━━━━━━━━━━━━━━━\u001b[0m\u001b[37m\u001b[0m \u001b[1m2s\u001b[0m 13ms/step - loss: 0.0011 - val_loss: 0.0504\n",
            "Epoch 47/60\n",
            "\u001b[1m110/112\u001b[0m \u001b[32m━━━━━━━━━━━━━━━━━━━\u001b[0m\u001b[37m━\u001b[0m \u001b[1m0s\u001b[0m 14ms/step - loss: 0.0010\n",
            "Epoch 47: val_loss did not improve from 0.04981\n",
            "\u001b[1m112/112\u001b[0m \u001b[32m━━━━━━━━━━━━━━━━━━━━\u001b[0m\u001b[37m\u001b[0m \u001b[1m3s\u001b[0m 16ms/step - loss: 0.0011 - val_loss: 0.0518\n",
            "Epoch 48/60\n",
            "\u001b[1m110/112\u001b[0m \u001b[32m━━━━━━━━━━━━━━━━━━━\u001b[0m\u001b[37m━\u001b[0m \u001b[1m0s\u001b[0m 24ms/step - loss: 0.0010    \n",
            "Epoch 48: val_loss did not improve from 0.04981\n",
            "\u001b[1m112/112\u001b[0m \u001b[32m━━━━━━━━━━━━━━━━━━━━\u001b[0m\u001b[37m\u001b[0m \u001b[1m4s\u001b[0m 25ms/step - loss: 0.0010 - val_loss: 0.0519\n",
            "Epoch 49/60\n",
            "\u001b[1m112/112\u001b[0m \u001b[32m━━━━━━━━━━━━━━━━━━━━\u001b[0m\u001b[37m\u001b[0m \u001b[1m0s\u001b[0m 15ms/step - loss: 9.9404e-04\n",
            "Epoch 49: val_loss improved from 0.04981 to 0.04959, saving model to my_best_model.keras\n",
            "\u001b[1m112/112\u001b[0m \u001b[32m━━━━━━━━━━━━━━━━━━━━\u001b[0m\u001b[37m\u001b[0m \u001b[1m2s\u001b[0m 16ms/step - loss: 0.0010 - val_loss: 0.0496\n",
            "Epoch 50/60\n",
            "\u001b[1m110/112\u001b[0m \u001b[32m━━━━━━━━━━━━━━━━━━━\u001b[0m\u001b[37m━\u001b[0m \u001b[1m0s\u001b[0m 13ms/step - loss: 0.0011\n",
            "Epoch 50: val_loss improved from 0.04959 to 0.04948, saving model to my_best_model.keras\n",
            "\u001b[1m112/112\u001b[0m \u001b[32m━━━━━━━━━━━━━━━━━━━━\u001b[0m\u001b[37m\u001b[0m \u001b[1m2s\u001b[0m 14ms/step - loss: 0.0011 - val_loss: 0.0495\n",
            "Epoch 51/60\n",
            "\u001b[1m108/112\u001b[0m \u001b[32m━━━━━━━━━━━━━━━━━━━\u001b[0m\u001b[37m━\u001b[0m \u001b[1m0s\u001b[0m 13ms/step - loss: 0.0010\n",
            "Epoch 51: val_loss improved from 0.04948 to 0.04861, saving model to my_best_model.keras\n",
            "\u001b[1m112/112\u001b[0m \u001b[32m━━━━━━━━━━━━━━━━━━━━\u001b[0m\u001b[37m\u001b[0m \u001b[1m2s\u001b[0m 14ms/step - loss: 0.0010 - val_loss: 0.0486\n",
            "Epoch 52/60\n",
            "\u001b[1m112/112\u001b[0m \u001b[32m━━━━━━━━━━━━━━━━━━━━\u001b[0m\u001b[37m\u001b[0m \u001b[1m0s\u001b[0m 13ms/step - loss: 9.0261e-04\n",
            "Epoch 52: val_loss did not improve from 0.04861\n",
            "\u001b[1m112/112\u001b[0m \u001b[32m━━━━━━━━━━━━━━━━━━━━\u001b[0m\u001b[37m\u001b[0m \u001b[1m2s\u001b[0m 14ms/step - loss: 9.0383e-04 - val_loss: 0.0490\n",
            "Epoch 53/60\n",
            "\u001b[1m110/112\u001b[0m \u001b[32m━━━━━━━━━━━━━━━━━━━\u001b[0m\u001b[37m━\u001b[0m \u001b[1m0s\u001b[0m 15ms/step - loss: 9.4693e-04\n",
            "Epoch 53: val_loss did not improve from 0.04861\n",
            "\u001b[1m112/112\u001b[0m \u001b[32m━━━━━━━━━━━━━━━━━━━━\u001b[0m\u001b[37m\u001b[0m \u001b[1m3s\u001b[0m 16ms/step - loss: 9.4915e-04 - val_loss: 0.0488\n",
            "Epoch 54/60\n",
            "\u001b[1m110/112\u001b[0m \u001b[32m━━━━━━━━━━━━━━━━━━━\u001b[0m\u001b[37m━\u001b[0m \u001b[1m0s\u001b[0m 23ms/step - loss: 6.2110e-04\n",
            "Epoch 54: val_loss improved from 0.04861 to 0.04848, saving model to my_best_model.keras\n",
            "\u001b[1m112/112\u001b[0m \u001b[32m━━━━━━━━━━━━━━━━━━━━\u001b[0m\u001b[37m\u001b[0m \u001b[1m3s\u001b[0m 24ms/step - loss: 6.2921e-04 - val_loss: 0.0485\n",
            "Epoch 55/60\n",
            "\u001b[1m108/112\u001b[0m \u001b[32m━━━━━━━━━━━━━━━━━━━\u001b[0m\u001b[37m━\u001b[0m \u001b[1m0s\u001b[0m 19ms/step - loss: 6.7322e-04\n",
            "Epoch 55: val_loss did not improve from 0.04848\n",
            "\u001b[1m112/112\u001b[0m \u001b[32m━━━━━━━━━━━━━━━━━━━━\u001b[0m\u001b[37m\u001b[0m \u001b[1m2s\u001b[0m 20ms/step - loss: 6.8033e-04 - val_loss: 0.0490\n",
            "Epoch 56/60\n",
            "\u001b[1m110/112\u001b[0m \u001b[32m━━━━━━━━━━━━━━━━━━━\u001b[0m\u001b[37m━\u001b[0m \u001b[1m0s\u001b[0m 13ms/step - loss: 5.8338e-04\n",
            "Epoch 56: val_loss did not improve from 0.04848\n",
            "\u001b[1m112/112\u001b[0m \u001b[32m━━━━━━━━━━━━━━━━━━━━\u001b[0m\u001b[37m\u001b[0m \u001b[1m2s\u001b[0m 14ms/step - loss: 5.9010e-04 - val_loss: 0.0504\n",
            "Epoch 57/60\n",
            "\u001b[1m110/112\u001b[0m \u001b[32m━━━━━━━━━━━━━━━━━━━\u001b[0m\u001b[37m━\u001b[0m \u001b[1m0s\u001b[0m 13ms/step - loss: 6.7425e-04\n",
            "Epoch 57: val_loss did not improve from 0.04848\n",
            "\u001b[1m112/112\u001b[0m \u001b[32m━━━━━━━━━━━━━━━━━━━━\u001b[0m\u001b[37m\u001b[0m \u001b[1m3s\u001b[0m 14ms/step - loss: 6.8675e-04 - val_loss: 0.0508\n",
            "Epoch 58/60\n",
            "\u001b[1m109/112\u001b[0m \u001b[32m━━━━━━━━━━━━━━━━━━━\u001b[0m\u001b[37m━\u001b[0m \u001b[1m0s\u001b[0m 13ms/step - loss: 4.5673e-04\n",
            "Epoch 58: val_loss did not improve from 0.04848\n",
            "\u001b[1m112/112\u001b[0m \u001b[32m━━━━━━━━━━━━━━━━━━━━\u001b[0m\u001b[37m\u001b[0m \u001b[1m3s\u001b[0m 14ms/step - loss: 4.6948e-04 - val_loss: 0.0501\n",
            "Epoch 59/60\n",
            "\u001b[1m110/112\u001b[0m \u001b[32m━━━━━━━━━━━━━━━━━━━\u001b[0m\u001b[37m━\u001b[0m \u001b[1m0s\u001b[0m 14ms/step - loss: 5.2358e-04\n",
            "Epoch 59: val_loss did not improve from 0.04848\n",
            "\u001b[1m112/112\u001b[0m \u001b[32m━━━━━━━━━━━━━━━━━━━━\u001b[0m\u001b[37m\u001b[0m \u001b[1m3s\u001b[0m 15ms/step - loss: 5.2864e-04 - val_loss: 0.0496\n",
            "Epoch 60/60\n",
            "\u001b[1m112/112\u001b[0m \u001b[32m━━━━━━━━━━━━━━━━━━━━\u001b[0m\u001b[37m\u001b[0m \u001b[1m0s\u001b[0m 24ms/step - loss: 8.5894e-04\n",
            "Epoch 60: val_loss did not improve from 0.04848\n",
            "\u001b[1m112/112\u001b[0m \u001b[32m━━━━━━━━━━━━━━━━━━━━\u001b[0m\u001b[37m\u001b[0m \u001b[1m4s\u001b[0m 25ms/step - loss: 8.6123e-04 - val_loss: 0.0518\n"
          ]
        }
      ]
    },
    {
      "cell_type": "markdown",
      "source": [
        "## Plot line graph to show Loss Numbers relative to the epoch"
      ],
      "metadata": {
        "id": "wTL_Nv2_xmur"
      }
    },
    {
      "cell_type": "code",
      "source": [
        "from tensorflow.keras.models import load_model\n",
        "\n",
        "model_from_saved_checkpoint = load_model(checkpoint_path)"
      ],
      "metadata": {
        "id": "UexgQdiMxoWT"
      },
      "execution_count": 65,
      "outputs": []
    },
    {
      "cell_type": "code",
      "source": [
        "plt.figure(figsize=(16,7))\n",
        "plt.plot(history.history['loss'], label='train')\n",
        "\n",
        "plt.plot(history.history['val_loss'], label='test')\n",
        "plt.legend()\n",
        "plt.show()"
      ],
      "metadata": {
        "colab": {
          "base_uri": "https://localhost:8080/",
          "height": 531
        },
        "id": "6_aOR9vdx2c0",
        "outputId": "9c1258af-7dd7-4f22-b501-b3c3f6fafda0"
      },
      "execution_count": 41,
      "outputs": [
        {
          "output_type": "display_data",
          "data": {
            "text/plain": [
              "<Figure size 1600x700 with 1 Axes>"
            ],
            "image/png": "[encoded data removed]"
          },
          "metadata": {}
        }
      ]
    },
    {
      "cell_type": "markdown",
      "source": [
        "<div style=\"background: linear-gradient(45deg, #FFC300, #FF5733, #C70039, #900C3F); padding: 10px; border-radius: 5px; display: flex; align-items: center;\">\n",
        "    <h3 style=\"font-weight: bold; color: white; margin: 0 auto;\"> LSTM Predictions using testX and plotting line graph against Actual testY </h3>\n",
        "</div>\n",
        "\n",
        "\n",
        "\n",
        "\n",
        "Due to scaling step done earlier with MinMaxScaler the predicted scale is between 0 and 1.\n",
        "Now, I need to transfer this scale to the original data scale (real value). for example:[0.58439621 0.58439621 0.58439621 ... 0.81262134 0.81262134 0.81262134], the pred answer transfer to :[250 100 50 60 .....]\n",
        "So here I am going to use `inverse_transform` to Scale back the data to the original representation."
      ],
      "metadata": {
        "id": "M-uA_J0gx-or"
      }
    },
    {
      "cell_type": "code",
      "source": [
        "# Predicted data\n",
        "predicted_btc_price_test_data = model_from_saved_checkpoint.predict(testX)\n",
        "\n",
        "# Inverse transform the predictions to the original scale\n",
        "predicted_btc_price_test_data = scaler_test.inverse_transform(predicted_btc_price_test_data.reshape(-1, 1))\n",
        "\n",
        "# Inverse transform the actual test data to the original scale\n",
        "test_actual = scaler_test.inverse_transform(testY.reshape(-1, 1))"
      ],
      "metadata": {
        "colab": {
          "base_uri": "https://localhost:8080/"
        },
        "id": "oYjVwgSgyABg",
        "outputId": "4f77b319-2e1f-4476-d2d4-0b5b484f1b1d"
      },
      "execution_count": 66,
      "outputs": [
        {
          "output_type": "stream",
          "name": "stdout",
          "text": [
            "\u001b[1m2/2\u001b[0m \u001b[32m━━━━━━━━━━━━━━━━━━━━\u001b[0m\u001b[37m\u001b[0m \u001b[1m1s\u001b[0m 493ms/step\n"
          ]
        }
      ]
    },
    {
      "cell_type": "code",
      "source": [
        "plt.figure(figsize=(16,7))\n",
        "\n",
        "plt.plot(predicted_btc_price_test_data, 'r', marker='.', label='Predicted Test')\n",
        "\n",
        "plt.plot(test_actual, marker='.', label='Actual Test')\n",
        "\n",
        "plt.legend()\n",
        "plt.show()"
      ],
      "metadata": {
        "colab": {
          "base_uri": "https://localhost:8080/",
          "height": 526
        },
        "id": "urj5OSPa1-3T",
        "outputId": "a963e317-3730-4fcd-b888-aac6523bbf5c"
      },
      "execution_count": 67,
      "outputs": [
        {
          "output_type": "display_data",
          "data": {
            "text/plain": [
              "<Figure size 1600x700 with 1 Axes>"
            ],
            "image/png": "[encoded data removed]"
          },
          "metadata": {}
        }
      ]
    },
    {
      "cell_type": "markdown",
      "source": [
        "### LSTM Prediction using trainX and plotting line graph against Actual trainY"
      ],
      "metadata": {
        "id": "NB4hYHXr2NDr"
      }
    },
    {
      "cell_type": "code",
      "source": [
        "# Transformation to original form and making the predictions\n",
        "\n",
        "predicted_btc_price_train_data = model_from_saved_checkpoint.predict(trainX)\n",
        "\n",
        "predicted_btc_price_train_data = scaler_train.inverse_transform(predicted_btc_price_train_data.reshape(-1, 1))\n",
        "\n",
        "train_actual = scaler_train.inverse_transform(trainY.reshape(-1, 1))"
      ],
      "metadata": {
        "colab": {
          "base_uri": "https://localhost:8080/"
        },
        "id": "uDfUzKwv2O1r",
        "outputId": "8cb5392f-88ac-4735-ea7d-99c297299155"
      },
      "execution_count": 68,
      "outputs": [
        {
          "output_type": "stream",
          "name": "stdout",
          "text": [
            "\u001b[1m112/112\u001b[0m \u001b[32m━━━━━━━━━━━━━━━━━━━━\u001b[0m\u001b[37m\u001b[0m \u001b[1m1s\u001b[0m 10ms/step\n"
          ]
        }
      ]
    },
    {
      "cell_type": "code",
      "source": [
        "plt.figure(figsize=(16,7))\n",
        "\n",
        "plt.plot(predicted_btc_price_train_data, 'r', marker='.', label='Predicted Train')\n",
        "\n",
        "plt.plot(train_actual, marker='.', label='Actual Train')\n",
        "\n",
        "plt.legend()\n",
        "plt.show()"
      ],
      "metadata": {
        "colab": {
          "base_uri": "https://localhost:8080/",
          "height": 526
        },
        "id": "kH7-w4id2atq",
        "outputId": "64934711-a491-4693-8e4e-e396596ea65e"
      },
      "execution_count": 69,
      "outputs": [
        {
          "output_type": "display_data",
          "data": {
            "text/plain": [
              "<Figure size 1600x700 with 1 Axes>"
            ],
            "image/png": "[encoded data removed]"
          },
          "metadata": {}
        }
      ]
    },
    {
      "cell_type": "markdown",
      "source": [
        "### RMSE - Test Data"
      ],
      "metadata": {
        "id": "AED-edLA24MI"
      }
    },
    {
      "cell_type": "code",
      "source": [
        "rmse_lstm_test = math.sqrt(mean_squared_error(test_actual, predicted_btc_price_test_data))\n",
        "\n",
        "print('Test RMSE: %.3f' % rmse_lstm_test)\n",
        "\n",
        "# With 2 Layers + Dropout + lookback=5 => I got - Test RMSE: 1666.162  => This seems best"
      ],
      "metadata": {
        "colab": {
          "base_uri": "https://localhost:8080/"
        },
        "id": "S6sZK6f625Yt",
        "outputId": "1454ba20-ce4c-4926-8eba-6d592b7d95d5"
      },
      "execution_count": 72,
      "outputs": [
        {
          "output_type": "stream",
          "name": "stdout",
          "text": [
            "Test RMSE: 3008.196\n"
          ]
        }
      ]
    },
    {
      "cell_type": "markdown",
      "source": [
        "### RMSE - Train Data"
      ],
      "metadata": {
        "id": "uQGUIEXy3jg9"
      }
    },
    {
      "cell_type": "code",
      "source": [
        "rmse_lstm_train = math.sqrt(mean_squared_error(train_actual, predicted_btc_price_train_data))\n",
        "\n",
        "print('Test RMSE: %.3f' % rmse_lstm_train)\n",
        "\n",
        "# With 2 Layers + Dropout + lookback=5 => I got - Test RMSE: 1047.916  => This seems best"
      ],
      "metadata": {
        "colab": {
          "base_uri": "https://localhost:8080/"
        },
        "id": "Lj_HgOdN3gEv",
        "outputId": "4431e016-fa2f-4b79-9533-c79c009c9010"
      },
      "execution_count": 73,
      "outputs": [
        {
          "output_type": "stream",
          "name": "stdout",
          "text": [
            "Test RMSE: 2930.360\n"
          ]
        }
      ]
    },
    {
      "cell_type": "markdown",
      "source": [
        "###  Future Price Predictions - For 5 Days beyond the actual trading"
      ],
      "metadata": {
        "id": "FoP0aeSC7Mb6"
      }
    },
    {
      "cell_type": "code",
      "source": [
        "testX\n",
        "testX.shape"
      ],
      "metadata": {
        "colab": {
          "base_uri": "https://localhost:8080/"
        },
        "id": "FL44l-qC33C7",
        "outputId": "1320b033-b182-4921-a152-292365df475d"
      },
      "execution_count": 74,
      "outputs": [
        {
          "output_type": "execute_result",
          "data": {
            "text/plain": [
              "(55, 5, 1)"
            ]
          },
          "metadata": {},
          "execution_count": 74
        }
      ]
    },
    {
      "cell_type": "code",
      "source": [
        "lookback_period = 5\n",
        "\n",
        "testX_last_5_days = testX[testX.shape[0] - lookback_period :  ]\n",
        "\n",
        "testX_last_5_days.shape"
      ],
      "metadata": {
        "colab": {
          "base_uri": "https://localhost:8080/"
        },
        "id": "fHEbtpUe36eC",
        "outputId": "92c03313-74a2-408d-d990-8d3b58aed416"
      },
      "execution_count": 75,
      "outputs": [
        {
          "output_type": "execute_result",
          "data": {
            "text/plain": [
              "(5, 5, 1)"
            ]
          },
          "metadata": {},
          "execution_count": 75
        }
      ]
    },
    {
      "cell_type": "code",
      "source": [
        "testX_last_5_days"
      ],
      "metadata": {
        "colab": {
          "base_uri": "https://localhost:8080/"
        },
        "id": "l5msHP0Z4CUD",
        "outputId": "7658d91e-9b32-41dc-ccd8-ba1741c82ffe"
      },
      "execution_count": 76,
      "outputs": [
        {
          "output_type": "execute_result",
          "data": {
            "text/plain": [
              "array([[[0.64765706],\n",
              "        [0.82118181],\n",
              "        [0.8967254 ],\n",
              "        [0.72616161],\n",
              "        [0.59813583]],\n",
              "\n",
              "       [[0.82118181],\n",
              "        [0.8967254 ],\n",
              "        [0.72616161],\n",
              "        [0.59813583],\n",
              "        [0.38097286]],\n",
              "\n",
              "       [[0.8967254 ],\n",
              "        [0.72616161],\n",
              "        [0.59813583],\n",
              "        [0.38097286],\n",
              "        [0.65299626]],\n",
              "\n",
              "       [[0.72616161],\n",
              "        [0.59813583],\n",
              "        [0.38097286],\n",
              "        [0.65299626],\n",
              "        [0.39435602]],\n",
              "\n",
              "       [[0.59813583],\n",
              "        [0.38097286],\n",
              "        [0.65299626],\n",
              "        [0.39435602],\n",
              "        [0.30239626]]])"
            ]
          },
          "metadata": {},
          "execution_count": 76
        }
      ]
    },
    {
      "cell_type": "code",
      "source": [
        "\n",
        "predicted_5_days_forecast_price_test_x = []\n",
        "\n",
        "for i in range(5):\n",
        "  predicted_forecast_price_test_x = model_from_saved_checkpoint.predict(testX_last_5_days[i:i+1])\n",
        "\n",
        "  predicted_forecast_price_test_x = scaler_test.inverse_transform(predicted_forecast_price_test_x.reshape(-1, 1))\n",
        "  # print(predicted_forecast_price_test_x)\n",
        "  predicted_5_days_forecast_price_test_x.append(predicted_forecast_price_test_x)\n",
        "\n",
        "print(\"Forecast for the next 5 Days Beyond the actual trading days \", np.array(predicted_5_days_forecast_price_test_x))\n",
        "# That is the original Trading data ended on 30-Oct-2021, but now I am going to forecast beyond 30-Oct-2021"
      ],
      "metadata": {
        "colab": {
          "base_uri": "https://localhost:8080/"
        },
        "id": "csTYCpHi4GWF",
        "outputId": "918ea5a6-ebf4-410d-de2b-2e24c7126c1a"
      },
      "execution_count": 77,
      "outputs": [
        {
          "output_type": "stream",
          "name": "stdout",
          "text": [
            "\u001b[1m1/1\u001b[0m \u001b[32m━━━━━━━━━━━━━━━━━━━━\u001b[0m\u001b[37m\u001b[0m \u001b[1m0s\u001b[0m 72ms/step\n",
            "\u001b[1m1/1\u001b[0m \u001b[32m━━━━━━━━━━━━━━━━━━━━\u001b[0m\u001b[37m\u001b[0m \u001b[1m0s\u001b[0m 46ms/step\n",
            "\u001b[1m1/1\u001b[0m \u001b[32m━━━━━━━━━━━━━━━━━━━━\u001b[0m\u001b[37m\u001b[0m \u001b[1m0s\u001b[0m 40ms/step\n",
            "\u001b[1m1/1\u001b[0m \u001b[32m━━━━━━━━━━━━━━━━━━━━\u001b[0m\u001b[37m\u001b[0m \u001b[1m0s\u001b[0m 40ms/step\n",
            "\u001b[1m1/1\u001b[0m \u001b[32m━━━━━━━━━━━━━━━━━━━━\u001b[0m\u001b[37m\u001b[0m \u001b[1m0s\u001b[0m 45ms/step\n",
            "Forecast for the next 5 Days Beyond the actual trading days  [[[102389.9  ]]\n",
            "\n",
            " [[101389.234]]\n",
            "\n",
            " [[100729.195]]\n",
            "\n",
            " [[ 99487.984]]\n",
            "\n",
            " [[ 98403.07 ]]]\n"
          ]
        }
      ]
    }
  ]
}