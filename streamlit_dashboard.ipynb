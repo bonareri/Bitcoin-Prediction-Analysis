{
  "nbformat": 4,
  "nbformat_minor": 0,
  "metadata": {
    "colab": {
      "provenance": [],
      "authorship_tag": "ABX9TyOzBKJiZZFsBlE2dPZFcvpz",
      "include_colab_link": true
    },
    "kernelspec": {
      "name": "python3",
      "display_name": "Python 3"
    },
    "language_info": {
      "name": "python"
    }
  },
  "cells": [
    {
      "cell_type": "markdown",
      "metadata": {
        "id": "view-in-github",
        "colab_type": "text"
      },
      "source": [
        "<a href=\"https://colab.research.google.com/github/bonareri/Bitcoin-Prediction-Analysis/blob/main/streamlit_dashboard.ipynb\" target=\"_parent\"><img src=\"https://colab.research.google.com/assets/colab-badge.svg\" alt=\"Open In Colab\"/></a>"
      ]
    },
    {
      "cell_type": "code",
      "execution_count": 1,
      "metadata": {
        "colab": {
          "base_uri": "https://localhost:8080/"
        },
        "id": "rcHDakge66c8",
        "outputId": "e5f01a2d-fa46-4724-a2c1-6753a79991c8"
      },
      "outputs": [
        {
          "output_type": "stream",
          "name": "stdout",
          "text": [
            "Collecting streamlit\n",
            "  Downloading streamlit-1.42.0-py2.py3-none-any.whl.metadata (8.9 kB)\n",
            "Requirement already satisfied: plotly in /usr/local/lib/python3.11/dist-packages (5.24.1)\n",
            "Requirement already satisfied: pandas in /usr/local/lib/python3.11/dist-packages (2.2.2)\n",
            "Requirement already satisfied: prophet in /usr/local/lib/python3.11/dist-packages (1.1.6)\n",
            "Requirement already satisfied: altair<6,>=4.0 in /usr/local/lib/python3.11/dist-packages (from streamlit) (5.5.0)\n",
            "Requirement already satisfied: blinker<2,>=1.0.0 in /usr/local/lib/python3.11/dist-packages (from streamlit) (1.9.0)\n",
            "Requirement already satisfied: cachetools<6,>=4.0 in /usr/local/lib/python3.11/dist-packages (from streamlit) (5.5.1)\n",
            "Requirement already satisfied: click<9,>=7.0 in /usr/local/lib/python3.11/dist-packages (from streamlit) (8.1.8)\n",
            "Requirement already satisfied: numpy<3,>=1.23 in /usr/local/lib/python3.11/dist-packages (from streamlit) (1.26.4)\n",
            "Requirement already satisfied: packaging<25,>=20 in /usr/local/lib/python3.11/dist-packages (from streamlit) (24.2)\n",
            "Requirement already satisfied: pillow<12,>=7.1.0 in /usr/local/lib/python3.11/dist-packages (from streamlit) (11.1.0)\n",
            "Requirement already satisfied: protobuf<6,>=3.20 in /usr/local/lib/python3.11/dist-packages (from streamlit) (4.25.6)\n",
            "Requirement already satisfied: pyarrow>=7.0 in /usr/local/lib/python3.11/dist-packages (from streamlit) (17.0.0)\n",
            "Requirement already satisfied: requests<3,>=2.27 in /usr/local/lib/python3.11/dist-packages (from streamlit) (2.32.3)\n",
            "Requirement already satisfied: rich<14,>=10.14.0 in /usr/local/lib/python3.11/dist-packages (from streamlit) (13.9.4)\n",
            "Requirement already satisfied: tenacity<10,>=8.1.0 in /usr/local/lib/python3.11/dist-packages (from streamlit) (9.0.0)\n",
            "Requirement already satisfied: toml<2,>=0.10.1 in /usr/local/lib/python3.11/dist-packages (from streamlit) (0.10.2)\n",
            "Requirement already satisfied: typing-extensions<5,>=4.4.0 in /usr/local/lib/python3.11/dist-packages (from streamlit) (4.12.2)\n",
            "Collecting watchdog<7,>=2.1.5 (from streamlit)\n",
            "  Downloading watchdog-6.0.0-py3-none-manylinux2014_x86_64.whl.metadata (44 kB)\n",
            "\u001b[2K     \u001b[90m━━━━━━━━━━━━━━━━━━━━━━━━━━━━━━━━━━━━━━━━\u001b[0m \u001b[32m44.3/44.3 kB\u001b[0m \u001b[31m1.3 MB/s\u001b[0m eta \u001b[36m0:00:00\u001b[0m\n",
            "\u001b[?25hRequirement already satisfied: gitpython!=3.1.19,<4,>=3.0.7 in /usr/local/lib/python3.11/dist-packages (from streamlit) (3.1.44)\n",
            "Collecting pydeck<1,>=0.8.0b4 (from streamlit)\n",
            "  Downloading pydeck-0.9.1-py2.py3-none-any.whl.metadata (4.1 kB)\n",
            "Requirement already satisfied: tornado<7,>=6.0.3 in /usr/local/lib/python3.11/dist-packages (from streamlit) (6.4.2)\n",
            "Requirement already satisfied: python-dateutil>=2.8.2 in /usr/local/lib/python3.11/dist-packages (from pandas) (2.8.2)\n",
            "Requirement already satisfied: pytz>=2020.1 in /usr/local/lib/python3.11/dist-packages (from pandas) (2025.1)\n",
            "Requirement already satisfied: tzdata>=2022.7 in /usr/local/lib/python3.11/dist-packages (from pandas) (2025.1)\n",
            "Requirement already satisfied: cmdstanpy>=1.0.4 in /usr/local/lib/python3.11/dist-packages (from prophet) (1.2.5)\n",
            "Requirement already satisfied: matplotlib>=2.0.0 in /usr/local/lib/python3.11/dist-packages (from prophet) (3.10.0)\n",
            "Requirement already satisfied: holidays<1,>=0.25 in /usr/local/lib/python3.11/dist-packages (from prophet) (0.66)\n",
            "Requirement already satisfied: tqdm>=4.36.1 in /usr/local/lib/python3.11/dist-packages (from prophet) (4.67.1)\n",
            "Requirement already satisfied: importlib-resources in /usr/local/lib/python3.11/dist-packages (from prophet) (6.5.2)\n",
            "Requirement already satisfied: jinja2 in /usr/local/lib/python3.11/dist-packages (from altair<6,>=4.0->streamlit) (3.1.5)\n",
            "Requirement already satisfied: jsonschema>=3.0 in /usr/local/lib/python3.11/dist-packages (from altair<6,>=4.0->streamlit) (4.23.0)\n",
            "Requirement already satisfied: narwhals>=1.14.2 in /usr/local/lib/python3.11/dist-packages (from altair<6,>=4.0->streamlit) (1.25.1)\n",
            "Requirement already satisfied: stanio<2.0.0,>=0.4.0 in /usr/local/lib/python3.11/dist-packages (from cmdstanpy>=1.0.4->prophet) (0.5.1)\n",
            "Requirement already satisfied: gitdb<5,>=4.0.1 in /usr/local/lib/python3.11/dist-packages (from gitpython!=3.1.19,<4,>=3.0.7->streamlit) (4.0.12)\n",
            "Requirement already satisfied: contourpy>=1.0.1 in /usr/local/lib/python3.11/dist-packages (from matplotlib>=2.0.0->prophet) (1.3.1)\n",
            "Requirement already satisfied: cycler>=0.10 in /usr/local/lib/python3.11/dist-packages (from matplotlib>=2.0.0->prophet) (0.12.1)\n",
            "Requirement already satisfied: fonttools>=4.22.0 in /usr/local/lib/python3.11/dist-packages (from matplotlib>=2.0.0->prophet) (4.55.8)\n",
            "Requirement already satisfied: kiwisolver>=1.3.1 in /usr/local/lib/python3.11/dist-packages (from matplotlib>=2.0.0->prophet) (1.4.8)\n",
            "Requirement already satisfied: pyparsing>=2.3.1 in /usr/local/lib/python3.11/dist-packages (from matplotlib>=2.0.0->prophet) (3.2.1)\n",
            "Requirement already satisfied: six>=1.5 in /usr/local/lib/python3.11/dist-packages (from python-dateutil>=2.8.2->pandas) (1.17.0)\n",
            "Requirement already satisfied: charset-normalizer<4,>=2 in /usr/local/lib/python3.11/dist-packages (from requests<3,>=2.27->streamlit) (3.4.1)\n",
            "Requirement already satisfied: idna<4,>=2.5 in /usr/local/lib/python3.11/dist-packages (from requests<3,>=2.27->streamlit) (3.10)\n",
            "Requirement already satisfied: urllib3<3,>=1.21.1 in /usr/local/lib/python3.11/dist-packages (from requests<3,>=2.27->streamlit) (2.3.0)\n",
            "Requirement already satisfied: certifi>=2017.4.17 in /usr/local/lib/python3.11/dist-packages (from requests<3,>=2.27->streamlit) (2025.1.31)\n",
            "Requirement already satisfied: markdown-it-py>=2.2.0 in /usr/local/lib/python3.11/dist-packages (from rich<14,>=10.14.0->streamlit) (3.0.0)\n",
            "Requirement already satisfied: pygments<3.0.0,>=2.13.0 in /usr/local/lib/python3.11/dist-packages (from rich<14,>=10.14.0->streamlit) (2.18.0)\n",
            "Requirement already satisfied: smmap<6,>=3.0.1 in /usr/local/lib/python3.11/dist-packages (from gitdb<5,>=4.0.1->gitpython!=3.1.19,<4,>=3.0.7->streamlit) (5.0.2)\n",
            "Requirement already satisfied: MarkupSafe>=2.0 in /usr/local/lib/python3.11/dist-packages (from jinja2->altair<6,>=4.0->streamlit) (3.0.2)\n",
            "Requirement already satisfied: attrs>=22.2.0 in /usr/local/lib/python3.11/dist-packages (from jsonschema>=3.0->altair<6,>=4.0->streamlit) (25.1.0)\n",
            "Requirement already satisfied: jsonschema-specifications>=2023.03.6 in /usr/local/lib/python3.11/dist-packages (from jsonschema>=3.0->altair<6,>=4.0->streamlit) (2024.10.1)\n",
            "Requirement already satisfied: referencing>=0.28.4 in /usr/local/lib/python3.11/dist-packages (from jsonschema>=3.0->altair<6,>=4.0->streamlit) (0.36.2)\n",
            "Requirement already satisfied: rpds-py>=0.7.1 in /usr/local/lib/python3.11/dist-packages (from jsonschema>=3.0->altair<6,>=4.0->streamlit) (0.22.3)\n",
            "Requirement already satisfied: mdurl~=0.1 in /usr/local/lib/python3.11/dist-packages (from markdown-it-py>=2.2.0->rich<14,>=10.14.0->streamlit) (0.1.2)\n",
            "Downloading streamlit-1.42.0-py2.py3-none-any.whl (9.6 MB)\n",
            "\u001b[2K   \u001b[90m━━━━━━━━━━━━━━━━━━━━━━━━━━━━━━━━━━━━━━━━\u001b[0m \u001b[32m9.6/9.6 MB\u001b[0m \u001b[31m31.2 MB/s\u001b[0m eta \u001b[36m0:00:00\u001b[0m\n",
            "\u001b[?25hDownloading pydeck-0.9.1-py2.py3-none-any.whl (6.9 MB)\n",
            "\u001b[2K   \u001b[90m━━━━━━━━━━━━━━━━━━━━━━━━━━━━━━━━━━━━━━━━\u001b[0m \u001b[32m6.9/6.9 MB\u001b[0m \u001b[31m29.2 MB/s\u001b[0m eta \u001b[36m0:00:00\u001b[0m\n",
            "\u001b[?25hDownloading watchdog-6.0.0-py3-none-manylinux2014_x86_64.whl (79 kB)\n",
            "\u001b[2K   \u001b[90m━━━━━━━━━━━━━━━━━━━━━━━━━━━━━━━━━━━━━━━━\u001b[0m \u001b[32m79.1/79.1 kB\u001b[0m \u001b[31m2.6 MB/s\u001b[0m eta \u001b[36m0:00:00\u001b[0m\n",
            "\u001b[?25hInstalling collected packages: watchdog, pydeck, streamlit\n",
            "Successfully installed pydeck-0.9.1 streamlit-1.42.0 watchdog-6.0.0\n"
          ]
        }
      ],
      "source": [
        "#  Install Dependencies\n",
        "!pip install streamlit plotly pandas prophet"
      ]
    },
    {
      "cell_type": "markdown",
      "source": [
        "### Load & Prepare Data"
      ],
      "metadata": {
        "id": "J9T_zkaP7GwW"
      }
    },
    {
      "cell_type": "code",
      "source": [
        "import streamlit as st\n",
        "import pandas as pd\n",
        "import plotly.express as px\n",
        "import plotly.graph_objects as go"
      ],
      "metadata": {
        "id": "sRNaBLhz7EYB"
      },
      "execution_count": 25,
      "outputs": []
    },
    {
      "cell_type": "code",
      "source": [
        "# Load Data\n",
        "df = pd.read_csv(\"/content/predictions.csv\")"
      ],
      "metadata": {
        "id": "CaAKNqrr7Nnf"
      },
      "execution_count": 105,
      "outputs": []
    },
    {
      "cell_type": "code",
      "source": [
        "df.info()"
      ],
      "metadata": {
        "colab": {
          "base_uri": "https://localhost:8080/"
        },
        "id": "xiiQfnVW7hv-",
        "outputId": "ebb0f7be-b7d8-4eb4-f1fb-cd90c20bd25d"
      },
      "execution_count": 106,
      "outputs": [
        {
          "output_type": "stream",
          "name": "stdout",
          "text": [
            "<class 'pandas.core.frame.DataFrame'>\n",
            "RangeIndex: 366 entries, 0 to 365\n",
            "Data columns (total 4 columns):\n",
            " #   Column      Non-Null Count  Dtype  \n",
            "---  ------      --------------  -----  \n",
            " 0   ds          366 non-null    object \n",
            " 1   yhat        366 non-null    float64\n",
            " 2   yhat_lower  366 non-null    float64\n",
            " 3   yhat_upper  366 non-null    float64\n",
            "dtypes: float64(3), object(1)\n",
            "memory usage: 11.6+ KB\n"
          ]
        }
      ]
    },
    {
      "cell_type": "code",
      "source": [
        "# Convert date column to datetime\n",
        "df['ds'] = pd.to_datetime(df['ds'])"
      ],
      "metadata": {
        "id": "byzfqp9a7dgq"
      },
      "execution_count": 107,
      "outputs": []
    },
    {
      "cell_type": "markdown",
      "source": [
        "### Relative Strength Index (RSI)\n",
        "\n",
        "Detects Overbought/Oversold Conditions"
      ],
      "metadata": {
        "id": "swpYW_hJEf6K"
      }
    },
    {
      "cell_type": "code",
      "source": [
        "def calculate_rsi(df, window=14):\n",
        "    delta = df['yhat'].diff()\n",
        "    gain = (delta.where(delta > 0, 0)).rolling(window=window).mean()\n",
        "    loss = (-delta.where(delta < 0, 0)).rolling(window=window).mean()\n",
        "\n",
        "    rs = gain / loss\n",
        "    df['RSI'] = 100 - (100 / (1 + rs))\n",
        "    return df\n",
        "\n",
        "df = calculate_rsi(df)"
      ],
      "metadata": {
        "id": "mfVZOsgNEg_g"
      },
      "execution_count": 108,
      "outputs": []
    },
    {
      "cell_type": "markdown",
      "source": [
        "### Moving Averages (MA)"
      ],
      "metadata": {
        "id": "HFQoNAUFEpwS"
      }
    },
    {
      "cell_type": "code",
      "source": [
        "df['SMA_50'] = df['yhat'].rolling(window=50).mean()  # 50-day Simple Moving Average\n",
        "df['SMA_100'] = df['yhat'].rolling(window=100).mean()  # 100-day Simple Moving Average"
      ],
      "metadata": {
        "id": "ZmVOIk_iErQ4"
      },
      "execution_count": 109,
      "outputs": []
    },
    {
      "cell_type": "markdown",
      "source": [
        "### Bollinger Bands\n",
        "To measure price volatility:"
      ],
      "metadata": {
        "id": "SQCop3pDEwPI"
      }
    },
    {
      "cell_type": "code",
      "source": [
        "df['Middle_Band'] = df['yhat'].rolling(window=20).mean()\n",
        "df['Upper_Band'] = df['Middle_Band'] + 2 * df['yhat'].rolling(window=20).std()\n",
        "df['Lower_Band'] = df['Middle_Band'] - 2 * df['yhat'].rolling(window=20).std()"
      ],
      "metadata": {
        "id": "PSWKjPSJExb0"
      },
      "execution_count": 110,
      "outputs": []
    },
    {
      "cell_type": "markdown",
      "source": [
        "### MACD (Moving Average Convergence Divergence)\n",
        "a momentum or oscillator indicator that compares two distinct moving averages of a crypto asset to recognize"
      ],
      "metadata": {
        "id": "pmhQotZzE4cT"
      }
    },
    {
      "cell_type": "code",
      "source": [
        "df['EMA_12'] = df['yhat'].ewm(span=12, adjust=False).mean()\n",
        "df['EMA_26'] = df['yhat'].ewm(span=26, adjust=False).mean()\n",
        "df['MACD'] = df['EMA_12'] - df['EMA_26']\n",
        "df['Signal_Line'] = df['MACD'].ewm(span=9, adjust=False).mean()"
      ],
      "metadata": {
        "id": "gwDzTlefE5hq"
      },
      "execution_count": 111,
      "outputs": []
    },
    {
      "cell_type": "markdown",
      "source": [
        "### Sharpe Ratio\n",
        "To measure risk-adjusted returns:"
      ],
      "metadata": {
        "id": "Cfo4NDlyFCiy"
      }
    },
    {
      "cell_type": "code",
      "source": [
        "risk_free_rate = 0.01  # Assume a 1% risk-free rate\n",
        "# Calculate additional risk metrics\n",
        "df['Daily Return'] = df['yhat'].pct_change()\n",
        "df['Excess_Return'] = df['Daily Return'] - risk_free_rate / 252\n",
        "df['Sharpe_Ratio'] = df['Excess_Return'].mean() / df['Excess_Return'].std()"
      ],
      "metadata": {
        "id": "s1Fkj7i5FDqW"
      },
      "execution_count": 112,
      "outputs": []
    },
    {
      "cell_type": "markdown",
      "source": [
        "### Maximum Drawdown\n",
        "To analyze the worst decline from peak to trough:"
      ],
      "metadata": {
        "id": "Hv5yLGZQF5h4"
      }
    },
    {
      "cell_type": "code",
      "source": [
        "df['Cumulative_Max'] = df['yhat'].cummax()\n",
        "df['Max_Drawdown'] = (df['yhat'] - df['Cumulative_Max']) / df['Cumulative_Max']"
      ],
      "metadata": {
        "id": "gJYVMpO7F6pY"
      },
      "execution_count": 113,
      "outputs": []
    },
    {
      "cell_type": "markdown",
      "source": [
        "### Trend Analysis"
      ],
      "metadata": {
        "id": "eHPW1kPaGFUK"
      }
    },
    {
      "cell_type": "code",
      "source": [
        "df['Rolling_Volatility'] = df['Daily Return'].rolling(window=7).std()"
      ],
      "metadata": {
        "id": "RYaLTK_ZGGl7"
      },
      "execution_count": 114,
      "outputs": []
    },
    {
      "cell_type": "code",
      "source": [
        "df.info()"
      ],
      "metadata": {
        "colab": {
          "base_uri": "https://localhost:8080/"
        },
        "id": "MacRKPRp7ghC",
        "outputId": "b43d4e8f-e8ed-4c56-90b9-951d216d7ae9"
      },
      "execution_count": 115,
      "outputs": [
        {
          "output_type": "stream",
          "name": "stdout",
          "text": [
            "<class 'pandas.core.frame.DataFrame'>\n",
            "RangeIndex: 366 entries, 0 to 365\n",
            "Data columns (total 20 columns):\n",
            " #   Column              Non-Null Count  Dtype         \n",
            "---  ------              --------------  -----         \n",
            " 0   ds                  366 non-null    datetime64[ns]\n",
            " 1   yhat                366 non-null    float64       \n",
            " 2   yhat_lower          366 non-null    float64       \n",
            " 3   yhat_upper          366 non-null    float64       \n",
            " 4   RSI                 353 non-null    float64       \n",
            " 5   SMA_50              317 non-null    float64       \n",
            " 6   SMA_100             267 non-null    float64       \n",
            " 7   Middle_Band         347 non-null    float64       \n",
            " 8   Upper_Band          347 non-null    float64       \n",
            " 9   Lower_Band          347 non-null    float64       \n",
            " 10  EMA_12              366 non-null    float64       \n",
            " 11  EMA_26              366 non-null    float64       \n",
            " 12  MACD                366 non-null    float64       \n",
            " 13  Signal_Line         366 non-null    float64       \n",
            " 14  Daily Return        365 non-null    float64       \n",
            " 15  Excess_Return       365 non-null    float64       \n",
            " 16  Sharpe_Ratio        366 non-null    float64       \n",
            " 17  Cumulative_Max      366 non-null    float64       \n",
            " 18  Max_Drawdown        366 non-null    float64       \n",
            " 19  Rolling_Volatility  359 non-null    float64       \n",
            "dtypes: datetime64[ns](1), float64(19)\n",
            "memory usage: 57.3 KB\n"
          ]
        }
      ]
    },
    {
      "cell_type": "code",
      "source": [
        "df_cleaned = df.dropna()"
      ],
      "metadata": {
        "id": "xPenBRkX8QIt"
      },
      "execution_count": 116,
      "outputs": []
    },
    {
      "cell_type": "code",
      "source": [
        "print(df_cleaned.isnull().sum())"
      ],
      "metadata": {
        "colab": {
          "base_uri": "https://localhost:8080/"
        },
        "id": "fWbiqx9m8WB5",
        "outputId": "bcd9ff51-57a8-42d6-aa2c-b958e59bdf03"
      },
      "execution_count": 117,
      "outputs": [
        {
          "output_type": "stream",
          "name": "stdout",
          "text": [
            "ds                    0\n",
            "yhat                  0\n",
            "yhat_lower            0\n",
            "yhat_upper            0\n",
            "RSI                   0\n",
            "SMA_50                0\n",
            "SMA_100               0\n",
            "Middle_Band           0\n",
            "Upper_Band            0\n",
            "Lower_Band            0\n",
            "EMA_12                0\n",
            "EMA_26                0\n",
            "MACD                  0\n",
            "Signal_Line           0\n",
            "Daily Return          0\n",
            "Excess_Return         0\n",
            "Sharpe_Ratio          0\n",
            "Cumulative_Max        0\n",
            "Max_Drawdown          0\n",
            "Rolling_Volatility    0\n",
            "dtype: int64\n"
          ]
        }
      ]
    },
    {
      "cell_type": "code",
      "source": [
        "#save cleaned data\n",
        "df_cleaned.to_csv('cleaned_data.csv', index=False)"
      ],
      "metadata": {
        "id": "5P7v8B_sKQPF"
      },
      "execution_count": 118,
      "outputs": []
    },
    {
      "cell_type": "markdown",
      "source": [
        "## Build the Streamlit Dashboard"
      ],
      "metadata": {
        "id": "zXBgCNRi74hR"
      }
    },
    {
      "cell_type": "code",
      "source": [
        "%%writefile dashboard.py\n",
        "\n",
        "# Load data\n",
        "@st.cache_data\n",
        "def load_data():\n",
        "    df = pd.read_csv(\"/content/cleaned_data.csv\", parse_dates=[\"ds\"])\n",
        "    return df\n",
        "\n",
        "df = load_data()\n",
        "\n",
        "# Page title\n",
        "st.title(\"📊 Bitcoin Analysis Dashboard\")\n",
        "\n",
        "# Sidebar filters\n",
        "st.sidebar.header(\"Filter Data\")\n",
        "date_range = st.sidebar.date_input(\"Select Date Range\", [df[\"ds\"].min(), df[\"ds\"].max()])\n",
        "filtered_df = df[(df[\"ds\"] >= pd.to_datetime(date_range[0])) & (df[\"ds\"] <= pd.to_datetime(date_range[1]))]\n",
        "\n",
        "# Bitcoin Price Forecast\n",
        "st.subheader(\"📈 Bitcoin Price Forecast\")\n",
        "fig1 = go.Figure()\n",
        "fig1.add_trace(go.Scatter(x=filtered_df[\"ds\"], y=filtered_df[\"yhat\"], mode='lines', name='Predicted Price'))\n",
        "fig1.add_trace(go.Scatter(x=filtered_df[\"ds\"], y=filtered_df[\"yhat_lower\"], mode='lines', name='Lower Bound', line=dict(dash='dot')))\n",
        "fig1.add_trace(go.Scatter(x=filtered_df[\"ds\"], y=filtered_df[\"yhat_upper\"], mode='lines', name='Upper Bound', line=dict(dash='dot')))\n",
        "st.plotly_chart(fig1)\n",
        "\n",
        "# RSI Indicator\n",
        "st.subheader(\"📊 Relative Strength Index (RSI)\")\n",
        "fig2 = px.line(filtered_df, x=\"ds\", y=\"RSI\", title=\"RSI Over Time\", labels={\"RSI\": \"Relative Strength Index\"})\n",
        "st.plotly_chart(fig2)\n",
        "\n",
        "# Moving Averages\n",
        "st.subheader(\"📊 Moving Averages (SMA 50 & SMA 100)\")\n",
        "fig3 = go.Figure()\n",
        "fig3.add_trace(go.Scatter(x=filtered_df[\"ds\"], y=filtered_df[\"SMA_50\"], mode='lines', name='SMA 50'))\n",
        "fig3.add_trace(go.Scatter(x=filtered_df[\"ds\"], y=filtered_df[\"SMA_100\"], mode='lines', name='SMA 100'))\n",
        "st.plotly_chart(fig3)\n",
        "\n",
        "# MACD Analysis\n",
        "st.subheader(\"📊 MACD & Signal Line\")\n",
        "fig4 = go.Figure()\n",
        "fig4.add_trace(go.Scatter(x=filtered_df[\"ds\"], y=filtered_df[\"MACD\"], mode='lines', name='MACD'))\n",
        "fig4.add_trace(go.Scatter(x=filtered_df[\"ds\"], y=filtered_df[\"Signal_Line\"], mode='lines', name='Signal Line'))\n",
        "st.plotly_chart(fig4)\n",
        "\n",
        "# Volatility & Risk Metrics\n",
        "st.subheader(\"📉 Rolling Volatility & Sharpe Ratio\")\n",
        "col1, col2 = st.columns(2)\n",
        "with col1:\n",
        "    fig5 = px.line(filtered_df, x=\"ds\", y=\"Rolling_Volatility\", title=\"Rolling Volatility\")\n",
        "    st.plotly_chart(fig5)\n",
        "with col2:\n",
        "    fig6 = px.line(filtered_df, x=\"ds\", y=\"Sharpe_Ratio\", title=\"Sharpe Ratio\")\n",
        "    st.plotly_chart(fig6)\n",
        "\n",
        "# Conclusion\n",
        "st.markdown(\"### Key Insights\")\n",
        "st.write(\"- The predicted Bitcoin price shows a general trend along with confidence intervals.\")\n",
        "st.write(\"- RSI fluctuations indicate overbought/oversold conditions.\")\n",
        "st.write(\"- SMA 50 vs. SMA 100 shows short-term vs. long-term momentum.\")\n",
        "st.write(\"- MACD & Signal Line crossover helps identify trend reversals.\")\n",
        "st.write(\"- Rolling volatility & Sharpe ratio provide insights into risk and returns.\")"
      ],
      "metadata": {
        "colab": {
          "base_uri": "https://localhost:8080/"
        },
        "id": "CZLKP0po_RPB",
        "outputId": "ef703c04-8b20-433d-d0a4-cfe6e80cb1cc"
      },
      "execution_count": 126,
      "outputs": [
        {
          "output_type": "stream",
          "name": "stdout",
          "text": [
            "Overwriting dashboard.py\n"
          ]
        }
      ]
    }
  ]
}