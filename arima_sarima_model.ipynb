{
  "nbformat": 4,
  "nbformat_minor": 0,
  "metadata": {
    "colab": {
      "provenance": [],
      "authorship_tag": "ABX9TyN3R7I9hSy+uwbHs+HtphVH",
      "include_colab_link": true
    },
    "kernelspec": {
      "name": "python3",
      "display_name": "Python 3"
    },
    "language_info": {
      "name": "python"
    }
  },
  "cells": [
    {
      "cell_type": "markdown",
      "metadata": {
        "id": "view-in-github",
        "colab_type": "text"
      },
      "source": [
        "<a href=\"https://colab.research.google.com/github/bonareri/Bitcoin-Prediction-Analysis/blob/main/arima_sarima_model.ipynb\" target=\"_parent\"><img src=\"https://colab.research.google.com/assets/colab-badge.svg\" alt=\"Open In Colab\"/></a>"
      ]
    },
    {
      "cell_type": "markdown",
      "source": [
        "## ARIMA"
      ],
      "metadata": {
        "id": "3uxnOH8ZjerE"
      }
    },
    {
      "cell_type": "markdown",
      "source": [
        "ARIMA (AutoRegressive Integrated Moving Average) is a model used to analyze and forecast time series data. It has three main components:\n",
        "\n",
        "1. AR (AutoRegressive): Uses past values to predict the future.\n",
        "2. I (Integrated): The differencing of raw observations to make the time series stationary.\n",
        "3. MA (Moving Average): Uses past errors to predict the future. Best for stationary series\n",
        "\n",
        "Key Parameters of ARIMA\n",
        "\n",
        "- p: Number of past values (lags).\n",
        "- d: Degree of differencing (to make data stationary).\n",
        "- q: Moving average window size."
      ],
      "metadata": {
        "id": "t9ik3nE-jg94"
      }
    },
    {
      "cell_type": "markdown",
      "source": [
        "## 1. Import Preprocessed Data"
      ],
      "metadata": {
        "id": "rPNRxecVx2FM"
      }
    },
    {
      "cell_type": "code",
      "source": [
        "!pip install pmdarima"
      ],
      "metadata": {
        "id": "0OXGIukdJi4H",
        "outputId": "6a0bba8a-1d08-4e27-8469-2d11379ec8f7",
        "colab": {
          "base_uri": "https://localhost:8080/"
        }
      },
      "execution_count": 18,
      "outputs": [
        {
          "output_type": "stream",
          "name": "stdout",
          "text": [
            "Collecting pmdarima\n",
            "  Downloading pmdarima-2.0.4-cp311-cp311-manylinux_2_17_x86_64.manylinux2014_x86_64.manylinux_2_28_x86_64.whl.metadata (7.8 kB)\n",
            "Requirement already satisfied: joblib>=0.11 in /usr/local/lib/python3.11/dist-packages (from pmdarima) (1.4.2)\n",
            "Requirement already satisfied: Cython!=0.29.18,!=0.29.31,>=0.29 in /usr/local/lib/python3.11/dist-packages (from pmdarima) (3.0.11)\n",
            "Requirement already satisfied: numpy>=1.21.2 in /usr/local/lib/python3.11/dist-packages (from pmdarima) (1.26.4)\n",
            "Requirement already satisfied: pandas>=0.19 in /usr/local/lib/python3.11/dist-packages (from pmdarima) (2.2.2)\n",
            "Requirement already satisfied: scikit-learn>=0.22 in /usr/local/lib/python3.11/dist-packages (from pmdarima) (1.6.1)\n",
            "Requirement already satisfied: scipy>=1.3.2 in /usr/local/lib/python3.11/dist-packages (from pmdarima) (1.13.1)\n",
            "Requirement already satisfied: statsmodels>=0.13.2 in /usr/local/lib/python3.11/dist-packages (from pmdarima) (0.14.4)\n",
            "Requirement already satisfied: urllib3 in /usr/local/lib/python3.11/dist-packages (from pmdarima) (2.3.0)\n",
            "Requirement already satisfied: setuptools!=50.0.0,>=38.6.0 in /usr/local/lib/python3.11/dist-packages (from pmdarima) (75.1.0)\n",
            "Requirement already satisfied: packaging>=17.1 in /usr/local/lib/python3.11/dist-packages (from pmdarima) (24.2)\n",
            "Requirement already satisfied: python-dateutil>=2.8.2 in /usr/local/lib/python3.11/dist-packages (from pandas>=0.19->pmdarima) (2.8.2)\n",
            "Requirement already satisfied: pytz>=2020.1 in /usr/local/lib/python3.11/dist-packages (from pandas>=0.19->pmdarima) (2024.2)\n",
            "Requirement already satisfied: tzdata>=2022.7 in /usr/local/lib/python3.11/dist-packages (from pandas>=0.19->pmdarima) (2025.1)\n",
            "Requirement already satisfied: threadpoolctl>=3.1.0 in /usr/local/lib/python3.11/dist-packages (from scikit-learn>=0.22->pmdarima) (3.5.0)\n",
            "Requirement already satisfied: patsy>=0.5.6 in /usr/local/lib/python3.11/dist-packages (from statsmodels>=0.13.2->pmdarima) (1.0.1)\n",
            "Requirement already satisfied: six>=1.5 in /usr/local/lib/python3.11/dist-packages (from python-dateutil>=2.8.2->pandas>=0.19->pmdarima) (1.17.0)\n",
            "Downloading pmdarima-2.0.4-cp311-cp311-manylinux_2_17_x86_64.manylinux2014_x86_64.manylinux_2_28_x86_64.whl (2.2 MB)\n",
            "\u001b[2K   \u001b[90m━━━━━━━━━━━━━━━━━━━━━━━━━━━━━━━━━━━━━━━━\u001b[0m \u001b[32m2.2/2.2 MB\u001b[0m \u001b[31m29.1 MB/s\u001b[0m eta \u001b[36m0:00:00\u001b[0m\n",
            "\u001b[?25hInstalling collected packages: pmdarima\n",
            "Successfully installed pmdarima-2.0.4\n"
          ]
        }
      ]
    },
    {
      "cell_type": "code",
      "source": [
        "# Import necessary libraries\n",
        "import pandas as pd\n",
        "import matplotlib.pyplot as plt\n",
        "import seaborn as sns\n",
        "from statsmodels.tsa.arima.model import ARIMA\n",
        "from statsmodels.tsa.statespace.sarimax import SARIMAX\n",
        "import numpy as np\n",
        "from sklearn.metrics import mean_absolute_error, mean_squared_error"
      ],
      "metadata": {
        "id": "9zMdLeRXyI-D"
      },
      "execution_count": 9,
      "outputs": []
    },
    {
      "cell_type": "code",
      "execution_count": 2,
      "metadata": {
        "colab": {
          "base_uri": "https://localhost:8080/",
          "height": 237
        },
        "id": "DGibElFwE7GQ",
        "outputId": "02c799ea-67e0-4a30-9cb0-1a05ef1a9b35"
      },
      "outputs": [
        {
          "output_type": "execute_result",
          "data": {
            "text/plain": [
              "                 Close        High         Low        Open    Volume  \\\n",
              "Date                                                                   \n",
              "2014-09-18  424.440002  456.859985  413.104004  456.859985  34483200   \n",
              "2014-09-19  394.795990  427.834991  384.532013  424.102997  37919700   \n",
              "2014-09-20  408.903992  423.295990  389.882996  394.673004  36863600   \n",
              "2014-09-21  398.821014  412.425995  393.181000  408.084991  26580100   \n",
              "2014-09-22  402.152008  406.915985  397.130005  399.100006  24127600   \n",
              "\n",
              "            Close_diff  Close_scaled  \n",
              "Date                                  \n",
              "2014-09-18  -32.894012      0.002325  \n",
              "2014-09-19  -29.644012      0.002045  \n",
              "2014-09-20   14.108002      0.002178  \n",
              "2014-09-21  -10.082977      0.002083  \n",
              "2014-09-22    3.330994      0.002114  "
            ],
            "text/html": [
              "\n",
              "  <div id=\"df-cf50a80b-ad3e-410f-83c1-25522214c090\" class=\"colab-df-container\">\n",
              "    <div>\n",
              "<style scoped>\n",
              "    .dataframe tbody tr th:only-of-type {\n",
              "        vertical-align: middle;\n",
              "    }\n",
              "\n",
              "    .dataframe tbody tr th {\n",
              "        vertical-align: top;\n",
              "    }\n",
              "\n",
              "    .dataframe thead th {\n",
              "        text-align: right;\n",
              "    }\n",
              "</style>\n",
              "<table border=\"1\" class=\"dataframe\">\n",
              "  <thead>\n",
              "    <tr style=\"text-align: right;\">\n",
              "      <th></th>\n",
              "      <th>Close</th>\n",
              "      <th>High</th>\n",
              "      <th>Low</th>\n",
              "      <th>Open</th>\n",
              "      <th>Volume</th>\n",
              "      <th>Close_diff</th>\n",
              "      <th>Close_scaled</th>\n",
              "    </tr>\n",
              "    <tr>\n",
              "      <th>Date</th>\n",
              "      <th></th>\n",
              "      <th></th>\n",
              "      <th></th>\n",
              "      <th></th>\n",
              "      <th></th>\n",
              "      <th></th>\n",
              "      <th></th>\n",
              "    </tr>\n",
              "  </thead>\n",
              "  <tbody>\n",
              "    <tr>\n",
              "      <th>2014-09-18</th>\n",
              "      <td>424.440002</td>\n",
              "      <td>456.859985</td>\n",
              "      <td>413.104004</td>\n",
              "      <td>456.859985</td>\n",
              "      <td>34483200</td>\n",
              "      <td>-32.894012</td>\n",
              "      <td>0.002325</td>\n",
              "    </tr>\n",
              "    <tr>\n",
              "      <th>2014-09-19</th>\n",
              "      <td>394.795990</td>\n",
              "      <td>427.834991</td>\n",
              "      <td>384.532013</td>\n",
              "      <td>424.102997</td>\n",
              "      <td>37919700</td>\n",
              "      <td>-29.644012</td>\n",
              "      <td>0.002045</td>\n",
              "    </tr>\n",
              "    <tr>\n",
              "      <th>2014-09-20</th>\n",
              "      <td>408.903992</td>\n",
              "      <td>423.295990</td>\n",
              "      <td>389.882996</td>\n",
              "      <td>394.673004</td>\n",
              "      <td>36863600</td>\n",
              "      <td>14.108002</td>\n",
              "      <td>0.002178</td>\n",
              "    </tr>\n",
              "    <tr>\n",
              "      <th>2014-09-21</th>\n",
              "      <td>398.821014</td>\n",
              "      <td>412.425995</td>\n",
              "      <td>393.181000</td>\n",
              "      <td>408.084991</td>\n",
              "      <td>26580100</td>\n",
              "      <td>-10.082977</td>\n",
              "      <td>0.002083</td>\n",
              "    </tr>\n",
              "    <tr>\n",
              "      <th>2014-09-22</th>\n",
              "      <td>402.152008</td>\n",
              "      <td>406.915985</td>\n",
              "      <td>397.130005</td>\n",
              "      <td>399.100006</td>\n",
              "      <td>24127600</td>\n",
              "      <td>3.330994</td>\n",
              "      <td>0.002114</td>\n",
              "    </tr>\n",
              "  </tbody>\n",
              "</table>\n",
              "</div>\n",
              "    <div class=\"colab-df-buttons\">\n",
              "\n",
              "  <div class=\"colab-df-container\">\n",
              "    <button class=\"colab-df-convert\" onclick=\"convertToInteractive('df-cf50a80b-ad3e-410f-83c1-25522214c090')\"\n",
              "            title=\"Convert this dataframe to an interactive table.\"\n",
              "            style=\"display:none;\">\n",
              "\n",
              "  <svg xmlns=\"http://www.w3.org/2000/svg\" height=\"24px\" viewBox=\"0 -960 960 960\">\n",
              "    <path d=\"M120-120v-720h720v720H120Zm60-500h600v-160H180v160Zm220 220h160v-160H400v160Zm0 220h160v-160H400v160ZM180-400h160v-160H180v160Zm440 0h160v-160H620v160ZM180-180h160v-160H180v160Zm440 0h160v-160H620v160Z\"/>\n",
              "  </svg>\n",
              "    </button>\n",
              "\n",
              "  <style>\n",
              "    .colab-df-container {\n",
              "      display:flex;\n",
              "      gap: 12px;\n",
              "    }\n",
              "\n",
              "    .colab-df-convert {\n",
              "      background-color: #E8F0FE;\n",
              "      border: none;\n",
              "      border-radius: 50%;\n",
              "      cursor: pointer;\n",
              "      display: none;\n",
              "      fill: #1967D2;\n",
              "      height: 32px;\n",
              "      padding: 0 0 0 0;\n",
              "      width: 32px;\n",
              "    }\n",
              "\n",
              "    .colab-df-convert:hover {\n",
              "      background-color: #E2EBFA;\n",
              "      box-shadow: 0px 1px 2px rgba(60, 64, 67, 0.3), 0px 1px 3px 1px rgba(60, 64, 67, 0.15);\n",
              "      fill: #174EA6;\n",
              "    }\n",
              "\n",
              "    .colab-df-buttons div {\n",
              "      margin-bottom: 4px;\n",
              "    }\n",
              "\n",
              "    [theme=dark] .colab-df-convert {\n",
              "      background-color: #3B4455;\n",
              "      fill: #D2E3FC;\n",
              "    }\n",
              "\n",
              "    [theme=dark] .colab-df-convert:hover {\n",
              "      background-color: #434B5C;\n",
              "      box-shadow: 0px 1px 3px 1px rgba(0, 0, 0, 0.15);\n",
              "      filter: drop-shadow(0px 1px 2px rgba(0, 0, 0, 0.3));\n",
              "      fill: #FFFFFF;\n",
              "    }\n",
              "  </style>\n",
              "\n",
              "    <script>\n",
              "      const buttonEl =\n",
              "        document.querySelector('#df-cf50a80b-ad3e-410f-83c1-25522214c090 button.colab-df-convert');\n",
              "      buttonEl.style.display =\n",
              "        google.colab.kernel.accessAllowed ? 'block' : 'none';\n",
              "\n",
              "      async function convertToInteractive(key) {\n",
              "        const element = document.querySelector('#df-cf50a80b-ad3e-410f-83c1-25522214c090');\n",
              "        const dataTable =\n",
              "          await google.colab.kernel.invokeFunction('convertToInteractive',\n",
              "                                                    [key], {});\n",
              "        if (!dataTable) return;\n",
              "\n",
              "        const docLinkHtml = 'Like what you see? Visit the ' +\n",
              "          '<a target=\"_blank\" href=https://colab.research.google.com/notebooks/data_table.ipynb>data table notebook</a>'\n",
              "          + ' to learn more about interactive tables.';\n",
              "        element.innerHTML = '';\n",
              "        dataTable['output_type'] = 'display_data';\n",
              "        await google.colab.output.renderOutput(dataTable, element);\n",
              "        const docLink = document.createElement('div');\n",
              "        docLink.innerHTML = docLinkHtml;\n",
              "        element.appendChild(docLink);\n",
              "      }\n",
              "    </script>\n",
              "  </div>\n",
              "\n",
              "\n",
              "<div id=\"df-c94b2fe7-a53c-4e18-bf10-5f7dca5918ee\">\n",
              "  <button class=\"colab-df-quickchart\" onclick=\"quickchart('df-c94b2fe7-a53c-4e18-bf10-5f7dca5918ee')\"\n",
              "            title=\"Suggest charts\"\n",
              "            style=\"display:none;\">\n",
              "\n",
              "<svg xmlns=\"http://www.w3.org/2000/svg\" height=\"24px\"viewBox=\"0 0 24 24\"\n",
              "     width=\"24px\">\n",
              "    <g>\n",
              "        <path d=\"M19 3H5c-1.1 0-2 .9-2 2v14c0 1.1.9 2 2 2h14c1.1 0 2-.9 2-2V5c0-1.1-.9-2-2-2zM9 17H7v-7h2v7zm4 0h-2V7h2v10zm4 0h-2v-4h2v4z\"/>\n",
              "    </g>\n",
              "</svg>\n",
              "  </button>\n",
              "\n",
              "<style>\n",
              "  .colab-df-quickchart {\n",
              "      --bg-color: #E8F0FE;\n",
              "      --fill-color: #1967D2;\n",
              "      --hover-bg-color: #E2EBFA;\n",
              "      --hover-fill-color: #174EA6;\n",
              "      --disabled-fill-color: #AAA;\n",
              "      --disabled-bg-color: #DDD;\n",
              "  }\n",
              "\n",
              "  [theme=dark] .colab-df-quickchart {\n",
              "      --bg-color: #3B4455;\n",
              "      --fill-color: #D2E3FC;\n",
              "      --hover-bg-color: #434B5C;\n",
              "      --hover-fill-color: #FFFFFF;\n",
              "      --disabled-bg-color: #3B4455;\n",
              "      --disabled-fill-color: #666;\n",
              "  }\n",
              "\n",
              "  .colab-df-quickchart {\n",
              "    background-color: var(--bg-color);\n",
              "    border: none;\n",
              "    border-radius: 50%;\n",
              "    cursor: pointer;\n",
              "    display: none;\n",
              "    fill: var(--fill-color);\n",
              "    height: 32px;\n",
              "    padding: 0;\n",
              "    width: 32px;\n",
              "  }\n",
              "\n",
              "  .colab-df-quickchart:hover {\n",
              "    background-color: var(--hover-bg-color);\n",
              "    box-shadow: 0 1px 2px rgba(60, 64, 67, 0.3), 0 1px 3px 1px rgba(60, 64, 67, 0.15);\n",
              "    fill: var(--button-hover-fill-color);\n",
              "  }\n",
              "\n",
              "  .colab-df-quickchart-complete:disabled,\n",
              "  .colab-df-quickchart-complete:disabled:hover {\n",
              "    background-color: var(--disabled-bg-color);\n",
              "    fill: var(--disabled-fill-color);\n",
              "    box-shadow: none;\n",
              "  }\n",
              "\n",
              "  .colab-df-spinner {\n",
              "    border: 2px solid var(--fill-color);\n",
              "    border-color: transparent;\n",
              "    border-bottom-color: var(--fill-color);\n",
              "    animation:\n",
              "      spin 1s steps(1) infinite;\n",
              "  }\n",
              "\n",
              "  @keyframes spin {\n",
              "    0% {\n",
              "      border-color: transparent;\n",
              "      border-bottom-color: var(--fill-color);\n",
              "      border-left-color: var(--fill-color);\n",
              "    }\n",
              "    20% {\n",
              "      border-color: transparent;\n",
              "      border-left-color: var(--fill-color);\n",
              "      border-top-color: var(--fill-color);\n",
              "    }\n",
              "    30% {\n",
              "      border-color: transparent;\n",
              "      border-left-color: var(--fill-color);\n",
              "      border-top-color: var(--fill-color);\n",
              "      border-right-color: var(--fill-color);\n",
              "    }\n",
              "    40% {\n",
              "      border-color: transparent;\n",
              "      border-right-color: var(--fill-color);\n",
              "      border-top-color: var(--fill-color);\n",
              "    }\n",
              "    60% {\n",
              "      border-color: transparent;\n",
              "      border-right-color: var(--fill-color);\n",
              "    }\n",
              "    80% {\n",
              "      border-color: transparent;\n",
              "      border-right-color: var(--fill-color);\n",
              "      border-bottom-color: var(--fill-color);\n",
              "    }\n",
              "    90% {\n",
              "      border-color: transparent;\n",
              "      border-bottom-color: var(--fill-color);\n",
              "    }\n",
              "  }\n",
              "</style>\n",
              "\n",
              "  <script>\n",
              "    async function quickchart(key) {\n",
              "      const quickchartButtonEl =\n",
              "        document.querySelector('#' + key + ' button');\n",
              "      quickchartButtonEl.disabled = true;  // To prevent multiple clicks.\n",
              "      quickchartButtonEl.classList.add('colab-df-spinner');\n",
              "      try {\n",
              "        const charts = await google.colab.kernel.invokeFunction(\n",
              "            'suggestCharts', [key], {});\n",
              "      } catch (error) {\n",
              "        console.error('Error during call to suggestCharts:', error);\n",
              "      }\n",
              "      quickchartButtonEl.classList.remove('colab-df-spinner');\n",
              "      quickchartButtonEl.classList.add('colab-df-quickchart-complete');\n",
              "    }\n",
              "    (() => {\n",
              "      let quickchartButtonEl =\n",
              "        document.querySelector('#df-c94b2fe7-a53c-4e18-bf10-5f7dca5918ee button');\n",
              "      quickchartButtonEl.style.display =\n",
              "        google.colab.kernel.accessAllowed ? 'block' : 'none';\n",
              "    })();\n",
              "  </script>\n",
              "</div>\n",
              "\n",
              "    </div>\n",
              "  </div>\n"
            ],
            "application/vnd.google.colaboratory.intrinsic+json": {
              "type": "dataframe",
              "variable_name": "df",
              "summary": "{\n  \"name\": \"df\",\n  \"rows\": 3790,\n  \"fields\": [\n    {\n      \"column\": \"Date\",\n      \"properties\": {\n        \"dtype\": \"date\",\n        \"min\": \"2014-09-18 00:00:00\",\n        \"max\": \"2025-02-01 00:00:00\",\n        \"num_unique_values\": 3790,\n        \"samples\": [\n          \"2019-01-15 00:00:00\",\n          \"2020-11-22 00:00:00\",\n          \"2015-06-08 00:00:00\"\n        ],\n        \"semantic_type\": \"\",\n        \"description\": \"\"\n      }\n    },\n    {\n      \"column\": \"Close\",\n      \"properties\": {\n        \"dtype\": \"number\",\n        \"std\": 23234.266649414796,\n        \"min\": 178.10299682617188,\n        \"max\": 106146.265625,\n        \"num_unique_values\": 3787,\n        \"samples\": [\n          3657.83935546875,\n          19107.46484375,\n          229.04800415039065\n        ],\n        \"semantic_type\": \"\",\n        \"description\": \"\"\n      }\n    },\n    {\n      \"column\": \"High\",\n      \"properties\": {\n        \"dtype\": \"number\",\n        \"std\": 23706.87735060085,\n        \"min\": 211.7310028076172,\n        \"max\": 109114.8828125,\n        \"num_unique_values\": 3787,\n        \"samples\": [\n          3682.52001953125,\n          19348.271484375,\n          229.4640045166016\n        ],\n        \"semantic_type\": \"\",\n        \"description\": \"\"\n      }\n    },\n    {\n      \"column\": \"Low\",\n      \"properties\": {\n        \"dtype\": \"number\",\n        \"std\": 22687.228827354684,\n        \"min\": 171.50999450683594,\n        \"max\": 105291.734375,\n        \"num_unique_values\": 3788,\n        \"samples\": [\n          3624.67333984375,\n          17671.384765625,\n          222.8390045166016\n        ],\n        \"semantic_type\": \"\",\n        \"description\": \"\"\n      }\n    },\n    {\n      \"column\": \"Open\",\n      \"properties\": {\n        \"dtype\": \"number\",\n        \"std\": 23200.422655886865,\n        \"min\": 176.89700317382812,\n        \"max\": 106147.296875,\n        \"num_unique_values\": 3786,\n        \"samples\": [\n          3652.3779296875,\n          19104.41015625,\n          222.8789978027344\n        ],\n        \"semantic_type\": \"\",\n        \"description\": \"\"\n      }\n    },\n    {\n      \"column\": \"Volume\",\n      \"properties\": {\n        \"dtype\": \"number\",\n        \"std\": 20634364334,\n        \"min\": 5914570,\n        \"max\": 350967941479,\n        \"num_unique_values\": 3790,\n        \"samples\": [\n          5537192302,\n          41280434226,\n          23378400\n        ],\n        \"semantic_type\": \"\",\n        \"description\": \"\"\n      }\n    },\n    {\n      \"column\": \"Close_diff\",\n      \"properties\": {\n        \"dtype\": \"number\",\n        \"std\": 960.5933656712358,\n        \"min\": -7554.0390625,\n        \"max\": 8227.296875,\n        \"num_unique_values\": 3783,\n        \"samples\": [\n          70.72900390625,\n          62.362060546875,\n          1548.0546875\n        ],\n        \"semantic_type\": \"\",\n        \"description\": \"\"\n      }\n    },\n    {\n      \"column\": \"Close_scaled\",\n      \"properties\": {\n        \"dtype\": \"number\",\n        \"std\": 0.2192570492227965,\n        \"min\": 0.0,\n        \"max\": 1.0,\n        \"num_unique_values\": 3787,\n        \"samples\": [\n          0.0328375643432871,\n          0.178632538089238,\n          0.0004807576734436\n        ],\n        \"semantic_type\": \"\",\n        \"description\": \"\"\n      }\n    }\n  ]\n}"
            }
          },
          "metadata": {},
          "execution_count": 2
        }
      ],
      "source": [
        "# Load preprocessed data\n",
        "df = pd.read_csv('preprocessed_bitcoin_data.csv', index_col='Date', parse_dates=True)\n",
        "\n",
        "# Display the first few rows of the data\n",
        "df.head()"
      ]
    },
    {
      "cell_type": "markdown",
      "source": [
        "## ARIMA Model"
      ],
      "metadata": {
        "id": "MSzu_PVe3YyO"
      }
    },
    {
      "cell_type": "code",
      "source": [
        "df.index = pd.to_datetime(df.index)  # Ensure it's a datetime index\n",
        "df = df.asfreq('D')  # Set daily frequency (adjust if needed)"
      ],
      "metadata": {
        "id": "iGg7F1zAce_5"
      },
      "execution_count": 4,
      "outputs": []
    },
    {
      "cell_type": "code",
      "source": [
        "# Define ARIMA model with chosen (p, d, q)\n",
        "model = ARIMA(df['Close'], order=(1, 0, 1))\n",
        "arima_result = model.fit()\n",
        "\n",
        "# Print model summary\n",
        "print(arima_result.summary())\n"
      ],
      "metadata": {
        "id": "cuXfdq88x9Uz",
        "outputId": "ccb3a7a7-43ba-4210-b20f-9a9717e96308",
        "colab": {
          "base_uri": "https://localhost:8080/"
        }
      },
      "execution_count": 6,
      "outputs": [
        {
          "output_type": "stream",
          "name": "stderr",
          "text": [
            "/usr/local/lib/python3.11/dist-packages/statsmodels/tsa/statespace/sarimax.py:966: UserWarning: Non-stationary starting autoregressive parameters found. Using zeros as starting parameters.\n",
            "  warn('Non-stationary starting autoregressive parameters'\n"
          ]
        },
        {
          "output_type": "stream",
          "name": "stdout",
          "text": [
            "                               SARIMAX Results                                \n",
            "==============================================================================\n",
            "Dep. Variable:                  Close   No. Observations:                 3790\n",
            "Model:                 ARIMA(1, 0, 1)   Log Likelihood              -31408.819\n",
            "Date:                Sat, 01 Feb 2025   AIC                          62825.638\n",
            "Time:                        15:06:17   BIC                          62850.598\n",
            "Sample:                    09-18-2014   HQIC                         62834.510\n",
            "                         - 02-01-2025                                         \n",
            "Covariance Type:                  opg                                         \n",
            "==============================================================================\n",
            "                 coef    std err          z      P>|z|      [0.025      0.975]\n",
            "------------------------------------------------------------------------------\n",
            "const       2.027e+04     16.231   1248.836      0.000    2.02e+04    2.03e+04\n",
            "ar.L1          0.9998      0.000   3453.958      0.000       0.999       1.000\n",
            "ma.L1         -0.0343      0.009     -3.927      0.000      -0.051      -0.017\n",
            "sigma2      9.213e+05   7905.067    116.540      0.000    9.06e+05    9.37e+05\n",
            "===================================================================================\n",
            "Ljung-Box (L1) (Q):                   0.00   Jarque-Bera (JB):             24453.73\n",
            "Prob(Q):                              0.94   Prob(JB):                         0.00\n",
            "Heteroskedasticity (H):              25.08   Skew:                             0.33\n",
            "Prob(H) (two-sided):                  0.00   Kurtosis:                        15.43\n",
            "===================================================================================\n",
            "\n",
            "Warnings:\n",
            "[1] Covariance matrix calculated using the outer product of gradients (complex-step).\n",
            "[2] Covariance matrix is singular or near-singular, with condition number 2.04e+18. Standard errors may be unstable.\n"
          ]
        }
      ]
    },
    {
      "cell_type": "code",
      "source": [
        "# Forecast for the next 10 periods\n",
        "forecast = arima_result.forecast(steps=10)\n",
        "print(forecast)"
      ],
      "metadata": {
        "id": "Uo9ubEIREbIZ",
        "outputId": "6d22bb2d-1534-409b-ad21-2c22e26893f5",
        "colab": {
          "base_uri": "https://localhost:8080/"
        }
      },
      "execution_count": 13,
      "outputs": [
        {
          "output_type": "stream",
          "name": "stdout",
          "text": [
            "2025-02-02    102028.334767\n",
            "2025-02-03    102012.670839\n",
            "2025-02-04    101997.009913\n",
            "2025-02-05    101981.351986\n",
            "2025-02-06    101965.697059\n",
            "2025-02-07    101950.045132\n",
            "2025-02-08    101934.396204\n",
            "2025-02-09    101918.750273\n",
            "2025-02-10    101903.107340\n",
            "2025-02-11    101887.467405\n",
            "Freq: D, Name: predicted_mean, dtype: float64\n"
          ]
        }
      ]
    },
    {
      "cell_type": "code",
      "source": [
        "# Forecast future values\n",
        "n_periods = 30  # Adjust based on how many days ahead you want to predict\n",
        "forecast = arima_result.forecast(steps=n_periods)\n",
        "\n",
        "# Plot actual vs predicted values\n",
        "plt.figure(figsize=(10, 5))\n",
        "plt.plot(df.index, df['Close'], label='Actual Prices')\n",
        "plt.plot(pd.date_range(df.index[-1], periods=n_periods+1, freq='D')[1:], forecast, label='Forecasted Prices', linestyle='dashed')\n",
        "plt.legend()\n",
        "plt.title('ARIMA Forecast for Bitcoin Prices')\n",
        "plt.show()"
      ],
      "metadata": {
        "id": "stkt20MZ3gHV",
        "outputId": "905518aa-01d0-4ed6-9976-5b8a8552ae82",
        "colab": {
          "base_uri": "https://localhost:8080/",
          "height": 468
        }
      },
      "execution_count": 7,
      "outputs": [
        {
          "output_type": "display_data",
          "data": {
            "text/plain": [
              "<Figure size 1000x500 with 1 Axes>"
            ],
            "image/png": "[encoded data removed]"
          },
          "metadata": {}
        }
      ]
    },
    {
      "cell_type": "markdown",
      "source": [
        "## SARIMA\n",
        "\n",
        "**SARIMA=ARIMA Model+Seasonal AR Terms+Seasonal MA Terms+Seasonal Differencing **\n",
        "\n",
        "Extends ARIMA by adding seasonal components:\n",
        "Seasonal AR and MA terms capture patterns that repeat over a fixed period (e.g., monthly, yearly).\n",
        "\n",
        "Seasonal differencing removes repeating seasonal trends."
      ],
      "metadata": {
        "id": "6amgPvqiGMQv"
      }
    },
    {
      "cell_type": "code",
      "source": [
        "# Fit SARIMA model (example parameters: p=1, d=1, q=1, P=1, D=1, Q=1, s=12)\n",
        "sarima_model = SARIMAX(df['Close'], order=(1, 1, 1), seasonal_order=(1, 1, 1, 12))\n",
        "sarima_result = sarima_model.fit()\n",
        "\n",
        "# Model summary\n",
        "print(sarima_result.summary())"
      ],
      "metadata": {
        "id": "PZXuK6YbDNlC",
        "outputId": "77c3c024-8067-48ae-8746-415d545509b0",
        "colab": {
          "base_uri": "https://localhost:8080/"
        }
      },
      "execution_count": 10,
      "outputs": [
        {
          "output_type": "stream",
          "name": "stdout",
          "text": [
            "                                     SARIMAX Results                                      \n",
            "==========================================================================================\n",
            "Dep. Variable:                              Close   No. Observations:                 3790\n",
            "Model:             SARIMAX(1, 1, 1)x(1, 1, 1, 12)   Log Likelihood              -31332.986\n",
            "Date:                            Sat, 01 Feb 2025   AIC                          62675.972\n",
            "Time:                                    15:08:41   BIC                          62707.155\n",
            "Sample:                                09-18-2014   HQIC                         62687.058\n",
            "                                     - 02-01-2025                                         \n",
            "Covariance Type:                              opg                                         \n",
            "==============================================================================\n",
            "                 coef    std err          z      P>|z|      [0.025      0.975]\n",
            "------------------------------------------------------------------------------\n",
            "ar.L1         -1.0000      5.704     -0.175      0.861     -12.180      10.180\n",
            "ma.L1          1.0000      5.465      0.183      0.855      -9.711      11.711\n",
            "ar.S.L12      -0.0012      0.008     -0.151      0.880      -0.017       0.015\n",
            "ma.S.L12      -1.0000      0.241     -4.142      0.000      -1.473      -0.527\n",
            "sigma2      9.008e+05      0.000   5.07e+09      0.000    9.01e+05    9.01e+05\n",
            "===================================================================================\n",
            "Ljung-Box (L1) (Q):                   5.12   Jarque-Bera (JB):             23741.32\n",
            "Prob(Q):                              0.02   Prob(JB):                         0.00\n",
            "Heteroskedasticity (H):              24.61   Skew:                             0.27\n",
            "Prob(H) (two-sided):                  0.00   Kurtosis:                        15.27\n",
            "===================================================================================\n",
            "\n",
            "Warnings:\n",
            "[1] Covariance matrix calculated using the outer product of gradients (complex-step).\n",
            "[2] Covariance matrix is singular or near-singular, with condition number 1.58e+25. Standard errors may be unstable.\n"
          ]
        }
      ]
    },
    {
      "cell_type": "markdown",
      "source": [
        "### Forecasting:"
      ],
      "metadata": {
        "id": "DkAI_s4vDqhh"
      }
    },
    {
      "cell_type": "code",
      "source": [
        "# Forecast for the next 10 periods\n",
        "forecast = sarima_result.forecast(steps=10)\n",
        "print(forecast)"
      ],
      "metadata": {
        "id": "YCD5M2CFDrzW",
        "outputId": "2f03606b-f26a-4b50-d699-cefdea92b4bb",
        "colab": {
          "base_uri": "https://localhost:8080/"
        }
      },
      "execution_count": 11,
      "outputs": [
        {
          "output_type": "stream",
          "name": "stdout",
          "text": [
            "2025-02-02    102075.477818\n",
            "2025-02-03    102145.260420\n",
            "2025-02-04    102203.102805\n",
            "2025-02-05    102216.322054\n",
            "2025-02-06    102159.178072\n",
            "2025-02-07    102127.891968\n",
            "2025-02-08    102215.734558\n",
            "2025-02-09    102204.612323\n",
            "2025-02-10    102264.429721\n",
            "2025-02-11    102298.925063\n",
            "Freq: D, Name: predicted_mean, dtype: float64\n"
          ]
        }
      ]
    },
    {
      "cell_type": "markdown",
      "source": [
        "### Plot Forecasts"
      ],
      "metadata": {
        "id": "Xze1oNnyDzLn"
      }
    },
    {
      "cell_type": "code",
      "source": [
        "# Define forecast steps (number of periods you want to forecast)\n",
        "forecast_steps = 30\n",
        "\n",
        "# Generate the forecast\n",
        "forecast = sarima_result.forecast(steps=forecast_steps)\n",
        "\n",
        "# Create a new index for the forecast (adjust frequency based on your data's frequency)\n",
        "forecast_index = pd.date_range(df.index[-1], periods=forecast_steps + 1, freq=df.index.freq)[1:]\n",
        "\n",
        "# Plot actual vs forecasted values\n",
        "plt.figure(figsize=(10, 6))\n",
        "plt.plot(df.index, df['Close'], label='Historical Data')\n",
        "plt.plot(forecast_index, forecast, label='Forecast', color='red')\n",
        "plt.legend()\n",
        "plt.show()"
      ],
      "metadata": {
        "id": "7vA4SnHuD0au",
        "outputId": "18c89c3b-3778-41b1-cf48-5828528372b1",
        "colab": {
          "base_uri": "https://localhost:8080/",
          "height": 522
        }
      },
      "execution_count": 12,
      "outputs": [
        {
          "output_type": "display_data",
          "data": {
            "text/plain": [
              "<Figure size 1000x600 with 1 Axes>"
            ],
            "image/png": "[encoded data removed]"
          },
          "metadata": {}
        }
      ]
    },
    {
      "cell_type": "markdown",
      "source": [
        "## Evaluate Model Performance"
      ],
      "metadata": {
        "id": "vnKthZv361UT"
      }
    },
    {
      "cell_type": "code",
      "source": [
        "# Get in-sample predictions\n",
        "df['ARIMA_Pred'] = arima_result.predict(start=0, end=len(df)-1)\n",
        "\n",
        "# Compute errors\n",
        "mae = mean_absolute_error(df['Close'], df['ARIMA_Pred'])\n",
        "\n",
        "# Compute RMSE (Root Mean Squared Error)\n",
        "mse = mean_squared_error(df['Close'], df['ARIMA_Pred'])\n",
        "rmse = np.sqrt(mse)\n",
        "\n",
        "# Print the error metrics\n",
        "print(f\"Mean Absolute Error (MAE): {mae}\")\n",
        "print(f\"Root Mean Squared Error (RMSE): {rmse}\")"
      ],
      "metadata": {
        "id": "PaIzpDXR6j-J",
        "outputId": "750059f1-d766-4815-d14f-a52c73431597",
        "colab": {
          "base_uri": "https://localhost:8080/"
        }
      },
      "execution_count": 14,
      "outputs": [
        {
          "output_type": "stream",
          "name": "stdout",
          "text": [
            "Mean Absolute Error (MAE): 474.20815847788344\n",
            "Root Mean Squared Error (RMSE): 1013.0106395657398\n"
          ]
        }
      ]
    },
    {
      "cell_type": "code",
      "source": [
        "# Get in-sample predictions from the SARIMA model\n",
        "df['SARIMA_Pred'] = sarima_result.predict(start=0, end=len(df)-1)\n",
        "\n",
        "# Compute Mean Absolute Error (MAE)\n",
        "mae = mean_absolute_error(df['Close'], df['SARIMA_Pred'])\n",
        "\n",
        "# Compute Root Mean Squared Error (RMSE)\n",
        "mse = mean_squared_error(df['Close'], df['SARIMA_Pred'])\n",
        "rmse = np.sqrt(mse)\n",
        "\n",
        "# Print the error metrics\n",
        "print(f\"Mean Absolute Error (MAE): {mae}\")\n",
        "print(f\"Root Mean Squared Error (RMSE): {rmse}\")"
      ],
      "metadata": {
        "id": "-z3B3UFx6_JA",
        "outputId": "d530a2b8-7048-4e9b-e324-3a6a19395b70",
        "colab": {
          "base_uri": "https://localhost:8080/"
        }
      },
      "execution_count": 15,
      "outputs": [
        {
          "output_type": "stream",
          "name": "stdout",
          "text": [
            "Mean Absolute Error (MAE): 471.48538429563195\n",
            "Root Mean Squared Error (RMSE): 961.615973019695\n"
          ]
        }
      ]
    },
    {
      "cell_type": "markdown",
      "source": [
        "### Hyperparameter tuning"
      ],
      "metadata": {
        "id": "lEKx9GZiHV5R"
      }
    },
    {
      "cell_type": "code",
      "source": [
        "import pmdarima as pm\n",
        "import numpy as np\n",
        "import pandas as pd\n",
        "from sklearn.metrics import mean_absolute_error, mean_squared_error\n",
        "\n",
        "# Assume df is your DataFrame and 'Close' is the column you're forecasting\n",
        "\n",
        "# Use auto_arima to automatically tune the SARIMA model.\n",
        "# Adjust 'm' (seasonal period) as per your data frequency (e.g., m=12 for monthly data with yearly seasonality).\n",
        "auto_model = pm.auto_arima(\n",
        "    df['Close'],\n",
        "    seasonal=True,\n",
        "    m=12,               # seasonal period, adjust if needed\n",
        "    start_p=0,\n",
        "    start_q=0,\n",
        "    max_p=2,\n",
        "    max_q=2,\n",
        "    d=None,             # let auto_arima determine the order of differencing\n",
        "    start_P=0,\n",
        "    start_Q=0,\n",
        "    max_P=1,\n",
        "    max_Q=1,\n",
        "    D=None,             # let auto_arima determine the seasonal differencing\n",
        "    trace=True,\n",
        "    error_action='ignore',\n",
        "    suppress_warnings=True,\n",
        "    stepwise=True\n",
        ")\n",
        "\n",
        "# Print the summary of the best model\n",
        "print(auto_model.summary())"
      ],
      "metadata": {
        "id": "nr04qraOHlVu",
        "outputId": "e6f7485d-1697-4375-a108-2caf4f528879",
        "colab": {
          "base_uri": "https://localhost:8080/"
        }
      },
      "execution_count": 20,
      "outputs": [
        {
          "output_type": "stream",
          "name": "stdout",
          "text": [
            "Performing stepwise search to minimize aic\n",
            " ARIMA(0,1,0)(0,0,0)[12] intercept   : AIC=62799.015, Time=0.13 sec\n",
            " ARIMA(1,1,0)(1,0,0)[12] intercept   : AIC=62792.065, Time=1.17 sec\n",
            " ARIMA(0,1,1)(0,0,1)[12] intercept   : AIC=62792.808, Time=1.36 sec\n",
            " ARIMA(0,1,0)(0,0,0)[12]             : AIC=62799.967, Time=0.07 sec\n",
            " ARIMA(1,1,0)(0,0,0)[12] intercept   : AIC=62796.020, Time=0.09 sec\n",
            " ARIMA(1,1,0)(1,0,1)[12] intercept   : AIC=62780.094, Time=4.80 sec\n",
            " ARIMA(1,1,0)(0,0,1)[12] intercept   : AIC=62792.668, Time=1.74 sec\n",
            " ARIMA(0,1,0)(1,0,1)[12] intercept   : AIC=62782.243, Time=2.79 sec\n",
            " ARIMA(2,1,0)(1,0,1)[12] intercept   : AIC=62781.401, Time=4.79 sec\n",
            " ARIMA(1,1,1)(1,0,1)[12] intercept   : AIC=62781.729, Time=7.14 sec\n",
            " ARIMA(0,1,1)(1,0,1)[12] intercept   : AIC=62780.173, Time=3.84 sec\n",
            " ARIMA(2,1,1)(1,0,1)[12] intercept   : AIC=62783.686, Time=5.94 sec\n",
            " ARIMA(1,1,0)(1,0,1)[12]             : AIC=62780.870, Time=3.48 sec\n",
            "\n",
            "Best model:  ARIMA(1,1,0)(1,0,1)[12] intercept\n",
            "Total fit time: 37.418 seconds\n",
            "                                      SARIMAX Results                                       \n",
            "============================================================================================\n",
            "Dep. Variable:                                    y   No. Observations:                 3790\n",
            "Model:             SARIMAX(1, 1, 0)x(1, 0, [1], 12)   Log Likelihood              -31385.047\n",
            "Date:                              Sat, 01 Feb 2025   AIC                          62780.094\n",
            "Time:                                      15:36:54   BIC                          62811.294\n",
            "Sample:                                  09-18-2014   HQIC                         62791.184\n",
            "                                       - 02-01-2025                                         \n",
            "Covariance Type:                                opg                                         \n",
            "==============================================================================\n",
            "                 coef    std err          z      P>|z|      [0.025      0.975]\n",
            "------------------------------------------------------------------------------\n",
            "intercept     27.8108     26.289      1.058      0.290     -23.715      79.337\n",
            "ar.L1         -0.0329      0.009     -3.745      0.000      -0.050      -0.016\n",
            "ar.S.L12      -0.7242      0.071    -10.154      0.000      -0.864      -0.584\n",
            "ma.S.L12       0.6728      0.076      8.878      0.000       0.524       0.821\n",
            "sigma2      9.218e+05   8214.692    112.209      0.000    9.06e+05    9.38e+05\n",
            "===================================================================================\n",
            "Ljung-Box (L1) (Q):                   0.00   Jarque-Bera (JB):             23081.24\n",
            "Prob(Q):                              1.00   Prob(JB):                         0.00\n",
            "Heteroskedasticity (H):              25.31   Skew:                             0.32\n",
            "Prob(H) (two-sided):                  0.00   Kurtosis:                        15.07\n",
            "===================================================================================\n",
            "\n",
            "Warnings:\n",
            "[1] Covariance matrix calculated using the outer product of gradients (complex-step).\n"
          ]
        }
      ]
    },
    {
      "cell_type": "code",
      "source": [
        "# Generate in-sample predictions\n",
        "# Note: 'predict_in_sample' gives predictions for the training data.\n",
        "df['SARIMA_Pred'] = auto_model.predict_in_sample(start=0, end=len(df) - 1)\n",
        "\n",
        "# Calculate error metrics\n",
        "mae = mean_absolute_error(df['Close'], df['SARIMA_Pred'])\n",
        "mse = mean_squared_error(df['Close'], df['SARIMA_Pred'])\n",
        "rmse = np.sqrt(mse)\n",
        "\n",
        "# Print the error metrics\n",
        "print(f\"Mean Absolute Error (MAE): {mae}\")\n",
        "print(f\"Root Mean Squared Error (RMSE): {rmse}\")"
      ],
      "metadata": {
        "id": "THA2B1_PM2Sy"
      },
      "execution_count": null,
      "outputs": []
    },
    {
      "cell_type": "markdown",
      "source": [
        "### Forecast Future Values"
      ],
      "metadata": {
        "id": "48Ho4HMBLZC1"
      }
    },
    {
      "cell_type": "code",
      "source": [
        "# Forecasting the next 12 periods\n",
        "n_periods = 12\n",
        "forecast, conf_int = auto_model.predict(n_periods=n_periods, return_conf_int=True)\n",
        "\n",
        "# Create an index for the forecasted periods\n",
        "# (adjust this to suit your DataFrame's datetime index or desired index)\n",
        "forecast_index = pd.date_range(start=df.index[-1], periods=n_periods+1, freq='M')[1:]\n",
        "\n",
        "# Create a DataFrame for the forecast\n",
        "forecast_df = pd.DataFrame({\n",
        "    'Forecast': forecast,\n",
        "    'Lower CI': conf_int[:, 0],\n",
        "    'Upper CI': conf_int[:, 1]\n",
        "}, index=forecast_index)\n",
        "\n",
        "print(forecast_df)"
      ],
      "metadata": {
        "id": "SFlQuJFtLOSS"
      },
      "execution_count": null,
      "outputs": []
    }
  ]
}