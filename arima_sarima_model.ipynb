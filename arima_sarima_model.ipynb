{
  "nbformat": 4,
  "nbformat_minor": 0,
  "metadata": {
    "colab": {
      "provenance": [],
      "authorship_tag": "ABX9TyPfSRlVWtV7Renxm1nXP1Xx",
      "include_colab_link": true
    },
    "kernelspec": {
      "name": "python3",
      "display_name": "Python 3"
    },
    "language_info": {
      "name": "python"
    }
  },
  "cells": [
    {
      "cell_type": "markdown",
      "metadata": {
        "id": "view-in-github",
        "colab_type": "text"
      },
      "source": [
        "<a href=\"https://colab.research.google.com/github/bonareri/Bitcoin-Prediction-Analysis/blob/main/arima_sarima_model.ipynb\" target=\"_parent\"><img src=\"https://colab.research.google.com/assets/colab-badge.svg\" alt=\"Open In Colab\"/></a>"
      ]
    },
    {
      "cell_type": "markdown",
      "source": [
        "# ARIMA Model for Time Series Forecasting"
      ],
      "metadata": {
        "id": "3uxnOH8ZjerE"
      }
    },
    {
      "cell_type": "markdown",
      "source": [
        "ARIMA (AutoRegressive Integrated Moving Average) is a model used to analyze and forecast time series data. It has three main components:\n",
        "\n",
        "1. AR (AutoRegressive): The relationship between an observation and a number of lagged observations.\n",
        "2. I (Integrated): The differencing of raw observations to make the time series stationary.\n",
        "3. MA (Moving Average): The relationship between an observation and a residual error from a moving average model."
      ],
      "metadata": {
        "id": "t9ik3nE-jg94"
      }
    },
    {
      "cell_type": "markdown",
      "source": [
        "## 1. Import Preprocessed Data"
      ],
      "metadata": {
        "id": "rPNRxecVx2FM"
      }
    },
    {
      "cell_type": "code",
      "source": [
        "# Import necessary libraries\n",
        "import pandas as pd\n",
        "import matplotlib.pyplot as plt\n",
        "import seaborn as sns\n",
        "from statsmodels.tsa.arima.model import ARIMA\n",
        "from sklearn.metrics import mean_absolute_error, mean_squared_error"
      ],
      "metadata": {
        "id": "9zMdLeRXyI-D"
      },
      "execution_count": 12,
      "outputs": []
    },
    {
      "cell_type": "code",
      "execution_count": 2,
      "metadata": {
        "colab": {
          "base_uri": "https://localhost:8080/",
          "height": 237
        },
        "id": "DGibElFwE7GQ",
        "outputId": "c03dbf02-38f3-4dde-a34b-37318a6ba3f3"
      },
      "outputs": [
        {
          "output_type": "execute_result",
          "data": {
            "text/plain": [
              "                 Close        High         Low        Open    Volume  \\\n",
              "Date                                                                   \n",
              "2014-09-18  424.440002  456.859985  413.104004  456.859985  34483200   \n",
              "2014-09-19  394.795990  427.834991  384.532013  424.102997  37919700   \n",
              "2014-09-20  408.903992  423.295990  389.882996  394.673004  36863600   \n",
              "2014-09-21  398.821014  412.425995  393.181000  408.084991  26580100   \n",
              "2014-09-22  402.152008  406.915985  397.130005  399.100006  24127600   \n",
              "\n",
              "            Close_diff  Close_scaled  \n",
              "Date                                  \n",
              "2014-09-18  -32.894012      0.002325  \n",
              "2014-09-19  -29.644012      0.002045  \n",
              "2014-09-20   14.108002      0.002178  \n",
              "2014-09-21  -10.082977      0.002083  \n",
              "2014-09-22    3.330994      0.002114  "
            ],
            "text/html": [
              "\n",
              "  <div id=\"df-8ee20969-7b20-4cce-8cfd-81d023f365d8\" class=\"colab-df-container\">\n",
              "    <div>\n",
              "<style scoped>\n",
              "    .dataframe tbody tr th:only-of-type {\n",
              "        vertical-align: middle;\n",
              "    }\n",
              "\n",
              "    .dataframe tbody tr th {\n",
              "        vertical-align: top;\n",
              "    }\n",
              "\n",
              "    .dataframe thead th {\n",
              "        text-align: right;\n",
              "    }\n",
              "</style>\n",
              "<table border=\"1\" class=\"dataframe\">\n",
              "  <thead>\n",
              "    <tr style=\"text-align: right;\">\n",
              "      <th></th>\n",
              "      <th>Close</th>\n",
              "      <th>High</th>\n",
              "      <th>Low</th>\n",
              "      <th>Open</th>\n",
              "      <th>Volume</th>\n",
              "      <th>Close_diff</th>\n",
              "      <th>Close_scaled</th>\n",
              "    </tr>\n",
              "    <tr>\n",
              "      <th>Date</th>\n",
              "      <th></th>\n",
              "      <th></th>\n",
              "      <th></th>\n",
              "      <th></th>\n",
              "      <th></th>\n",
              "      <th></th>\n",
              "      <th></th>\n",
              "    </tr>\n",
              "  </thead>\n",
              "  <tbody>\n",
              "    <tr>\n",
              "      <th>2014-09-18</th>\n",
              "      <td>424.440002</td>\n",
              "      <td>456.859985</td>\n",
              "      <td>413.104004</td>\n",
              "      <td>456.859985</td>\n",
              "      <td>34483200</td>\n",
              "      <td>-32.894012</td>\n",
              "      <td>0.002325</td>\n",
              "    </tr>\n",
              "    <tr>\n",
              "      <th>2014-09-19</th>\n",
              "      <td>394.795990</td>\n",
              "      <td>427.834991</td>\n",
              "      <td>384.532013</td>\n",
              "      <td>424.102997</td>\n",
              "      <td>37919700</td>\n",
              "      <td>-29.644012</td>\n",
              "      <td>0.002045</td>\n",
              "    </tr>\n",
              "    <tr>\n",
              "      <th>2014-09-20</th>\n",
              "      <td>408.903992</td>\n",
              "      <td>423.295990</td>\n",
              "      <td>389.882996</td>\n",
              "      <td>394.673004</td>\n",
              "      <td>36863600</td>\n",
              "      <td>14.108002</td>\n",
              "      <td>0.002178</td>\n",
              "    </tr>\n",
              "    <tr>\n",
              "      <th>2014-09-21</th>\n",
              "      <td>398.821014</td>\n",
              "      <td>412.425995</td>\n",
              "      <td>393.181000</td>\n",
              "      <td>408.084991</td>\n",
              "      <td>26580100</td>\n",
              "      <td>-10.082977</td>\n",
              "      <td>0.002083</td>\n",
              "    </tr>\n",
              "    <tr>\n",
              "      <th>2014-09-22</th>\n",
              "      <td>402.152008</td>\n",
              "      <td>406.915985</td>\n",
              "      <td>397.130005</td>\n",
              "      <td>399.100006</td>\n",
              "      <td>24127600</td>\n",
              "      <td>3.330994</td>\n",
              "      <td>0.002114</td>\n",
              "    </tr>\n",
              "  </tbody>\n",
              "</table>\n",
              "</div>\n",
              "    <div class=\"colab-df-buttons\">\n",
              "\n",
              "  <div class=\"colab-df-container\">\n",
              "    <button class=\"colab-df-convert\" onclick=\"convertToInteractive('df-8ee20969-7b20-4cce-8cfd-81d023f365d8')\"\n",
              "            title=\"Convert this dataframe to an interactive table.\"\n",
              "            style=\"display:none;\">\n",
              "\n",
              "  <svg xmlns=\"http://www.w3.org/2000/svg\" height=\"24px\" viewBox=\"0 -960 960 960\">\n",
              "    <path d=\"M120-120v-720h720v720H120Zm60-500h600v-160H180v160Zm220 220h160v-160H400v160Zm0 220h160v-160H400v160ZM180-400h160v-160H180v160Zm440 0h160v-160H620v160ZM180-180h160v-160H180v160Zm440 0h160v-160H620v160Z\"/>\n",
              "  </svg>\n",
              "    </button>\n",
              "\n",
              "  <style>\n",
              "    .colab-df-container {\n",
              "      display:flex;\n",
              "      gap: 12px;\n",
              "    }\n",
              "\n",
              "    .colab-df-convert {\n",
              "      background-color: #E8F0FE;\n",
              "      border: none;\n",
              "      border-radius: 50%;\n",
              "      cursor: pointer;\n",
              "      display: none;\n",
              "      fill: #1967D2;\n",
              "      height: 32px;\n",
              "      padding: 0 0 0 0;\n",
              "      width: 32px;\n",
              "    }\n",
              "\n",
              "    .colab-df-convert:hover {\n",
              "      background-color: #E2EBFA;\n",
              "      box-shadow: 0px 1px 2px rgba(60, 64, 67, 0.3), 0px 1px 3px 1px rgba(60, 64, 67, 0.15);\n",
              "      fill: #174EA6;\n",
              "    }\n",
              "\n",
              "    .colab-df-buttons div {\n",
              "      margin-bottom: 4px;\n",
              "    }\n",
              "\n",
              "    [theme=dark] .colab-df-convert {\n",
              "      background-color: #3B4455;\n",
              "      fill: #D2E3FC;\n",
              "    }\n",
              "\n",
              "    [theme=dark] .colab-df-convert:hover {\n",
              "      background-color: #434B5C;\n",
              "      box-shadow: 0px 1px 3px 1px rgba(0, 0, 0, 0.15);\n",
              "      filter: drop-shadow(0px 1px 2px rgba(0, 0, 0, 0.3));\n",
              "      fill: #FFFFFF;\n",
              "    }\n",
              "  </style>\n",
              "\n",
              "    <script>\n",
              "      const buttonEl =\n",
              "        document.querySelector('#df-8ee20969-7b20-4cce-8cfd-81d023f365d8 button.colab-df-convert');\n",
              "      buttonEl.style.display =\n",
              "        google.colab.kernel.accessAllowed ? 'block' : 'none';\n",
              "\n",
              "      async function convertToInteractive(key) {\n",
              "        const element = document.querySelector('#df-8ee20969-7b20-4cce-8cfd-81d023f365d8');\n",
              "        const dataTable =\n",
              "          await google.colab.kernel.invokeFunction('convertToInteractive',\n",
              "                                                    [key], {});\n",
              "        if (!dataTable) return;\n",
              "\n",
              "        const docLinkHtml = 'Like what you see? Visit the ' +\n",
              "          '<a target=\"_blank\" href=https://colab.research.google.com/notebooks/data_table.ipynb>data table notebook</a>'\n",
              "          + ' to learn more about interactive tables.';\n",
              "        element.innerHTML = '';\n",
              "        dataTable['output_type'] = 'display_data';\n",
              "        await google.colab.output.renderOutput(dataTable, element);\n",
              "        const docLink = document.createElement('div');\n",
              "        docLink.innerHTML = docLinkHtml;\n",
              "        element.appendChild(docLink);\n",
              "      }\n",
              "    </script>\n",
              "  </div>\n",
              "\n",
              "\n",
              "<div id=\"df-037b5fab-8580-4b5d-93f3-98b143227da0\">\n",
              "  <button class=\"colab-df-quickchart\" onclick=\"quickchart('df-037b5fab-8580-4b5d-93f3-98b143227da0')\"\n",
              "            title=\"Suggest charts\"\n",
              "            style=\"display:none;\">\n",
              "\n",
              "<svg xmlns=\"http://www.w3.org/2000/svg\" height=\"24px\"viewBox=\"0 0 24 24\"\n",
              "     width=\"24px\">\n",
              "    <g>\n",
              "        <path d=\"M19 3H5c-1.1 0-2 .9-2 2v14c0 1.1.9 2 2 2h14c1.1 0 2-.9 2-2V5c0-1.1-.9-2-2-2zM9 17H7v-7h2v7zm4 0h-2V7h2v10zm4 0h-2v-4h2v4z\"/>\n",
              "    </g>\n",
              "</svg>\n",
              "  </button>\n",
              "\n",
              "<style>\n",
              "  .colab-df-quickchart {\n",
              "      --bg-color: #E8F0FE;\n",
              "      --fill-color: #1967D2;\n",
              "      --hover-bg-color: #E2EBFA;\n",
              "      --hover-fill-color: #174EA6;\n",
              "      --disabled-fill-color: #AAA;\n",
              "      --disabled-bg-color: #DDD;\n",
              "  }\n",
              "\n",
              "  [theme=dark] .colab-df-quickchart {\n",
              "      --bg-color: #3B4455;\n",
              "      --fill-color: #D2E3FC;\n",
              "      --hover-bg-color: #434B5C;\n",
              "      --hover-fill-color: #FFFFFF;\n",
              "      --disabled-bg-color: #3B4455;\n",
              "      --disabled-fill-color: #666;\n",
              "  }\n",
              "\n",
              "  .colab-df-quickchart {\n",
              "    background-color: var(--bg-color);\n",
              "    border: none;\n",
              "    border-radius: 50%;\n",
              "    cursor: pointer;\n",
              "    display: none;\n",
              "    fill: var(--fill-color);\n",
              "    height: 32px;\n",
              "    padding: 0;\n",
              "    width: 32px;\n",
              "  }\n",
              "\n",
              "  .colab-df-quickchart:hover {\n",
              "    background-color: var(--hover-bg-color);\n",
              "    box-shadow: 0 1px 2px rgba(60, 64, 67, 0.3), 0 1px 3px 1px rgba(60, 64, 67, 0.15);\n",
              "    fill: var(--button-hover-fill-color);\n",
              "  }\n",
              "\n",
              "  .colab-df-quickchart-complete:disabled,\n",
              "  .colab-df-quickchart-complete:disabled:hover {\n",
              "    background-color: var(--disabled-bg-color);\n",
              "    fill: var(--disabled-fill-color);\n",
              "    box-shadow: none;\n",
              "  }\n",
              "\n",
              "  .colab-df-spinner {\n",
              "    border: 2px solid var(--fill-color);\n",
              "    border-color: transparent;\n",
              "    border-bottom-color: var(--fill-color);\n",
              "    animation:\n",
              "      spin 1s steps(1) infinite;\n",
              "  }\n",
              "\n",
              "  @keyframes spin {\n",
              "    0% {\n",
              "      border-color: transparent;\n",
              "      border-bottom-color: var(--fill-color);\n",
              "      border-left-color: var(--fill-color);\n",
              "    }\n",
              "    20% {\n",
              "      border-color: transparent;\n",
              "      border-left-color: var(--fill-color);\n",
              "      border-top-color: var(--fill-color);\n",
              "    }\n",
              "    30% {\n",
              "      border-color: transparent;\n",
              "      border-left-color: var(--fill-color);\n",
              "      border-top-color: var(--fill-color);\n",
              "      border-right-color: var(--fill-color);\n",
              "    }\n",
              "    40% {\n",
              "      border-color: transparent;\n",
              "      border-right-color: var(--fill-color);\n",
              "      border-top-color: var(--fill-color);\n",
              "    }\n",
              "    60% {\n",
              "      border-color: transparent;\n",
              "      border-right-color: var(--fill-color);\n",
              "    }\n",
              "    80% {\n",
              "      border-color: transparent;\n",
              "      border-right-color: var(--fill-color);\n",
              "      border-bottom-color: var(--fill-color);\n",
              "    }\n",
              "    90% {\n",
              "      border-color: transparent;\n",
              "      border-bottom-color: var(--fill-color);\n",
              "    }\n",
              "  }\n",
              "</style>\n",
              "\n",
              "  <script>\n",
              "    async function quickchart(key) {\n",
              "      const quickchartButtonEl =\n",
              "        document.querySelector('#' + key + ' button');\n",
              "      quickchartButtonEl.disabled = true;  // To prevent multiple clicks.\n",
              "      quickchartButtonEl.classList.add('colab-df-spinner');\n",
              "      try {\n",
              "        const charts = await google.colab.kernel.invokeFunction(\n",
              "            'suggestCharts', [key], {});\n",
              "      } catch (error) {\n",
              "        console.error('Error during call to suggestCharts:', error);\n",
              "      }\n",
              "      quickchartButtonEl.classList.remove('colab-df-spinner');\n",
              "      quickchartButtonEl.classList.add('colab-df-quickchart-complete');\n",
              "    }\n",
              "    (() => {\n",
              "      let quickchartButtonEl =\n",
              "        document.querySelector('#df-037b5fab-8580-4b5d-93f3-98b143227da0 button');\n",
              "      quickchartButtonEl.style.display =\n",
              "        google.colab.kernel.accessAllowed ? 'block' : 'none';\n",
              "    })();\n",
              "  </script>\n",
              "</div>\n",
              "\n",
              "    </div>\n",
              "  </div>\n"
            ],
            "application/vnd.google.colaboratory.intrinsic+json": {
              "type": "dataframe",
              "variable_name": "df",
              "summary": "{\n  \"name\": \"df\",\n  \"rows\": 3788,\n  \"fields\": [\n    {\n      \"column\": \"Date\",\n      \"properties\": {\n        \"dtype\": \"date\",\n        \"min\": \"2014-09-18 00:00:00\",\n        \"max\": \"2025-01-31 00:00:00\",\n        \"num_unique_values\": 3788,\n        \"samples\": [\n          \"2019-01-15 00:00:00\",\n          \"2020-11-21 00:00:00\",\n          \"2015-06-08 00:00:00\"\n        ],\n        \"semantic_type\": \"\",\n        \"description\": \"\"\n      }\n    },\n    {\n      \"column\": \"Close\",\n      \"properties\": {\n        \"dtype\": \"number\",\n        \"std\": 23163.313947690174,\n        \"min\": 178.10299682617188,\n        \"max\": 106146.265625,\n        \"num_unique_values\": 3785,\n        \"samples\": [\n          11805.6533203125,\n          9818.349609375,\n          229.04800415039065\n        ],\n        \"semantic_type\": \"\",\n        \"description\": \"\"\n      }\n    },\n    {\n      \"column\": \"High\",\n      \"properties\": {\n        \"dtype\": \"number\",\n        \"std\": 23633.570488610865,\n        \"min\": 211.7310028076172,\n        \"max\": 109114.8828125,\n        \"num_unique_values\": 3785,\n        \"samples\": [\n          11895.091796875,\n          9818.349609375,\n          229.4640045166016\n        ],\n        \"semantic_type\": \"\",\n        \"description\": \"\"\n      }\n    },\n    {\n      \"column\": \"Low\",\n      \"properties\": {\n        \"dtype\": \"number\",\n        \"std\": 22615.90031883545,\n        \"min\": 171.50999450683594,\n        \"max\": 105291.734375,\n        \"num_unique_values\": 3786,\n        \"samples\": [\n          3624.67333984375,\n          17671.384765625,\n          222.8390045166016\n        ],\n        \"semantic_type\": \"\",\n        \"description\": \"\"\n      }\n    },\n    {\n      \"column\": \"Open\",\n      \"properties\": {\n        \"dtype\": \"number\",\n        \"std\": 23128.356082482747,\n        \"min\": 176.89700317382812,\n        \"max\": 106147.296875,\n        \"num_unique_values\": 3784,\n        \"samples\": [\n          3651.87109375,\n          23263.416015625,\n          3854.6884765625\n        ],\n        \"semantic_type\": \"\",\n        \"description\": \"\"\n      }\n    },\n    {\n      \"column\": \"Volume\",\n      \"properties\": {\n        \"dtype\": \"number\",\n        \"std\": 20630225909,\n        \"min\": 5914570,\n        \"max\": 350967941479,\n        \"num_unique_values\": 3788,\n        \"samples\": [\n          5537192302,\n          39650210707,\n          23378400\n        ],\n        \"semantic_type\": \"\",\n        \"description\": \"\"\n      }\n    },\n    {\n      \"column\": \"Close_diff\",\n      \"properties\": {\n        \"dtype\": \"number\",\n        \"std\": 959.939440236216,\n        \"min\": -7554.0390625,\n        \"max\": 8227.296875,\n        \"num_unique_values\": 3781,\n        \"samples\": [\n          17.760009765625,\n          -501.689453125,\n          -458.05078125\n        ],\n        \"semantic_type\": \"\",\n        \"description\": \"\"\n      }\n    },\n    {\n      \"column\": \"Close_scaled\",\n      \"properties\": {\n        \"dtype\": \"number\",\n        \"std\": 0.21858748300625644,\n        \"min\": 0.0,\n        \"max\": 1.0,\n        \"num_unique_values\": 3785,\n        \"samples\": [\n          0.1097268277103721,\n          0.0909730467477763,\n          0.0004807576734436\n        ],\n        \"semantic_type\": \"\",\n        \"description\": \"\"\n      }\n    }\n  ]\n}"
            }
          },
          "metadata": {},
          "execution_count": 2
        }
      ],
      "source": [
        "# Load preprocessed data\n",
        "df = pd.read_csv('preprocessed_bitcoin_data.csv', index_col='Date', parse_dates=True)\n",
        "\n",
        "# Display the first few rows of the data\n",
        "df.head()"
      ]
    },
    {
      "cell_type": "markdown",
      "source": [
        "## ARIMA Model"
      ],
      "metadata": {
        "id": "MSzu_PVe3YyO"
      }
    },
    {
      "cell_type": "code",
      "source": [
        "# Define ARIMA model with chosen (p, d, q)\n",
        "model = ARIMA(df['Close'], order=(2, 1, 2))  # Adjust (p, d, q) based on ACF/PACF\n",
        "arima_result = model.fit()\n",
        "\n",
        "# Print model summary\n",
        "print(arima_result.summary())\n"
      ],
      "metadata": {
        "id": "cuXfdq88x9Uz",
        "outputId": "9ff9a261-a9f7-43d2-c6c3-f5949bb09101",
        "colab": {
          "base_uri": "https://localhost:8080/"
        }
      },
      "execution_count": 6,
      "outputs": [
        {
          "output_type": "stream",
          "name": "stderr",
          "text": [
            "/usr/local/lib/python3.11/dist-packages/statsmodels/tsa/base/tsa_model.py:473: ValueWarning: A date index has been provided, but it has no associated frequency information and so will be ignored when e.g. forecasting.\n",
            "  self._init_dates(dates, freq)\n",
            "/usr/local/lib/python3.11/dist-packages/statsmodels/tsa/base/tsa_model.py:473: ValueWarning: A date index has been provided, but it has no associated frequency information and so will be ignored when e.g. forecasting.\n",
            "  self._init_dates(dates, freq)\n",
            "/usr/local/lib/python3.11/dist-packages/statsmodels/tsa/base/tsa_model.py:473: ValueWarning: A date index has been provided, but it has no associated frequency information and so will be ignored when e.g. forecasting.\n",
            "  self._init_dates(dates, freq)\n"
          ]
        },
        {
          "output_type": "stream",
          "name": "stdout",
          "text": [
            "                               SARIMAX Results                                \n",
            "==============================================================================\n",
            "Dep. Variable:                  Close   No. Observations:                 3788\n",
            "Model:                 ARIMA(2, 1, 2)   Log Likelihood              -31374.752\n",
            "Date:                Fri, 31 Jan 2025   AIC                          62759.504\n",
            "Time:                        15:02:35   BIC                          62790.701\n",
            "Sample:                             0   HQIC                         62770.594\n",
            "                               - 3788                                         \n",
            "Covariance Type:                  opg                                         \n",
            "==============================================================================\n",
            "                 coef    std err          z      P>|z|      [0.025      0.975]\n",
            "------------------------------------------------------------------------------\n",
            "ar.L1          0.5343      0.159      3.352      0.001       0.222       0.847\n",
            "ar.L2          0.4333      0.160      2.715      0.007       0.120       0.746\n",
            "ma.L1         -0.5682      0.163     -3.490      0.000      -0.887      -0.249\n",
            "ma.L2         -0.3904      0.163     -2.402      0.016      -0.709      -0.072\n",
            "sigma2      9.226e+05   7922.189    116.452      0.000    9.07e+05    9.38e+05\n",
            "===================================================================================\n",
            "Ljung-Box (L1) (Q):                   0.02   Jarque-Bera (JB):             24534.91\n",
            "Prob(Q):                              0.88   Prob(JB):                         0.00\n",
            "Heteroskedasticity (H):              24.92   Skew:                             0.24\n",
            "Prob(H) (two-sided):                  0.00   Kurtosis:                        15.46\n",
            "===================================================================================\n",
            "\n",
            "Warnings:\n",
            "[1] Covariance matrix calculated using the outer product of gradients (complex-step).\n"
          ]
        }
      ]
    },
    {
      "cell_type": "code",
      "source": [
        "# Forecast future values\n",
        "n_periods = 30  # Adjust based on how many days ahead you want to predict\n",
        "forecast = arima_result.forecast(steps=n_periods)\n",
        "\n",
        "# Plot actual vs predicted values\n",
        "plt.figure(figsize=(10, 5))\n",
        "plt.plot(df.index, df['Close'], label='Actual Prices')\n",
        "plt.plot(pd.date_range(df.index[-1], periods=n_periods+1, freq='D')[1:], forecast, label='Forecasted Prices', linestyle='dashed')\n",
        "plt.legend()\n",
        "plt.title('ARIMA Forecast for Bitcoin Prices')\n",
        "plt.show()"
      ],
      "metadata": {
        "id": "stkt20MZ3gHV",
        "outputId": "1b7ccec3-1168-4852-8442-ca11911f6d3b",
        "colab": {
          "base_uri": "https://localhost:8080/",
          "height": 557
        }
      },
      "execution_count": 11,
      "outputs": [
        {
          "output_type": "stream",
          "name": "stderr",
          "text": [
            "/usr/local/lib/python3.11/dist-packages/statsmodels/tsa/base/tsa_model.py:837: ValueWarning: No supported index is available. Prediction results will be given with an integer index beginning at `start`.\n",
            "  return get_prediction_index(\n",
            "/usr/local/lib/python3.11/dist-packages/statsmodels/tsa/base/tsa_model.py:837: FutureWarning: No supported index is available. In the next version, calling this method in a model without a supported index will result in an exception.\n",
            "  return get_prediction_index(\n"
          ]
        },
        {
          "output_type": "display_data",
          "data": {
            "text/plain": [
              "<Figure size 1000x500 with 1 Axes>"
            ],
            "image/png": "[encoded data removed]"
          },
          "metadata": {}
        }
      ]
    },
    {
      "cell_type": "markdown",
      "source": [
        "## Evaluate Model Performance"
      ],
      "metadata": {
        "id": "vnKthZv361UT"
      }
    },
    {
      "cell_type": "code",
      "source": [
        "# Get in-sample predictions\n",
        "df['ARIMA_Pred'] = arima_result.predict(start=0, end=len(df)-1)\n",
        "\n",
        "# Compute errors\n",
        "mae = mean_absolute_error(df['Close'], df['ARIMA_Pred'])\n",
        "\n",
        "# Compute RMSE (Root Mean Squared Error)\n",
        "mse = mean_squared_error(df['Close'], df['ARIMA_Pred'])\n",
        "rmse = np.sqrt(mse)\n",
        "\n",
        "# Print the error metrics\n",
        "print(f\"Mean Absolute Error (MAE): {mae}\")\n",
        "print(f\"Root Mean Squared Error (RMSE): {rmse}\")"
      ],
      "metadata": {
        "id": "PaIzpDXR6j-J",
        "outputId": "aefb7963-68c4-4b1d-891a-3261f701257d",
        "colab": {
          "base_uri": "https://localhost:8080/",
          "height": 211
        }
      },
      "execution_count": 14,
      "outputs": [
        {
          "output_type": "error",
          "ename": "NameError",
          "evalue": "name 'np' is not defined",
          "traceback": [
            "\u001b[0;31m---------------------------------------------------------------------------\u001b[0m",
            "\u001b[0;31mNameError\u001b[0m                                 Traceback (most recent call last)",
            "\u001b[0;32m<ipython-input-14-69e66ca65aa9>\u001b[0m in \u001b[0;36m<cell line: 0>\u001b[0;34m()\u001b[0m\n\u001b[1;32m      7\u001b[0m \u001b[0;31m# Compute RMSE (Root Mean Squared Error)\u001b[0m\u001b[0;34m\u001b[0m\u001b[0;34m\u001b[0m\u001b[0m\n\u001b[1;32m      8\u001b[0m \u001b[0mmse\u001b[0m \u001b[0;34m=\u001b[0m \u001b[0mmean_squared_error\u001b[0m\u001b[0;34m(\u001b[0m\u001b[0mdf\u001b[0m\u001b[0;34m[\u001b[0m\u001b[0;34m'Close'\u001b[0m\u001b[0;34m]\u001b[0m\u001b[0;34m,\u001b[0m \u001b[0mdf\u001b[0m\u001b[0;34m[\u001b[0m\u001b[0;34m'ARIMA_Pred'\u001b[0m\u001b[0;34m]\u001b[0m\u001b[0;34m)\u001b[0m\u001b[0;34m\u001b[0m\u001b[0;34m\u001b[0m\u001b[0m\n\u001b[0;32m----> 9\u001b[0;31m \u001b[0mrmse\u001b[0m \u001b[0;34m=\u001b[0m \u001b[0mnp\u001b[0m\u001b[0;34m.\u001b[0m\u001b[0msqrt\u001b[0m\u001b[0;34m(\u001b[0m\u001b[0mmse\u001b[0m\u001b[0;34m)\u001b[0m\u001b[0;34m\u001b[0m\u001b[0;34m\u001b[0m\u001b[0m\n\u001b[0m\u001b[1;32m     10\u001b[0m \u001b[0;34m\u001b[0m\u001b[0m\n\u001b[1;32m     11\u001b[0m \u001b[0;31m# Print the error metrics\u001b[0m\u001b[0;34m\u001b[0m\u001b[0;34m\u001b[0m\u001b[0m\n",
            "\u001b[0;31mNameError\u001b[0m: name 'np' is not defined"
          ]
        }
      ]
    },
    {
      "cell_type": "code",
      "source": [],
      "metadata": {
        "id": "-z3B3UFx6_JA"
      },
      "execution_count": null,
      "outputs": []
    }
  ]
}